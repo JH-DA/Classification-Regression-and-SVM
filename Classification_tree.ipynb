{
 "cells": [
  {
   "cell_type": "markdown",
   "metadata": {},
   "source": [
    "# Classifcation_tree"
   ]
  },
  {
   "cell_type": "code",
   "execution_count": 1,
   "metadata": {},
   "outputs": [],
   "source": [
    "import numpy as np\n",
    "import pandas as pd\n",
    "import seaborn as sns\n",
    "import matplotlib.pyplot as plt"
   ]
  },
  {
   "cell_type": "code",
   "execution_count": 2,
   "metadata": {},
   "outputs": [],
   "source": [
    "import warnings\n",
    "warnings.filterwarnings('ignore')"
   ]
  },
  {
   "cell_type": "code",
   "execution_count": 3,
   "metadata": {},
   "outputs": [],
   "source": [
    "df = pd.read_csv(\"Movie_classification.csv\", header=0)"
   ]
  },
  {
   "cell_type": "code",
   "execution_count": 4,
   "metadata": {},
   "outputs": [
    {
     "data": {
      "text/plain": [
       "(506, 19)"
      ]
     },
     "execution_count": 4,
     "metadata": {},
     "output_type": "execute_result"
    }
   ],
   "source": [
    "df.shape"
   ]
  },
  {
   "cell_type": "code",
   "execution_count": 5,
   "metadata": {},
   "outputs": [],
   "source": [
    "pd.set_option('display.max_rows',19)\n",
    "pd.set_option('display.max_columns',19)"
   ]
  },
  {
   "cell_type": "code",
   "execution_count": 6,
   "metadata": {},
   "outputs": [
    {
     "data": {
      "text/html": [
       "<div>\n",
       "<style scoped>\n",
       "    .dataframe tbody tr th:only-of-type {\n",
       "        vertical-align: middle;\n",
       "    }\n",
       "\n",
       "    .dataframe tbody tr th {\n",
       "        vertical-align: top;\n",
       "    }\n",
       "\n",
       "    .dataframe thead th {\n",
       "        text-align: right;\n",
       "    }\n",
       "</style>\n",
       "<table border=\"1\" class=\"dataframe\">\n",
       "  <thead>\n",
       "    <tr style=\"text-align: right;\">\n",
       "      <th></th>\n",
       "      <th>Marketing expense</th>\n",
       "      <th>Production expense</th>\n",
       "      <th>Multiplex coverage</th>\n",
       "      <th>Budget</th>\n",
       "      <th>Movie_length</th>\n",
       "      <th>Lead_ Actor_Rating</th>\n",
       "      <th>Lead_Actress_rating</th>\n",
       "      <th>Director_rating</th>\n",
       "      <th>Producer_rating</th>\n",
       "      <th>Critic_rating</th>\n",
       "      <th>Trailer_views</th>\n",
       "      <th>3D_available</th>\n",
       "      <th>Time_taken</th>\n",
       "      <th>Twitter_hastags</th>\n",
       "      <th>Genre</th>\n",
       "      <th>Avg_age_actors</th>\n",
       "      <th>Num_multiplex</th>\n",
       "      <th>Collection</th>\n",
       "      <th>Start_Tech_Oscar</th>\n",
       "    </tr>\n",
       "  </thead>\n",
       "  <tbody>\n",
       "    <tr>\n",
       "      <td>0</td>\n",
       "      <td>20.1264</td>\n",
       "      <td>59.62</td>\n",
       "      <td>0.462</td>\n",
       "      <td>36524.125</td>\n",
       "      <td>138.7</td>\n",
       "      <td>7.825</td>\n",
       "      <td>8.095</td>\n",
       "      <td>7.910</td>\n",
       "      <td>7.995</td>\n",
       "      <td>7.94</td>\n",
       "      <td>527367</td>\n",
       "      <td>YES</td>\n",
       "      <td>109.60</td>\n",
       "      <td>223.840</td>\n",
       "      <td>Thriller</td>\n",
       "      <td>23</td>\n",
       "      <td>494</td>\n",
       "      <td>48000</td>\n",
       "      <td>1</td>\n",
       "    </tr>\n",
       "    <tr>\n",
       "      <td>1</td>\n",
       "      <td>20.5462</td>\n",
       "      <td>69.14</td>\n",
       "      <td>0.531</td>\n",
       "      <td>35668.655</td>\n",
       "      <td>152.4</td>\n",
       "      <td>7.505</td>\n",
       "      <td>7.650</td>\n",
       "      <td>7.440</td>\n",
       "      <td>7.470</td>\n",
       "      <td>7.44</td>\n",
       "      <td>494055</td>\n",
       "      <td>NO</td>\n",
       "      <td>146.64</td>\n",
       "      <td>243.456</td>\n",
       "      <td>Drama</td>\n",
       "      <td>42</td>\n",
       "      <td>462</td>\n",
       "      <td>43200</td>\n",
       "      <td>0</td>\n",
       "    </tr>\n",
       "    <tr>\n",
       "      <td>2</td>\n",
       "      <td>20.5458</td>\n",
       "      <td>69.14</td>\n",
       "      <td>0.531</td>\n",
       "      <td>39912.675</td>\n",
       "      <td>134.6</td>\n",
       "      <td>7.485</td>\n",
       "      <td>7.570</td>\n",
       "      <td>7.495</td>\n",
       "      <td>7.515</td>\n",
       "      <td>7.44</td>\n",
       "      <td>547051</td>\n",
       "      <td>NO</td>\n",
       "      <td>147.88</td>\n",
       "      <td>2022.400</td>\n",
       "      <td>Comedy</td>\n",
       "      <td>38</td>\n",
       "      <td>458</td>\n",
       "      <td>69400</td>\n",
       "      <td>1</td>\n",
       "    </tr>\n",
       "    <tr>\n",
       "      <td>3</td>\n",
       "      <td>20.6474</td>\n",
       "      <td>59.36</td>\n",
       "      <td>0.542</td>\n",
       "      <td>38873.890</td>\n",
       "      <td>119.3</td>\n",
       "      <td>6.895</td>\n",
       "      <td>7.035</td>\n",
       "      <td>6.920</td>\n",
       "      <td>7.020</td>\n",
       "      <td>8.26</td>\n",
       "      <td>516279</td>\n",
       "      <td>YES</td>\n",
       "      <td>185.36</td>\n",
       "      <td>225.344</td>\n",
       "      <td>Drama</td>\n",
       "      <td>45</td>\n",
       "      <td>472</td>\n",
       "      <td>66800</td>\n",
       "      <td>1</td>\n",
       "    </tr>\n",
       "    <tr>\n",
       "      <td>4</td>\n",
       "      <td>21.3810</td>\n",
       "      <td>59.36</td>\n",
       "      <td>0.542</td>\n",
       "      <td>39701.585</td>\n",
       "      <td>127.7</td>\n",
       "      <td>6.920</td>\n",
       "      <td>7.070</td>\n",
       "      <td>6.815</td>\n",
       "      <td>7.070</td>\n",
       "      <td>8.26</td>\n",
       "      <td>531448</td>\n",
       "      <td>NO</td>\n",
       "      <td>176.48</td>\n",
       "      <td>225.792</td>\n",
       "      <td>Drama</td>\n",
       "      <td>55</td>\n",
       "      <td>395</td>\n",
       "      <td>72400</td>\n",
       "      <td>1</td>\n",
       "    </tr>\n",
       "  </tbody>\n",
       "</table>\n",
       "</div>"
      ],
      "text/plain": [
       "   Marketing expense  Production expense  Multiplex coverage     Budget  \\\n",
       "0            20.1264               59.62               0.462  36524.125   \n",
       "1            20.5462               69.14               0.531  35668.655   \n",
       "2            20.5458               69.14               0.531  39912.675   \n",
       "3            20.6474               59.36               0.542  38873.890   \n",
       "4            21.3810               59.36               0.542  39701.585   \n",
       "\n",
       "   Movie_length  Lead_ Actor_Rating  Lead_Actress_rating  Director_rating  \\\n",
       "0         138.7               7.825                8.095            7.910   \n",
       "1         152.4               7.505                7.650            7.440   \n",
       "2         134.6               7.485                7.570            7.495   \n",
       "3         119.3               6.895                7.035            6.920   \n",
       "4         127.7               6.920                7.070            6.815   \n",
       "\n",
       "   Producer_rating  Critic_rating  Trailer_views 3D_available  Time_taken  \\\n",
       "0            7.995           7.94         527367          YES      109.60   \n",
       "1            7.470           7.44         494055           NO      146.64   \n",
       "2            7.515           7.44         547051           NO      147.88   \n",
       "3            7.020           8.26         516279          YES      185.36   \n",
       "4            7.070           8.26         531448           NO      176.48   \n",
       "\n",
       "   Twitter_hastags     Genre  Avg_age_actors  Num_multiplex  Collection  \\\n",
       "0          223.840  Thriller              23            494       48000   \n",
       "1          243.456     Drama              42            462       43200   \n",
       "2         2022.400    Comedy              38            458       69400   \n",
       "3          225.344     Drama              45            472       66800   \n",
       "4          225.792     Drama              55            395       72400   \n",
       "\n",
       "   Start_Tech_Oscar  \n",
       "0                 1  \n",
       "1                 0  \n",
       "2                 1  \n",
       "3                 1  \n",
       "4                 1  "
      ]
     },
     "execution_count": 6,
     "metadata": {},
     "output_type": "execute_result"
    }
   ],
   "source": [
    "df.head()"
   ]
  },
  {
   "cell_type": "code",
   "execution_count": 7,
   "metadata": {},
   "outputs": [
    {
     "data": {
      "text/plain": [
       "float64    12\n",
       "int64       5\n",
       "object      2\n",
       "dtype: int64"
      ]
     },
     "execution_count": 7,
     "metadata": {},
     "output_type": "execute_result"
    }
   ],
   "source": [
    "df.dtypes.value_counts()"
   ]
  },
  {
   "cell_type": "code",
   "execution_count": 8,
   "metadata": {},
   "outputs": [
    {
     "data": {
      "text/plain": [
       "False"
      ]
     },
     "execution_count": 8,
     "metadata": {},
     "output_type": "execute_result"
    }
   ],
   "source": [
    "df.duplicated().any()"
   ]
  },
  {
   "cell_type": "code",
   "execution_count": 9,
   "metadata": {},
   "outputs": [
    {
     "name": "stdout",
     "output_type": "stream",
     "text": [
      "YES    279\n",
      "NO     227\n",
      "Name: 3D_available, dtype: int64\n"
     ]
    },
    {
     "data": {
      "text/plain": [
       "<matplotlib.axes._subplots.AxesSubplot at 0x28df1872988>"
      ]
     },
     "execution_count": 9,
     "metadata": {},
     "output_type": "execute_result"
    },
    {
     "data": {
      "image/png": "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\n",
      "text/plain": [
       "<Figure size 432x288 with 1 Axes>"
      ]
     },
     "metadata": {
      "needs_background": "light"
     },
     "output_type": "display_data"
    }
   ],
   "source": [
    "#df['3D_available'].value_counts().plot.bar()\n",
    "print(df['3D_available'].value_counts())\n",
    "sns.countplot(x='3D_available',data=df)"
   ]
  },
  {
   "cell_type": "code",
   "execution_count": 10,
   "metadata": {},
   "outputs": [
    {
     "name": "stdout",
     "output_type": "stream",
     "text": [
      "1    0.545455\n",
      "0    0.454545\n",
      "Name: Start_Tech_Oscar, dtype: float64\n"
     ]
    },
    {
     "data": {
      "text/plain": [
       "<matplotlib.axes._subplots.AxesSubplot at 0x28df1c07248>"
      ]
     },
     "execution_count": 10,
     "metadata": {},
     "output_type": "execute_result"
    },
    {
     "data": {
      "image/png": "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\n",
      "text/plain": [
       "<Figure size 432x288 with 1 Axes>"
      ]
     },
     "metadata": {
      "needs_background": "light"
     },
     "output_type": "display_data"
    }
   ],
   "source": [
    "print(df['Start_Tech_Oscar'].value_counts(normalize=True))\n",
    "sns.countplot(x='Start_Tech_Oscar',data=df)"
   ]
  },
  {
   "cell_type": "code",
   "execution_count": 11,
   "metadata": {},
   "outputs": [
    {
     "data": {
      "text/plain": [
       "<seaborn.axisgrid.FacetGrid at 0x28df1bbce08>"
      ]
     },
     "execution_count": 11,
     "metadata": {},
     "output_type": "execute_result"
    },
    {
     "data": {
      "image/png": "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\n",
      "text/plain": [
       "<Figure size 360x360 with 1 Axes>"
      ]
     },
     "metadata": {
      "needs_background": "light"
     },
     "output_type": "display_data"
    }
   ],
   "source": [
    "sns.catplot(x=\"Genre\", y=\"Avg_age_actors\", kind=\"box\", data=df)"
   ]
  },
  {
   "cell_type": "code",
   "execution_count": 12,
   "metadata": {},
   "outputs": [
    {
     "data": {
      "text/plain": [
       "<matplotlib.axes._subplots.AxesSubplot at 0x28df1b75148>"
      ]
     },
     "execution_count": 12,
     "metadata": {},
     "output_type": "execute_result"
    },
    {
     "data": {
      "image/png": "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\n",
      "text/plain": [
       "<Figure size 1440x720 with 1 Axes>"
      ]
     },
     "metadata": {
      "needs_background": "light"
     },
     "output_type": "display_data"
    }
   ],
   "source": [
    "plt.figure(figsize=(20,10))\n",
    "sns.countplot(x=\"Avg_age_actors\", hue=\"3D_available\",data=df)"
   ]
  },
  {
   "cell_type": "code",
   "execution_count": 13,
   "metadata": {},
   "outputs": [
    {
     "name": "stdout",
     "output_type": "stream",
     "text": [
      "<class 'pandas.core.frame.DataFrame'>\n",
      "RangeIndex: 506 entries, 0 to 505\n",
      "Data columns (total 19 columns):\n",
      "Marketing expense      506 non-null float64\n",
      "Production expense     506 non-null float64\n",
      "Multiplex coverage     506 non-null float64\n",
      "Budget                 506 non-null float64\n",
      "Movie_length           506 non-null float64\n",
      "Lead_ Actor_Rating     506 non-null float64\n",
      "Lead_Actress_rating    506 non-null float64\n",
      "Director_rating        506 non-null float64\n",
      "Producer_rating        506 non-null float64\n",
      "Critic_rating          506 non-null float64\n",
      "Trailer_views          506 non-null int64\n",
      "3D_available           506 non-null object\n",
      "Time_taken             494 non-null float64\n",
      "Twitter_hastags        506 non-null float64\n",
      "Genre                  506 non-null object\n",
      "Avg_age_actors         506 non-null int64\n",
      "Num_multiplex          506 non-null int64\n",
      "Collection             506 non-null int64\n",
      "Start_Tech_Oscar       506 non-null int64\n",
      "dtypes: float64(12), int64(5), object(2)\n",
      "memory usage: 75.2+ KB\n"
     ]
    }
   ],
   "source": [
    "df.info()"
   ]
  },
  {
   "cell_type": "code",
   "execution_count": 14,
   "metadata": {},
   "outputs": [
    {
     "data": {
      "text/plain": [
       "<matplotlib.axes._subplots.AxesSubplot at 0x28df1e3b6c8>"
      ]
     },
     "execution_count": 14,
     "metadata": {},
     "output_type": "execute_result"
    },
    {
     "data": {
      "image/png": "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\n",
      "text/plain": [
       "<Figure size 1440x720 with 1 Axes>"
      ]
     },
     "metadata": {
      "needs_background": "light"
     },
     "output_type": "display_data"
    }
   ],
   "source": [
    "# or use sns.heatmap to detect the missing values\n",
    "plt.figure(figsize=(20,10))\n",
    "sns.heatmap(df.isna(),cbar=False)"
   ]
  },
  {
   "cell_type": "code",
   "execution_count": 15,
   "metadata": {},
   "outputs": [
    {
     "data": {
      "text/plain": [
       "0.023715415019762844"
      ]
     },
     "execution_count": 15,
     "metadata": {},
     "output_type": "execute_result"
    }
   ],
   "source": [
    "df['Time_taken'].isna().sum()/df.shape[0]"
   ]
  },
  {
   "cell_type": "markdown",
   "metadata": {},
   "source": [
    "### Missing Value Imputation"
   ]
  },
  {
   "cell_type": "code",
   "execution_count": 16,
   "metadata": {},
   "outputs": [
    {
     "data": {
      "text/plain": [
       "157.39149797570855"
      ]
     },
     "execution_count": 16,
     "metadata": {},
     "output_type": "execute_result"
    }
   ],
   "source": [
    "df['Time_taken'].mean()"
   ]
  },
  {
   "cell_type": "code",
   "execution_count": 17,
   "metadata": {},
   "outputs": [],
   "source": [
    "df['Time_taken'].fillna(value = df['Time_taken'].mean(), inplace = True)"
   ]
  },
  {
   "cell_type": "code",
   "execution_count": 18,
   "metadata": {},
   "outputs": [
    {
     "name": "stdout",
     "output_type": "stream",
     "text": [
      "<class 'pandas.core.frame.DataFrame'>\n",
      "RangeIndex: 506 entries, 0 to 505\n",
      "Data columns (total 19 columns):\n",
      "Marketing expense      506 non-null float64\n",
      "Production expense     506 non-null float64\n",
      "Multiplex coverage     506 non-null float64\n",
      "Budget                 506 non-null float64\n",
      "Movie_length           506 non-null float64\n",
      "Lead_ Actor_Rating     506 non-null float64\n",
      "Lead_Actress_rating    506 non-null float64\n",
      "Director_rating        506 non-null float64\n",
      "Producer_rating        506 non-null float64\n",
      "Critic_rating          506 non-null float64\n",
      "Trailer_views          506 non-null int64\n",
      "3D_available           506 non-null object\n",
      "Time_taken             506 non-null float64\n",
      "Twitter_hastags        506 non-null float64\n",
      "Genre                  506 non-null object\n",
      "Avg_age_actors         506 non-null int64\n",
      "Num_multiplex          506 non-null int64\n",
      "Collection             506 non-null int64\n",
      "Start_Tech_Oscar       506 non-null int64\n",
      "dtypes: float64(12), int64(5), object(2)\n",
      "memory usage: 75.2+ KB\n"
     ]
    }
   ],
   "source": [
    "df.info()"
   ]
  },
  {
   "cell_type": "code",
   "execution_count": 19,
   "metadata": {},
   "outputs": [
    {
     "name": "stdout",
     "output_type": "stream",
     "text": [
      "0\n"
     ]
    },
    {
     "data": {
      "text/plain": [
       "<matplotlib.axes._subplots.AxesSubplot at 0x28df1fe2688>"
      ]
     },
     "execution_count": 19,
     "metadata": {},
     "output_type": "execute_result"
    },
    {
     "data": {
      "image/png": "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\n",
      "text/plain": [
       "<Figure size 432x288 with 2 Axes>"
      ]
     },
     "metadata": {
      "needs_background": "light"
     },
     "output_type": "display_data"
    }
   ],
   "source": [
    "print(df['Time_taken'].isna().sum())\n",
    "sns.heatmap(df.isna())"
   ]
  },
  {
   "cell_type": "markdown",
   "metadata": {},
   "source": [
    "### qualitative variables"
   ]
  },
  {
   "cell_type": "code",
   "execution_count": 20,
   "metadata": {},
   "outputs": [
    {
     "name": "stdout",
     "output_type": "stream",
     "text": [
      "3D_available--------------------------------------, ['YES' 'NO']\n",
      "Genre---------------------------------------------, ['Thriller' 'Drama' 'Comedy' 'Action']\n"
     ]
    }
   ],
   "source": [
    "for col in df.select_dtypes('object'):\n",
    "    print(f'{col :-<50}, {df[col].unique()}')"
   ]
  },
  {
   "cell_type": "markdown",
   "metadata": {},
   "source": [
    "### Dummy Variable Creation"
   ]
  },
  {
   "cell_type": "code",
   "execution_count": 21,
   "metadata": {},
   "outputs": [
    {
     "data": {
      "text/html": [
       "<div>\n",
       "<style scoped>\n",
       "    .dataframe tbody tr th:only-of-type {\n",
       "        vertical-align: middle;\n",
       "    }\n",
       "\n",
       "    .dataframe tbody tr th {\n",
       "        vertical-align: top;\n",
       "    }\n",
       "\n",
       "    .dataframe thead th {\n",
       "        text-align: right;\n",
       "    }\n",
       "</style>\n",
       "<table border=\"1\" class=\"dataframe\">\n",
       "  <thead>\n",
       "    <tr style=\"text-align: right;\">\n",
       "      <th></th>\n",
       "      <th>Marketing expense</th>\n",
       "      <th>Production expense</th>\n",
       "      <th>Multiplex coverage</th>\n",
       "      <th>Budget</th>\n",
       "      <th>Movie_length</th>\n",
       "      <th>Lead_ Actor_Rating</th>\n",
       "      <th>Lead_Actress_rating</th>\n",
       "      <th>Director_rating</th>\n",
       "      <th>Producer_rating</th>\n",
       "      <th>Critic_rating</th>\n",
       "      <th>Trailer_views</th>\n",
       "      <th>3D_available</th>\n",
       "      <th>Time_taken</th>\n",
       "      <th>Twitter_hastags</th>\n",
       "      <th>Genre</th>\n",
       "      <th>Avg_age_actors</th>\n",
       "      <th>Num_multiplex</th>\n",
       "      <th>Collection</th>\n",
       "      <th>Start_Tech_Oscar</th>\n",
       "    </tr>\n",
       "  </thead>\n",
       "  <tbody>\n",
       "    <tr>\n",
       "      <td>0</td>\n",
       "      <td>20.1264</td>\n",
       "      <td>59.62</td>\n",
       "      <td>0.462</td>\n",
       "      <td>36524.125</td>\n",
       "      <td>138.7</td>\n",
       "      <td>7.825</td>\n",
       "      <td>8.095</td>\n",
       "      <td>7.910</td>\n",
       "      <td>7.995</td>\n",
       "      <td>7.94</td>\n",
       "      <td>527367</td>\n",
       "      <td>YES</td>\n",
       "      <td>109.60</td>\n",
       "      <td>223.840</td>\n",
       "      <td>Thriller</td>\n",
       "      <td>23</td>\n",
       "      <td>494</td>\n",
       "      <td>48000</td>\n",
       "      <td>1</td>\n",
       "    </tr>\n",
       "    <tr>\n",
       "      <td>1</td>\n",
       "      <td>20.5462</td>\n",
       "      <td>69.14</td>\n",
       "      <td>0.531</td>\n",
       "      <td>35668.655</td>\n",
       "      <td>152.4</td>\n",
       "      <td>7.505</td>\n",
       "      <td>7.650</td>\n",
       "      <td>7.440</td>\n",
       "      <td>7.470</td>\n",
       "      <td>7.44</td>\n",
       "      <td>494055</td>\n",
       "      <td>NO</td>\n",
       "      <td>146.64</td>\n",
       "      <td>243.456</td>\n",
       "      <td>Drama</td>\n",
       "      <td>42</td>\n",
       "      <td>462</td>\n",
       "      <td>43200</td>\n",
       "      <td>0</td>\n",
       "    </tr>\n",
       "    <tr>\n",
       "      <td>2</td>\n",
       "      <td>20.5458</td>\n",
       "      <td>69.14</td>\n",
       "      <td>0.531</td>\n",
       "      <td>39912.675</td>\n",
       "      <td>134.6</td>\n",
       "      <td>7.485</td>\n",
       "      <td>7.570</td>\n",
       "      <td>7.495</td>\n",
       "      <td>7.515</td>\n",
       "      <td>7.44</td>\n",
       "      <td>547051</td>\n",
       "      <td>NO</td>\n",
       "      <td>147.88</td>\n",
       "      <td>2022.400</td>\n",
       "      <td>Comedy</td>\n",
       "      <td>38</td>\n",
       "      <td>458</td>\n",
       "      <td>69400</td>\n",
       "      <td>1</td>\n",
       "    </tr>\n",
       "    <tr>\n",
       "      <td>3</td>\n",
       "      <td>20.6474</td>\n",
       "      <td>59.36</td>\n",
       "      <td>0.542</td>\n",
       "      <td>38873.890</td>\n",
       "      <td>119.3</td>\n",
       "      <td>6.895</td>\n",
       "      <td>7.035</td>\n",
       "      <td>6.920</td>\n",
       "      <td>7.020</td>\n",
       "      <td>8.26</td>\n",
       "      <td>516279</td>\n",
       "      <td>YES</td>\n",
       "      <td>185.36</td>\n",
       "      <td>225.344</td>\n",
       "      <td>Drama</td>\n",
       "      <td>45</td>\n",
       "      <td>472</td>\n",
       "      <td>66800</td>\n",
       "      <td>1</td>\n",
       "    </tr>\n",
       "    <tr>\n",
       "      <td>4</td>\n",
       "      <td>21.3810</td>\n",
       "      <td>59.36</td>\n",
       "      <td>0.542</td>\n",
       "      <td>39701.585</td>\n",
       "      <td>127.7</td>\n",
       "      <td>6.920</td>\n",
       "      <td>7.070</td>\n",
       "      <td>6.815</td>\n",
       "      <td>7.070</td>\n",
       "      <td>8.26</td>\n",
       "      <td>531448</td>\n",
       "      <td>NO</td>\n",
       "      <td>176.48</td>\n",
       "      <td>225.792</td>\n",
       "      <td>Drama</td>\n",
       "      <td>55</td>\n",
       "      <td>395</td>\n",
       "      <td>72400</td>\n",
       "      <td>1</td>\n",
       "    </tr>\n",
       "  </tbody>\n",
       "</table>\n",
       "</div>"
      ],
      "text/plain": [
       "   Marketing expense  Production expense  Multiplex coverage     Budget  \\\n",
       "0            20.1264               59.62               0.462  36524.125   \n",
       "1            20.5462               69.14               0.531  35668.655   \n",
       "2            20.5458               69.14               0.531  39912.675   \n",
       "3            20.6474               59.36               0.542  38873.890   \n",
       "4            21.3810               59.36               0.542  39701.585   \n",
       "\n",
       "   Movie_length  Lead_ Actor_Rating  Lead_Actress_rating  Director_rating  \\\n",
       "0         138.7               7.825                8.095            7.910   \n",
       "1         152.4               7.505                7.650            7.440   \n",
       "2         134.6               7.485                7.570            7.495   \n",
       "3         119.3               6.895                7.035            6.920   \n",
       "4         127.7               6.920                7.070            6.815   \n",
       "\n",
       "   Producer_rating  Critic_rating  Trailer_views 3D_available  Time_taken  \\\n",
       "0            7.995           7.94         527367          YES      109.60   \n",
       "1            7.470           7.44         494055           NO      146.64   \n",
       "2            7.515           7.44         547051           NO      147.88   \n",
       "3            7.020           8.26         516279          YES      185.36   \n",
       "4            7.070           8.26         531448           NO      176.48   \n",
       "\n",
       "   Twitter_hastags     Genre  Avg_age_actors  Num_multiplex  Collection  \\\n",
       "0          223.840  Thriller              23            494       48000   \n",
       "1          243.456     Drama              42            462       43200   \n",
       "2         2022.400    Comedy              38            458       69400   \n",
       "3          225.344     Drama              45            472       66800   \n",
       "4          225.792     Drama              55            395       72400   \n",
       "\n",
       "   Start_Tech_Oscar  \n",
       "0                 1  \n",
       "1                 0  \n",
       "2                 1  \n",
       "3                 1  \n",
       "4                 1  "
      ]
     },
     "execution_count": 21,
     "metadata": {},
     "output_type": "execute_result"
    }
   ],
   "source": [
    "df.head()"
   ]
  },
  {
   "cell_type": "code",
   "execution_count": 22,
   "metadata": {},
   "outputs": [],
   "source": [
    "df = pd.get_dummies(df,columns = [\"3D_available\",\"Genre\"],drop_first = True)"
   ]
  },
  {
   "cell_type": "code",
   "execution_count": 23,
   "metadata": {},
   "outputs": [
    {
     "data": {
      "text/html": [
       "<div>\n",
       "<style scoped>\n",
       "    .dataframe tbody tr th:only-of-type {\n",
       "        vertical-align: middle;\n",
       "    }\n",
       "\n",
       "    .dataframe tbody tr th {\n",
       "        vertical-align: top;\n",
       "    }\n",
       "\n",
       "    .dataframe thead th {\n",
       "        text-align: right;\n",
       "    }\n",
       "</style>\n",
       "<table border=\"1\" class=\"dataframe\">\n",
       "  <thead>\n",
       "    <tr style=\"text-align: right;\">\n",
       "      <th></th>\n",
       "      <th>Marketing expense</th>\n",
       "      <th>Production expense</th>\n",
       "      <th>Multiplex coverage</th>\n",
       "      <th>Budget</th>\n",
       "      <th>Movie_length</th>\n",
       "      <th>Lead_ Actor_Rating</th>\n",
       "      <th>Lead_Actress_rating</th>\n",
       "      <th>Director_rating</th>\n",
       "      <th>Producer_rating</th>\n",
       "      <th>...</th>\n",
       "      <th>Twitter_hastags</th>\n",
       "      <th>Avg_age_actors</th>\n",
       "      <th>Num_multiplex</th>\n",
       "      <th>Collection</th>\n",
       "      <th>Start_Tech_Oscar</th>\n",
       "      <th>3D_available_YES</th>\n",
       "      <th>Genre_Comedy</th>\n",
       "      <th>Genre_Drama</th>\n",
       "      <th>Genre_Thriller</th>\n",
       "    </tr>\n",
       "  </thead>\n",
       "  <tbody>\n",
       "    <tr>\n",
       "      <td>0</td>\n",
       "      <td>20.1264</td>\n",
       "      <td>59.62</td>\n",
       "      <td>0.462</td>\n",
       "      <td>36524.125</td>\n",
       "      <td>138.7</td>\n",
       "      <td>7.825</td>\n",
       "      <td>8.095</td>\n",
       "      <td>7.910</td>\n",
       "      <td>7.995</td>\n",
       "      <td>...</td>\n",
       "      <td>223.840</td>\n",
       "      <td>23</td>\n",
       "      <td>494</td>\n",
       "      <td>48000</td>\n",
       "      <td>1</td>\n",
       "      <td>1</td>\n",
       "      <td>0</td>\n",
       "      <td>0</td>\n",
       "      <td>1</td>\n",
       "    </tr>\n",
       "    <tr>\n",
       "      <td>1</td>\n",
       "      <td>20.5462</td>\n",
       "      <td>69.14</td>\n",
       "      <td>0.531</td>\n",
       "      <td>35668.655</td>\n",
       "      <td>152.4</td>\n",
       "      <td>7.505</td>\n",
       "      <td>7.650</td>\n",
       "      <td>7.440</td>\n",
       "      <td>7.470</td>\n",
       "      <td>...</td>\n",
       "      <td>243.456</td>\n",
       "      <td>42</td>\n",
       "      <td>462</td>\n",
       "      <td>43200</td>\n",
       "      <td>0</td>\n",
       "      <td>0</td>\n",
       "      <td>0</td>\n",
       "      <td>1</td>\n",
       "      <td>0</td>\n",
       "    </tr>\n",
       "    <tr>\n",
       "      <td>2</td>\n",
       "      <td>20.5458</td>\n",
       "      <td>69.14</td>\n",
       "      <td>0.531</td>\n",
       "      <td>39912.675</td>\n",
       "      <td>134.6</td>\n",
       "      <td>7.485</td>\n",
       "      <td>7.570</td>\n",
       "      <td>7.495</td>\n",
       "      <td>7.515</td>\n",
       "      <td>...</td>\n",
       "      <td>2022.400</td>\n",
       "      <td>38</td>\n",
       "      <td>458</td>\n",
       "      <td>69400</td>\n",
       "      <td>1</td>\n",
       "      <td>0</td>\n",
       "      <td>1</td>\n",
       "      <td>0</td>\n",
       "      <td>0</td>\n",
       "    </tr>\n",
       "    <tr>\n",
       "      <td>3</td>\n",
       "      <td>20.6474</td>\n",
       "      <td>59.36</td>\n",
       "      <td>0.542</td>\n",
       "      <td>38873.890</td>\n",
       "      <td>119.3</td>\n",
       "      <td>6.895</td>\n",
       "      <td>7.035</td>\n",
       "      <td>6.920</td>\n",
       "      <td>7.020</td>\n",
       "      <td>...</td>\n",
       "      <td>225.344</td>\n",
       "      <td>45</td>\n",
       "      <td>472</td>\n",
       "      <td>66800</td>\n",
       "      <td>1</td>\n",
       "      <td>1</td>\n",
       "      <td>0</td>\n",
       "      <td>1</td>\n",
       "      <td>0</td>\n",
       "    </tr>\n",
       "    <tr>\n",
       "      <td>4</td>\n",
       "      <td>21.3810</td>\n",
       "      <td>59.36</td>\n",
       "      <td>0.542</td>\n",
       "      <td>39701.585</td>\n",
       "      <td>127.7</td>\n",
       "      <td>6.920</td>\n",
       "      <td>7.070</td>\n",
       "      <td>6.815</td>\n",
       "      <td>7.070</td>\n",
       "      <td>...</td>\n",
       "      <td>225.792</td>\n",
       "      <td>55</td>\n",
       "      <td>395</td>\n",
       "      <td>72400</td>\n",
       "      <td>1</td>\n",
       "      <td>0</td>\n",
       "      <td>0</td>\n",
       "      <td>1</td>\n",
       "      <td>0</td>\n",
       "    </tr>\n",
       "  </tbody>\n",
       "</table>\n",
       "<p>5 rows × 21 columns</p>\n",
       "</div>"
      ],
      "text/plain": [
       "   Marketing expense  Production expense  Multiplex coverage     Budget  \\\n",
       "0            20.1264               59.62               0.462  36524.125   \n",
       "1            20.5462               69.14               0.531  35668.655   \n",
       "2            20.5458               69.14               0.531  39912.675   \n",
       "3            20.6474               59.36               0.542  38873.890   \n",
       "4            21.3810               59.36               0.542  39701.585   \n",
       "\n",
       "   Movie_length  Lead_ Actor_Rating  Lead_Actress_rating  Director_rating  \\\n",
       "0         138.7               7.825                8.095            7.910   \n",
       "1         152.4               7.505                7.650            7.440   \n",
       "2         134.6               7.485                7.570            7.495   \n",
       "3         119.3               6.895                7.035            6.920   \n",
       "4         127.7               6.920                7.070            6.815   \n",
       "\n",
       "   Producer_rating  ...  Twitter_hastags  Avg_age_actors  Num_multiplex  \\\n",
       "0            7.995  ...          223.840              23            494   \n",
       "1            7.470  ...          243.456              42            462   \n",
       "2            7.515  ...         2022.400              38            458   \n",
       "3            7.020  ...          225.344              45            472   \n",
       "4            7.070  ...          225.792              55            395   \n",
       "\n",
       "   Collection  Start_Tech_Oscar  3D_available_YES  Genre_Comedy  Genre_Drama  \\\n",
       "0       48000                 1                 1             0            0   \n",
       "1       43200                 0                 0             0            1   \n",
       "2       69400                 1                 0             1            0   \n",
       "3       66800                 1                 1             0            1   \n",
       "4       72400                 1                 0             0            1   \n",
       "\n",
       "   Genre_Thriller  \n",
       "0               1  \n",
       "1               0  \n",
       "2               0  \n",
       "3               0  \n",
       "4               0  \n",
       "\n",
       "[5 rows x 21 columns]"
      ]
     },
     "execution_count": 23,
     "metadata": {},
     "output_type": "execute_result"
    }
   ],
   "source": [
    "df.head()"
   ]
  },
  {
   "cell_type": "code",
   "execution_count": 24,
   "metadata": {},
   "outputs": [
    {
     "data": {
      "text/plain": [
       "<matplotlib.axes._subplots.AxesSubplot at 0x28df20ddd88>"
      ]
     },
     "execution_count": 24,
     "metadata": {},
     "output_type": "execute_result"
    },
    {
     "data": {
      "image/png": "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\n",
      "text/plain": [
       "<Figure size 432x288 with 2 Axes>"
      ]
     },
     "metadata": {
      "needs_background": "light"
     },
     "output_type": "display_data"
    }
   ],
   "source": [
    "sns.heatmap(df.corr())"
   ]
  },
  {
   "cell_type": "code",
   "execution_count": 25,
   "metadata": {},
   "outputs": [
    {
     "data": {
      "text/plain": [
       "<seaborn.matrix.ClusterGrid at 0x28df21b9ac8>"
      ]
     },
     "execution_count": 25,
     "metadata": {},
     "output_type": "execute_result"
    },
    {
     "data": {
      "image/png": "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\n",
      "text/plain": [
       "<Figure size 720x720 with 4 Axes>"
      ]
     },
     "metadata": {
      "needs_background": "light"
     },
     "output_type": "display_data"
    }
   ],
   "source": [
    "sns.clustermap(df.corr())"
   ]
  },
  {
   "cell_type": "code",
   "execution_count": 26,
   "metadata": {},
   "outputs": [
    {
     "data": {
      "text/plain": [
       "Index(['Marketing expense', 'Production expense', 'Multiplex coverage',\n",
       "       'Budget', 'Movie_length', 'Lead_ Actor_Rating', 'Lead_Actress_rating',\n",
       "       'Director_rating', 'Producer_rating', 'Critic_rating', 'Trailer_views',\n",
       "       'Time_taken', 'Twitter_hastags', 'Avg_age_actors', 'Num_multiplex',\n",
       "       'Collection', 'Start_Tech_Oscar', '3D_available_YES', 'Genre_Comedy',\n",
       "       'Genre_Drama', 'Genre_Thriller'],\n",
       "      dtype='object')"
      ]
     },
     "execution_count": 26,
     "metadata": {},
     "output_type": "execute_result"
    }
   ],
   "source": [
    "df.keys()"
   ]
  },
  {
   "cell_type": "markdown",
   "metadata": {},
   "source": [
    "### X-y split"
   ]
  },
  {
   "cell_type": "code",
   "execution_count": 27,
   "metadata": {},
   "outputs": [
    {
     "data": {
      "text/plain": [
       "pandas.core.frame.DataFrame"
      ]
     },
     "execution_count": 27,
     "metadata": {},
     "output_type": "execute_result"
    }
   ],
   "source": [
    "X = df.loc[:,df.columns!=\"Start_Tech_Oscar\"]\n",
    "type(X)"
   ]
  },
  {
   "cell_type": "code",
   "execution_count": 28,
   "metadata": {},
   "outputs": [
    {
     "data": {
      "text/html": [
       "<div>\n",
       "<style scoped>\n",
       "    .dataframe tbody tr th:only-of-type {\n",
       "        vertical-align: middle;\n",
       "    }\n",
       "\n",
       "    .dataframe tbody tr th {\n",
       "        vertical-align: top;\n",
       "    }\n",
       "\n",
       "    .dataframe thead th {\n",
       "        text-align: right;\n",
       "    }\n",
       "</style>\n",
       "<table border=\"1\" class=\"dataframe\">\n",
       "  <thead>\n",
       "    <tr style=\"text-align: right;\">\n",
       "      <th></th>\n",
       "      <th>Marketing expense</th>\n",
       "      <th>Production expense</th>\n",
       "      <th>Multiplex coverage</th>\n",
       "      <th>Budget</th>\n",
       "      <th>Movie_length</th>\n",
       "      <th>Lead_ Actor_Rating</th>\n",
       "      <th>Lead_Actress_rating</th>\n",
       "      <th>Director_rating</th>\n",
       "      <th>Producer_rating</th>\n",
       "      <th>...</th>\n",
       "      <th>Time_taken</th>\n",
       "      <th>Twitter_hastags</th>\n",
       "      <th>Avg_age_actors</th>\n",
       "      <th>Num_multiplex</th>\n",
       "      <th>Collection</th>\n",
       "      <th>3D_available_YES</th>\n",
       "      <th>Genre_Comedy</th>\n",
       "      <th>Genre_Drama</th>\n",
       "      <th>Genre_Thriller</th>\n",
       "    </tr>\n",
       "  </thead>\n",
       "  <tbody>\n",
       "    <tr>\n",
       "      <td>0</td>\n",
       "      <td>20.1264</td>\n",
       "      <td>59.62</td>\n",
       "      <td>0.462</td>\n",
       "      <td>36524.125</td>\n",
       "      <td>138.7</td>\n",
       "      <td>7.825</td>\n",
       "      <td>8.095</td>\n",
       "      <td>7.910</td>\n",
       "      <td>7.995</td>\n",
       "      <td>...</td>\n",
       "      <td>109.60</td>\n",
       "      <td>223.840</td>\n",
       "      <td>23</td>\n",
       "      <td>494</td>\n",
       "      <td>48000</td>\n",
       "      <td>1</td>\n",
       "      <td>0</td>\n",
       "      <td>0</td>\n",
       "      <td>1</td>\n",
       "    </tr>\n",
       "    <tr>\n",
       "      <td>1</td>\n",
       "      <td>20.5462</td>\n",
       "      <td>69.14</td>\n",
       "      <td>0.531</td>\n",
       "      <td>35668.655</td>\n",
       "      <td>152.4</td>\n",
       "      <td>7.505</td>\n",
       "      <td>7.650</td>\n",
       "      <td>7.440</td>\n",
       "      <td>7.470</td>\n",
       "      <td>...</td>\n",
       "      <td>146.64</td>\n",
       "      <td>243.456</td>\n",
       "      <td>42</td>\n",
       "      <td>462</td>\n",
       "      <td>43200</td>\n",
       "      <td>0</td>\n",
       "      <td>0</td>\n",
       "      <td>1</td>\n",
       "      <td>0</td>\n",
       "    </tr>\n",
       "    <tr>\n",
       "      <td>2</td>\n",
       "      <td>20.5458</td>\n",
       "      <td>69.14</td>\n",
       "      <td>0.531</td>\n",
       "      <td>39912.675</td>\n",
       "      <td>134.6</td>\n",
       "      <td>7.485</td>\n",
       "      <td>7.570</td>\n",
       "      <td>7.495</td>\n",
       "      <td>7.515</td>\n",
       "      <td>...</td>\n",
       "      <td>147.88</td>\n",
       "      <td>2022.400</td>\n",
       "      <td>38</td>\n",
       "      <td>458</td>\n",
       "      <td>69400</td>\n",
       "      <td>0</td>\n",
       "      <td>1</td>\n",
       "      <td>0</td>\n",
       "      <td>0</td>\n",
       "    </tr>\n",
       "    <tr>\n",
       "      <td>3</td>\n",
       "      <td>20.6474</td>\n",
       "      <td>59.36</td>\n",
       "      <td>0.542</td>\n",
       "      <td>38873.890</td>\n",
       "      <td>119.3</td>\n",
       "      <td>6.895</td>\n",
       "      <td>7.035</td>\n",
       "      <td>6.920</td>\n",
       "      <td>7.020</td>\n",
       "      <td>...</td>\n",
       "      <td>185.36</td>\n",
       "      <td>225.344</td>\n",
       "      <td>45</td>\n",
       "      <td>472</td>\n",
       "      <td>66800</td>\n",
       "      <td>1</td>\n",
       "      <td>0</td>\n",
       "      <td>1</td>\n",
       "      <td>0</td>\n",
       "    </tr>\n",
       "    <tr>\n",
       "      <td>4</td>\n",
       "      <td>21.3810</td>\n",
       "      <td>59.36</td>\n",
       "      <td>0.542</td>\n",
       "      <td>39701.585</td>\n",
       "      <td>127.7</td>\n",
       "      <td>6.920</td>\n",
       "      <td>7.070</td>\n",
       "      <td>6.815</td>\n",
       "      <td>7.070</td>\n",
       "      <td>...</td>\n",
       "      <td>176.48</td>\n",
       "      <td>225.792</td>\n",
       "      <td>55</td>\n",
       "      <td>395</td>\n",
       "      <td>72400</td>\n",
       "      <td>0</td>\n",
       "      <td>0</td>\n",
       "      <td>1</td>\n",
       "      <td>0</td>\n",
       "    </tr>\n",
       "  </tbody>\n",
       "</table>\n",
       "<p>5 rows × 20 columns</p>\n",
       "</div>"
      ],
      "text/plain": [
       "   Marketing expense  Production expense  Multiplex coverage     Budget  \\\n",
       "0            20.1264               59.62               0.462  36524.125   \n",
       "1            20.5462               69.14               0.531  35668.655   \n",
       "2            20.5458               69.14               0.531  39912.675   \n",
       "3            20.6474               59.36               0.542  38873.890   \n",
       "4            21.3810               59.36               0.542  39701.585   \n",
       "\n",
       "   Movie_length  Lead_ Actor_Rating  Lead_Actress_rating  Director_rating  \\\n",
       "0         138.7               7.825                8.095            7.910   \n",
       "1         152.4               7.505                7.650            7.440   \n",
       "2         134.6               7.485                7.570            7.495   \n",
       "3         119.3               6.895                7.035            6.920   \n",
       "4         127.7               6.920                7.070            6.815   \n",
       "\n",
       "   Producer_rating  ...  Time_taken  Twitter_hastags  Avg_age_actors  \\\n",
       "0            7.995  ...      109.60          223.840              23   \n",
       "1            7.470  ...      146.64          243.456              42   \n",
       "2            7.515  ...      147.88         2022.400              38   \n",
       "3            7.020  ...      185.36          225.344              45   \n",
       "4            7.070  ...      176.48          225.792              55   \n",
       "\n",
       "   Num_multiplex  Collection  3D_available_YES  Genre_Comedy  Genre_Drama  \\\n",
       "0            494       48000                 1             0            0   \n",
       "1            462       43200                 0             0            1   \n",
       "2            458       69400                 0             1            0   \n",
       "3            472       66800                 1             0            1   \n",
       "4            395       72400                 0             0            1   \n",
       "\n",
       "   Genre_Thriller  \n",
       "0               1  \n",
       "1               0  \n",
       "2               0  \n",
       "3               0  \n",
       "4               0  \n",
       "\n",
       "[5 rows x 20 columns]"
      ]
     },
     "execution_count": 28,
     "metadata": {},
     "output_type": "execute_result"
    }
   ],
   "source": [
    "X.head()"
   ]
  },
  {
   "cell_type": "code",
   "execution_count": 29,
   "metadata": {},
   "outputs": [
    {
     "data": {
      "text/plain": [
       "(506, 20)"
      ]
     },
     "execution_count": 29,
     "metadata": {},
     "output_type": "execute_result"
    }
   ],
   "source": [
    "X.shape"
   ]
  },
  {
   "cell_type": "code",
   "execution_count": 30,
   "metadata": {},
   "outputs": [
    {
     "data": {
      "text/plain": [
       "pandas.core.series.Series"
      ]
     },
     "execution_count": 30,
     "metadata": {},
     "output_type": "execute_result"
    }
   ],
   "source": [
    "y = df[\"Start_Tech_Oscar\"]\n",
    "type(y)"
   ]
  },
  {
   "cell_type": "code",
   "execution_count": 31,
   "metadata": {},
   "outputs": [
    {
     "data": {
      "text/plain": [
       "0    1\n",
       "1    0\n",
       "2    1\n",
       "3    1\n",
       "4    1\n",
       "Name: Start_Tech_Oscar, dtype: int64"
      ]
     },
     "execution_count": 31,
     "metadata": {},
     "output_type": "execute_result"
    }
   ],
   "source": [
    "y.head()"
   ]
  },
  {
   "cell_type": "code",
   "execution_count": 32,
   "metadata": {},
   "outputs": [
    {
     "data": {
      "text/plain": [
       "(506,)"
      ]
     },
     "execution_count": 32,
     "metadata": {},
     "output_type": "execute_result"
    }
   ],
   "source": [
    "y.shape"
   ]
  },
  {
   "cell_type": "markdown",
   "metadata": {},
   "source": [
    "### Test-Train Split"
   ]
  },
  {
   "cell_type": "code",
   "execution_count": 33,
   "metadata": {},
   "outputs": [],
   "source": [
    "from sklearn.model_selection import train_test_split"
   ]
  },
  {
   "cell_type": "code",
   "execution_count": 34,
   "metadata": {},
   "outputs": [],
   "source": [
    "X_train, X_test, y_train, y_test = train_test_split(X, y,test_size=0.2,random_state=0)"
   ]
  },
  {
   "cell_type": "code",
   "execution_count": 35,
   "metadata": {},
   "outputs": [
    {
     "data": {
      "text/html": [
       "<div>\n",
       "<style scoped>\n",
       "    .dataframe tbody tr th:only-of-type {\n",
       "        vertical-align: middle;\n",
       "    }\n",
       "\n",
       "    .dataframe tbody tr th {\n",
       "        vertical-align: top;\n",
       "    }\n",
       "\n",
       "    .dataframe thead th {\n",
       "        text-align: right;\n",
       "    }\n",
       "</style>\n",
       "<table border=\"1\" class=\"dataframe\">\n",
       "  <thead>\n",
       "    <tr style=\"text-align: right;\">\n",
       "      <th></th>\n",
       "      <th>Marketing expense</th>\n",
       "      <th>Production expense</th>\n",
       "      <th>Multiplex coverage</th>\n",
       "      <th>Budget</th>\n",
       "      <th>Movie_length</th>\n",
       "      <th>Lead_ Actor_Rating</th>\n",
       "      <th>Lead_Actress_rating</th>\n",
       "      <th>Director_rating</th>\n",
       "      <th>Producer_rating</th>\n",
       "      <th>...</th>\n",
       "      <th>Time_taken</th>\n",
       "      <th>Twitter_hastags</th>\n",
       "      <th>Avg_age_actors</th>\n",
       "      <th>Num_multiplex</th>\n",
       "      <th>Collection</th>\n",
       "      <th>3D_available_YES</th>\n",
       "      <th>Genre_Comedy</th>\n",
       "      <th>Genre_Drama</th>\n",
       "      <th>Genre_Thriller</th>\n",
       "    </tr>\n",
       "  </thead>\n",
       "  <tbody>\n",
       "    <tr>\n",
       "      <td>220</td>\n",
       "      <td>27.1618</td>\n",
       "      <td>67.40</td>\n",
       "      <td>0.493</td>\n",
       "      <td>38612.805</td>\n",
       "      <td>162.0</td>\n",
       "      <td>8.485</td>\n",
       "      <td>8.640</td>\n",
       "      <td>8.485</td>\n",
       "      <td>8.670</td>\n",
       "      <td>...</td>\n",
       "      <td>174.68</td>\n",
       "      <td>224.272</td>\n",
       "      <td>23</td>\n",
       "      <td>536</td>\n",
       "      <td>53400</td>\n",
       "      <td>0</td>\n",
       "      <td>0</td>\n",
       "      <td>0</td>\n",
       "      <td>1</td>\n",
       "    </tr>\n",
       "    <tr>\n",
       "      <td>71</td>\n",
       "      <td>23.1752</td>\n",
       "      <td>76.62</td>\n",
       "      <td>0.587</td>\n",
       "      <td>33113.355</td>\n",
       "      <td>91.0</td>\n",
       "      <td>7.280</td>\n",
       "      <td>7.400</td>\n",
       "      <td>7.290</td>\n",
       "      <td>7.455</td>\n",
       "      <td>...</td>\n",
       "      <td>200.68</td>\n",
       "      <td>263.472</td>\n",
       "      <td>46</td>\n",
       "      <td>400</td>\n",
       "      <td>43400</td>\n",
       "      <td>0</td>\n",
       "      <td>0</td>\n",
       "      <td>0</td>\n",
       "      <td>0</td>\n",
       "    </tr>\n",
       "    <tr>\n",
       "      <td>240</td>\n",
       "      <td>22.2658</td>\n",
       "      <td>64.86</td>\n",
       "      <td>0.572</td>\n",
       "      <td>38312.835</td>\n",
       "      <td>127.8</td>\n",
       "      <td>6.755</td>\n",
       "      <td>6.935</td>\n",
       "      <td>6.800</td>\n",
       "      <td>6.840</td>\n",
       "      <td>...</td>\n",
       "      <td>204.80</td>\n",
       "      <td>224.320</td>\n",
       "      <td>24</td>\n",
       "      <td>387</td>\n",
       "      <td>54000</td>\n",
       "      <td>1</td>\n",
       "      <td>1</td>\n",
       "      <td>0</td>\n",
       "      <td>0</td>\n",
       "    </tr>\n",
       "    <tr>\n",
       "      <td>6</td>\n",
       "      <td>21.7658</td>\n",
       "      <td>70.74</td>\n",
       "      <td>0.476</td>\n",
       "      <td>33396.660</td>\n",
       "      <td>140.1</td>\n",
       "      <td>7.065</td>\n",
       "      <td>7.265</td>\n",
       "      <td>7.150</td>\n",
       "      <td>7.400</td>\n",
       "      <td>...</td>\n",
       "      <td>139.16</td>\n",
       "      <td>243.664</td>\n",
       "      <td>41</td>\n",
       "      <td>522</td>\n",
       "      <td>45800</td>\n",
       "      <td>1</td>\n",
       "      <td>0</td>\n",
       "      <td>0</td>\n",
       "      <td>1</td>\n",
       "    </tr>\n",
       "    <tr>\n",
       "      <td>417</td>\n",
       "      <td>538.8120</td>\n",
       "      <td>91.20</td>\n",
       "      <td>0.321</td>\n",
       "      <td>29463.720</td>\n",
       "      <td>162.6</td>\n",
       "      <td>9.135</td>\n",
       "      <td>9.305</td>\n",
       "      <td>9.095</td>\n",
       "      <td>9.165</td>\n",
       "      <td>...</td>\n",
       "      <td>172.16</td>\n",
       "      <td>301.664</td>\n",
       "      <td>60</td>\n",
       "      <td>589</td>\n",
       "      <td>20800</td>\n",
       "      <td>1</td>\n",
       "      <td>0</td>\n",
       "      <td>0</td>\n",
       "      <td>0</td>\n",
       "    </tr>\n",
       "  </tbody>\n",
       "</table>\n",
       "<p>5 rows × 20 columns</p>\n",
       "</div>"
      ],
      "text/plain": [
       "     Marketing expense  Production expense  Multiplex coverage     Budget  \\\n",
       "220            27.1618               67.40               0.493  38612.805   \n",
       "71             23.1752               76.62               0.587  33113.355   \n",
       "240            22.2658               64.86               0.572  38312.835   \n",
       "6              21.7658               70.74               0.476  33396.660   \n",
       "417           538.8120               91.20               0.321  29463.720   \n",
       "\n",
       "     Movie_length  Lead_ Actor_Rating  Lead_Actress_rating  Director_rating  \\\n",
       "220         162.0               8.485                8.640            8.485   \n",
       "71           91.0               7.280                7.400            7.290   \n",
       "240         127.8               6.755                6.935            6.800   \n",
       "6           140.1               7.065                7.265            7.150   \n",
       "417         162.6               9.135                9.305            9.095   \n",
       "\n",
       "     Producer_rating  ...  Time_taken  Twitter_hastags  Avg_age_actors  \\\n",
       "220            8.670  ...      174.68          224.272              23   \n",
       "71             7.455  ...      200.68          263.472              46   \n",
       "240            6.840  ...      204.80          224.320              24   \n",
       "6              7.400  ...      139.16          243.664              41   \n",
       "417            9.165  ...      172.16          301.664              60   \n",
       "\n",
       "     Num_multiplex  Collection  3D_available_YES  Genre_Comedy  Genre_Drama  \\\n",
       "220            536       53400                 0             0            0   \n",
       "71             400       43400                 0             0            0   \n",
       "240            387       54000                 1             1            0   \n",
       "6              522       45800                 1             0            0   \n",
       "417            589       20800                 1             0            0   \n",
       "\n",
       "     Genre_Thriller  \n",
       "220               1  \n",
       "71                0  \n",
       "240               0  \n",
       "6                 1  \n",
       "417               0  \n",
       "\n",
       "[5 rows x 20 columns]"
      ]
     },
     "execution_count": 35,
     "metadata": {},
     "output_type": "execute_result"
    }
   ],
   "source": [
    "X_train.head()"
   ]
  },
  {
   "cell_type": "code",
   "execution_count": 36,
   "metadata": {},
   "outputs": [
    {
     "data": {
      "text/plain": [
       "(404, 20)"
      ]
     },
     "execution_count": 36,
     "metadata": {},
     "output_type": "execute_result"
    }
   ],
   "source": [
    "X_train.shape"
   ]
  },
  {
   "cell_type": "code",
   "execution_count": 37,
   "metadata": {},
   "outputs": [
    {
     "data": {
      "text/plain": [
       "(102, 20)"
      ]
     },
     "execution_count": 37,
     "metadata": {},
     "output_type": "execute_result"
    }
   ],
   "source": [
    "X_test.shape"
   ]
  },
  {
   "cell_type": "markdown",
   "metadata": {},
   "source": [
    "## Naive Bayes"
   ]
  },
  {
   "cell_type": "code",
   "execution_count": 38,
   "metadata": {},
   "outputs": [],
   "source": [
    "from sklearn.naive_bayes import GaussianNB"
   ]
  },
  {
   "cell_type": "code",
   "execution_count": 39,
   "metadata": {},
   "outputs": [],
   "source": [
    "naive_bayes=GaussianNB()"
   ]
  },
  {
   "cell_type": "code",
   "execution_count": 40,
   "metadata": {},
   "outputs": [
    {
     "data": {
      "text/plain": [
       "GaussianNB()"
      ]
     },
     "execution_count": 40,
     "metadata": {},
     "output_type": "execute_result"
    }
   ],
   "source": [
    "naive_bayes.fit(X_train,y_train)"
   ]
  },
  {
   "cell_type": "code",
   "execution_count": 41,
   "metadata": {},
   "outputs": [
    {
     "name": "stdout",
     "output_type": "stream",
     "text": [
      "Training set score: 0.58\n",
      "Test set score: 0.54\n"
     ]
    }
   ],
   "source": [
    "from sklearn import metrics\n",
    " \n",
    "print('Training set score: {:.2f}'.format(naive_bayes.score(X_train, y_train)))\n",
    "print('Test set score: {:.2f}'.format(naive_bayes.score(X_test, y_test)))"
   ]
  },
  {
   "cell_type": "code",
   "execution_count": 42,
   "metadata": {},
   "outputs": [
    {
     "data": {
      "text/plain": [
       "1    58\n",
       "0    44\n",
       "Name: Start_Tech_Oscar, dtype: int64"
      ]
     },
     "execution_count": 42,
     "metadata": {},
     "output_type": "execute_result"
    }
   ],
   "source": [
    "# check class distribution in test set\n",
    "y_test.value_counts()"
   ]
  },
  {
   "cell_type": "code",
   "execution_count": 43,
   "metadata": {},
   "outputs": [
    {
     "name": "stdout",
     "output_type": "stream",
     "text": [
      "Null accuracy score: 0.57\n"
     ]
    }
   ],
   "source": [
    "# check null accuracy score\n",
    "\n",
    "null_accuracy = (58/(58+44))\n",
    "\n",
    "print('Null accuracy score: {0:0.2f}'. format(null_accuracy))\n",
    "\n",
    "# doing well"
   ]
  },
  {
   "cell_type": "code",
   "execution_count": 44,
   "metadata": {},
   "outputs": [
    {
     "name": "stdout",
     "output_type": "stream",
     "text": [
      "Confusion matrix\n",
      "\n",
      " [[41  3]\n",
      " [44 14]]\n",
      "\n",
      "True Positives(TP) =  41\n",
      "\n",
      "True Negatives(TN) =  14\n",
      "\n",
      "False Positives(FP) =  3\n",
      "\n",
      "False Negatives(FN) =  44\n"
     ]
    }
   ],
   "source": [
    "cm = metrics.confusion_matrix(y_test, naive_bayes.predict(X_test))\n",
    "\n",
    "print('Confusion matrix\\n\\n', cm)\n",
    "\n",
    "print('\\nTrue Positives(TP) = ', cm[0,0])\n",
    "\n",
    "print('\\nTrue Negatives(TN) = ', cm[1,1])\n",
    "\n",
    "print('\\nFalse Positives(FP) = ', cm[0,1])\n",
    "\n",
    "print('\\nFalse Negatives(FN) = ', cm[1,0])"
   ]
  },
  {
   "cell_type": "markdown",
   "metadata": {},
   "source": [
    "\n",
    "-- **True Positives (Actual Positive:1 and Predict Positive:1)** - 41\n",
    "\n",
    "-- **True Negatives (Actual Negative:0 and Predict Negative:0)** - 14\n",
    "\n",
    "-- **False Positives (Actual Negative:0 but Predict Positive:1)** - 3 (Type I error)\n",
    "\n",
    "-- **False Negatives (Actual Positive:1 but Predict Negative:0)** - 44 (Type II error) "
   ]
  },
  {
   "cell_type": "code",
   "execution_count": 45,
   "metadata": {},
   "outputs": [
    {
     "data": {
      "text/plain": [
       "<matplotlib.axes._subplots.AxesSubplot at 0x28df188c848>"
      ]
     },
     "execution_count": 45,
     "metadata": {},
     "output_type": "execute_result"
    },
    {
     "data": {
      "image/png": "iVBORw0KGgoAAAANSUhEUgAAAVoAAAEJCAYAAADVS+8vAAAABHNCSVQICAgIfAhkiAAAAAlwSFlzAAALEgAACxIB0t1+/AAAADh0RVh0U29mdHdhcmUAbWF0cGxvdGxpYiB2ZXJzaW9uMy4yLjIsIGh0dHA6Ly9tYXRwbG90bGliLm9yZy+WH4yJAAAeFElEQVR4nO3debxc8/3H8df73kRkEdWijRCxBaElljRBtZbaq7XVEoqSqL10o/or1TYtrVa11UppRatEFbU1tUXQhdqCiKJSammTPIigZP38/jjnMiJ35szcOTNnxvvpcR73njMz53yuzP3c73zOd1FEYGZm+elodgBmZu3OidbMLGdOtGZmOXOiNTPLmROtmVnOnGjNzHLWK+8LDNroNPcfs3d4YfqhzQ7BCmmYenqGvkMOzJxzXn/msh5fL4vcE62ZWSNJxfug7kRrZm1FBayIOtGaWVtxi9bMLGcdHZ3NDuEdnGjNrM24RWtmliuXDszMcuZEa2aWM/c6MDPLmVu0ZmY56+goXlorXkRmZj0gGjKqtipOtGbWVlw6MDPLmROtmVnOnGjNzHLnRGtmlqsi9jooXuo3M+sB0ZF5y3Q+qVPSA5KuT/fXknS3pCckTZK0XKVzONGaWVuROjJvGZ0IzCjZPwv4YUSsB7wEHFHpBE60ZtZWJGXeMpxrdWB34MJ0X8D2wJXpUyYCn6p0nuIVM8zMeqDOvQ7OBb4MrJDuvw+YGxGL0v1ngcGVTuIWrZm1lQ71yrxJGifp3pJtXNd5JO0BzIqI+0pOv6xmcMXFIN2iNbO2Uk2LNiImABO6eXhrYE9JuwHLAwNJWrjvkdQrbdWuDjxf6Tpu0ZpZW6lXr4OIODUiVo+IocABwG0RMQaYAuybPu1Q4A+VYnKiNbP2oo7sW22+Apws6UmSmu1FlV7g0oGZtZU8huBGxO3A7en3TwEjq3m9E62ZtZUs3bYazYnWzNpKh4qX1ooXkZlZT7hFa2aWswLe4neiNbP24hatmVnOnGjNzPIVnU60Zmb5Kl6edaI1szbTUbxM60RrZu3FNVozs5wVL8860ZpZm3HpwMwsZ060ZmY5c6I1M8tZ8fKsE62ZtZdwrwMzs5y5dGBmlrPi5VknWjNrM53FmyfRidbM2otbtGZmOfPNMDOznDnRmpnlrHglWidaM2sz7t717tLRISZfcQz/+e88PnPsrzn8oFGMPWQr1hryPjba+tu8OPd/zQ7Rmmj+/AWMGXMKCxYsZPHixey889accMKYZofV8sKJ9t1l7CFb8cRTs1mhfx8A/n7/09x8+2NcdfGRTY7MimC55XozceK36d+/LwsXLuKgg77CtttuzqabbtDs0FpbAWu0NVUzJP2x3oG0m0HvH8gO267Pb39/75vHHnnsBZ59fm4To7IikUT//n0BWLRoEYsWLUIFTBItR1VsDdJti1bSZt09BGyaTzjt48xTdudb50ymf9qaNVuWxYsXs/feJ/HMMy9w0EG7s8km6zc7pNbXYqWDvwNTWXbef0+5k0oaB4wDGDhoV/qtNKLmAFvRjh9dnzkvvsZDjz7P6C3XanY4VmCdnZ384Q/nMW/eqxx77Hgef/xphg1bs9lhtbYCfiool2hnAEdFxBNLPyDp3+VOGhETgAkAgzY6LXoUYQsaOWJNdvrYBuzwkWH06dOLFfr34Sff3Y/jTvlds0Ozgho4cAAf/vAHufPO+5xoe6rFlhs/g+5ruMfXP5T2Mf7cmxh/7k0AjN5yLY4+bBsnWXuHF198mV69Ohk4cABvvDGfv/zlQcaO3afZYbW+ViodRMSVZR67Jp9w2tsRY0ZzzGc/wqorD+DWq4/n1jse54unX93ssKxJZs16kVNOOZfFi5cQsYRddtmG7bYb2eywWl4UL8+iiMqf7CVtFhH3d7dfzruxdGCVvTD90GaHYIU0rMdpcu1xV2bOOU9N2LchaTlr966jK+ybmRWDlH1rkEwDFiJibLl9M7PCqFONVtLywB1AH5JceWVEnC7pUmALYCFwD0mngYVlQ8pwMUk6WNLX0/0hklxIMrNi6lT2rbz5wPYRsQnJ2IFdJI0CLgU2AD4I9AUqDvXMUjo4HxgNHJjuvwL8NMPrzMwar0PZtzIi8Wq62zvdIiJuTB8Lkhbt6hVDyhD2hyPiWOCN9OIvActleJ2ZWcOFlHmTNE7SvSXbuNJzSeqU9CAwC7g5Iu4ueaw3cAgwuVJMWWq0CyV1ApGefBVgSRU/t5lZ41Qxg0vp4KpuHl8MbCrpPcDVkjaOiEfSh88H7oiIO+sR0nnA1cCqkr4N3AWMz/A6M7PGq1PpoFREzAVuB3YBkHQ6sApwcpbXV2zRRsSlku4DdiCZ9+BTETEjc4RmZo1Up1Vw00/vCyNirqS+wI7AWZKOBHYGdoiITJ/uKyZaST8CJkWEb4CZWfHVr3vsIGBiWjrtAK6IiOslLQKeBv6aTmt5VUScWe5EWWq09wNfkzSMpIQwKSLurfAaM7OmqNcKCxHxEPCOqQcjouoFEyq2sSNiYkTsBowEHidpOr9jRi8zs0LIoUbbU9Vk5nVJOukOBR7NJRozs55qsfloAZB0FrA38E/gCuCb6R04M7PiadHlxmcCoyNiTt7BmJn1WJ16HdRTuTXDNoiIx0iGmA2RNKT08azTJJqZNVQrTfxN0hF3HHDOMh4LYPtcIjIz64FopRptRHSN+d01It4ofSydPszMrHiKVznIFNJfMh4zM2u+Vpr4W9IHgMFAX0kjeGu8xUCgXwNiMzOrXovVaHcGDiOZa/EHJcdfAb6aY0xmZrVrpeXGI2IiyTjffSLi9w2MycysZvUagltP5UoHB0fEb4Chkt4xFVhE/GAZLzMza65W6nUA9E+/DmhEIGZmddFKLdqIuCD9+o3GhWNm1kPFy7OZVsE9W9JASb0l3SppjqSDGxGcmVm1Ojuzb42SpR/tThExD9gDeBYYBnwp16jMzGpUwG60mSaV6Z1+3Q24LCJeVAGLzWZmAEXMT1kS7XWSHgNeB45J19F5o8JrzMyaooB5NtMKC6cAo4EtImIh8BrwybwDMzOrRUuWDiT1Bg4Btk2b5FOBn+ccl5lZTVTASWWylA5+RlKnPT/dPyQ9dmReQZmZ1aqA835nSrRbRsQmJfu3SZqWV0BmZj3RkjVaYLGkdbp2JK0NLM4vJDOz2rVkjZakz+wUSU+RjLlYEzg816jMzGrUct270q5cLwMjgVVJEu1jETG/AbGZmVWtiDfDug1J0pHAdODHwIPA0IiY5iRrZkXW0ZF9a5RyLdrPAxtFxOy0LnspcG1jwjIzq00BKwdlE+2CiJgNEBFPSerToJjMzGpWwFkSyyba1SWd191+RJyQX1hmZrVptRbt0jN03ZdnIGZm9dBSiTZdM8zMrKWogLWDLP1ozcxaRiN7E2TlRGtmbaWIpYMsS9lsneWYmVkRdCj7Vo6kNSRNkTRD0nRJJy71+BclhaSVK8aUIe4fZzxmZtZ0dZzrYBHwhYjYEBgFHCtpeHINrQF8HHgmS0zdlg4kjQa2AlaRdHLJQwOBBi5rZmaWXb2G4EbEC8AL6fevSJoBDAYeBX4IfBn4Q5ZzlavRLgcMSJ+zQsnxecC+1YdtZpa/PGq0koYCI4C7Je0JPBcR07JOYFOue9dUYKqkiyPi6TrEamaWu44qundJGgeMKzk0ISImLPWcAcDvSaYlWAScBuxUVUwZnnOhpPeUXHQlSX+q5iJmZo1STY02IiZExBYl29JJtjdJkr00Iq4C1gHWAqZJ+hewOnC/pA+UiylL966VI2Ju105EvCRp1aw/9NxXnsr6VHsXue35J5sdghXQ9qsN6/E56lU6UFIXuAiYERE/AIiIh0mmjO16zr9IFq6dU+5cWVq0SyQNKTnxmkDUELeZWe7q1b0L2JpkjcTtJT2YbrvVElOWFu1pwF2Spqb72/L2moaZWWHUawRuRNxFsthBuecMzXKuiok2IiZL2oykH5mAkyo1k83MmqVXR/E+cJfrR7tBRDyWJlmA59OvQyQNiYj78w/PzKw6BZzqoGyL9gvAWOCcZTwWwPa5RGRm1gMdaqEWbUSMTb9u17hwzMx6poCzJJYtHexd7oVpnzIzs0JptdLBJ9Kvq5LMeXBbur8dcDvgRGtmhdNSLdqIOBxA0vXA8HSCBSQNAn7amPDMzKrT2Uq9DkoM7Uqyqf8CPR++YWaWg1YrHXS5PZ3b4DKS3gYHAFNyjcrMrEYt1eugS0QcJ2kvkhFhkMxuc3W+YZmZ1aalarRLuR94JSJukdRP0goR8UqegZmZ1aKIpYMsa4aNBa4ELkgPDQauyTMoM7Na1XFSmbrJ0qI9FhgJ3A0QEU9UM02imVkjtdRcByXmR8SCriUbJPXC0ySaWUEVsXSQJdFOlfRVoK+kjwPHANflG5aZWW2K2OsgS/L/CjAbeBg4CrgR+FqeQZmZ1arlarSSOoCHImJj4BeNCcnMrHYt170rIpZImpbOP/tMo4IyM6tVrwKWDrLUaAcB0yXdA7zWdTAi9swtKjOzGrVcizb1jdyjMDOrk5bqdSBpeeBzwLokN8IuiohFjQrMzKwWrdainQgsBO4EdgWGAyc2Iigzs1qpxWq0wyPigwCSLgLuaUxIZma1a7UW7cKubyJiUdfIMDOzImu1XgebSJqXfi+SkWHz0u8jIgbmHp2ZWZVaqkUbEZ2NDMTMrB5aKtGambWiIrYQnWjNrK0UcVIZJ1ozaysuHZiZ5ax3AYeGOdGaWVtxi9bMLGeu0ZqZ5cwtWjOznBWxe1cBy8ZmZrXr1RGZt0ok/VLSLEmPLHX8eEn/kDRd0tkVY+rBz2NmVjid9S0dXAz8BLik64Ck7YBPAh+KiPmSVq10EidaM2sr9azRRsQdkoYudfho4LsRMT99zqyKMdUvJDOz5qtmFVxJ4yTdW7KNy3CJYcBHJN0taaqkLSu9wC1aM2sr1bRoI2ICMKHKS/QCVgJGAVsCV0haOyK6Lfo60ZpZW+nMvx/ts8BVaWK9R9ISYGVgdncvcOnAzNpKL2XfanQNsD2ApGHAcsCcsjHVfCkzswKq580wSZcBHwNWlvQscDrwS+CXaZevBcCh5coG4ERrZm2mnqWDiDiwm4cOruY8TrRm1lY8BNfMLGdOtGZmOXOiNTPLWe8Mcxg0mrt35aijQ/z1xu/w+1996W3Hf/CNw5g941dNisqa6ZKzLuNLe/0fZx5+1jseu3nSFI7e7iReffnVJkTWPjqq2BoZk+XkuM/uyj+efO5txzb70NqsuGK/JkVkzTZ6l5Ecf9Y7R3m+OOslZtz7D977/pWaEFV7qWYIbsNiKvegEh+WtLekvdLvC1gBKZ7BH3gvu+wwgl9dPuXNYx0dYvxXD+K08b9tYmTWTOttsg79B/Z/x/Erf3oNex/1iSZE1H46lX1rlG5rtJJ2As4HngC6mmWrA+tKOiYibmpAfC3re2d8htPG/5YB/Zd/89jRh+3MDTffx39mzW1iZFY00/78CO9ZeUVWX3dws0NpC622lM2PgB0j4l+lByWtBdwIbJhjXC1t1x1GMGvOPB54eCYfGZX8bxr0/pXYe/cPs9Onv9nk6KxIFryxgMm/uZkTvve5ZofSNnoVsCBaLtH2Ipk8YWnPAb3LnTSdamwcQK+VtqDXgHVrDrAVjd5iffb4+Gbsst2m9OnTm4Er9OW+W85m/vxFTL/jXAD69V2OR+74IRtve1KTo7Vmmv38HOb850W+deT3AJg7+2XGjzuHr/zsJFZ878AmR9eaCphnyybaXwJ/l3Q58O/02BrAAcBF5U5aOvVY3yEHFq8dn7Ovn3U5Xz/rcgA+MmpDPn/UHuxz+Pfe9pzZM37lJGsMXns1vnf1W59yTjvgTE694GQGrDigiVG1tiLeReo20UbEdyRdQ7Jkw2hAJC3cMRHxaIPiM2srF33zEh5/8Eleffk1Tt3vDPY4bBe23n1Us8NqKwXMs6jCpDM99m5s0VplN/ztkGaHYAW0/Wq79ThP3jvnhsw5Z4uVd29IXs5UzpB0Rrl9M7OiKOKAhaxDcO+rsG9mVgit1r3rTRFxXbl9M7OiKOLNsIqtZ0nDJN2aziaOpA9J+lr+oZmZVU9VbI2SpUzxC+BUYCFARDxE0sXLzKxwijjXQZbSQb+IuGepKQ4W5RSPmVmPFLBykCnRzpG0DhAAkvYFXsg1KjOzGrXqxN/Hkozy2kDSc8BMYEyuUZmZ1aiAeTZTon06InaU1B/oiIhX8g7KzKxWRWzRZrkZNlPSBGAU4KnfzazQWrXXwfrALSQlhJmSfiJpm3zDMjOrjRSZt0apmGgj4vWIuCIi9gZGAAOBqblHZmZWg1Zt0SLpo5LOB+4Hlgc+nWtUZmY1aqmlbLpImgk8CFwBfCkiXss9KjOzGhVxCG6WXgebRMS83CMxM6uDAubZsoszfjkizga+rWVUjSPihFwjMzOrQau1aGekX+9tRCBmZvVQwDxbdimbrqkQ/xcRvyt9TNJ+uUZlZlajVh2wcGrGY2ZmTdehyLw1Srka7a7AbsBgSeeVPDQQz95lZgVVwAZt2Rrt8yT12T15+9I1rwBeJ9vMCqmeN8MknQQcSTJ74cPA4RHxRrXnKVejnQZMk/TbiFhYc6RmZg1UrzwraTBwAjA8Il6XdAXJogcXV3uuLP1oh0r6DjCcZFQYABGxdrUXMzPLW51Xt+0F9JW0EOhH8km/alli+hXwM5K67HbAJcCva7mYmVneJGXeyomI54DvA8+QLHbwckTcVEtMWRJt34i4FVBEPB0RZwDb13IxM7O8qZr/pHGS7i3Zxr15Hmkl4JPAWsBqQH9JB9cSU5bSwRuSOoAnJB0HPAesWsvFzMzylqSrbCJiAskKMsuyIzAzImYn59VVwFbAb6qNKUtEnyepTZwAbA4cAhxa7YXMzBqjbhMlPgOMktRPSZ1hB94aMVuVii3aiPh7+u2rwOG1XMTMrFFUp34HEXG3pCtJpoddBDxA963fsrJMk3gd6Qq4JV4m6WN7QS19yszM8lO/jrQRcTpwek/Pk6V08BRJa/YX6TYP+C8wLN03MysMqTPz1ihZboaNiIhtS/avk3RHRGwraXpegZmZ1aJepYN6ytKiXUXSkK6d9PuV090FuURlZlajarp3NUqWFu0XgLsk/ZOk+LEWcIyk/sDEPIMzM6tenceG1UGWXgc3SloP2IAk0T5WcgPs3DyDMzOrVqURX81QMfVL6gd8CTguIh4E1pC0R+6RmZnVpHgLjmed62ABMDrdfxb4Vm4RmZn1gOjMvDVKlkS7TrpI40KAiHidYs6ta2bWsjfDFkjqSzpoQdI6wPxcozIzq1ERa7RZEu3pwGSS2uylwNbAYXkGZWZWuxZMtBFxs6T7gVEkP8GJETEn98jMzGqgVureVTpIIfVw+rWfpCER8Ux+YZmZ1aaaaRIbpVyL9gaSumxpOzyAVUjmo23cLTszs8xaqHQQER8s3Zc0FPgKyWS443ONysysRkUsHWQZsLCepIuBP5IsOz48In6cd2BmZrUp3oCFcjXajYHTgI2As4EjImJxowIzM6tFEWfvKlejnQb8m6RWOxIYWdo/LSJOyDc0M7PqtVo/2s82LAozszpp5NDarMrdDPMUiGbWglqrRWtm1nJarXRgZtaCite9SxFLL3C71BOkrSPiz5WOWWWSxkVETcsVW/vy+6L9ZUn9y+oz6360tRnX7ACskPy+aHPl+tGOBrYiWZzx5JKHBuLht2ZmmZWr0S4HDEifs0LJ8XnAvnkGZWbWTsp175oKTJV0cUQ83cCY2pnrcLYsfl+0uSw3w24G9ouIuen+SsDlEbFzA+IzM2t5WW6GrdyVZAEi4iWSaRLNzCyDLIl2Sekk4JLWJF0/zMzMKsuSaE8D7pL0a0m/Bu4ATs03rNpJ2ktSSNogw3M/L6lfD651mKSfdHN8tqQHJT0qaWwN5/6cpM+UnG+1ksculDS81rhLzrOfpOmSlkjaoqfnK5oCvReWSPpQybFH0vmd60bSppJ2K9nfU9IpdTr3qZKelPQPSS4Z1qBioo2IycBmwCTgCmDziPhT3oH1wIHAXcABGZ77eaDmX64KJkXEpsDHgPGS3l/NiyPi5xFxSbp7GLBayWNHRsSjdYjxEWBvkj+e7ago74VnSRosedoUeDPRRsS1EfHdnp40/YN+AMl0qbsA50ty984qdZtou1oBkjYDhgDPA88BQ9JjhSNpAMkqvUdQ8sslqVPS9yU9LOkhScdLOoEkeU2RNCV93qslr9k3nfAcSZ+QdLekByTdUk3SjIhZwD+BNSXtkJ7jYUm/lNQnPf9305bvQ5K+nx47Q9IXJe0LbAFcmraQ+0q6XdIWko6WdHZJzIdJ+nH6/cGS7klfc8GyfjkiYkZE/CPrz9JKCvZeuB7YSNL6y4hzJ0l/lXS/pN+lcSNpN0mPSbpL0nmSrk+Pj5T0l/T6f5G0vqTlgDOB/dN/7/27WtiSVpT0L6ULaUnqJ+nfknpLWkfSZEn3Sbqzm5b/J0lufs+PiJnAkyTTploVyrVov5B+PWcZ2/dzjqtWnwImR8TjwIslfxDGAWsBIyLiQ8ClEXEeyR+P7SJiuwrnvQsYFREjgMuBL2cNSNLawNokrZqLgf3TZYJ6AUdLei+wF7BRGtu3Sl8fEVcC9wJjImLTiHi95OErSVqkXfYHJknaMP1+67RVvRgYk8ZzYTuWCZahSO+FJSST53+19KCklYGvATtGxGYk/84nS1oeuADYNSK2IVmnr8tjwLbp9b8OjI+IBen3k9L3yKSuJ0fEyyRzS380PfQJ4E8RsZCkW9nxEbE58EXg/DSuPSWdmT5/MMm81F2eTY9ZFcr1ox2bfq30xiuSA4Fz0+8vT/fvJ1nn7OcRsQggIl6s8ryrkySwQSQDOWZmeM3+krYB5gNHkfyyzEx/8QEmAscCPwHeAC6UdANJ6yeTiJgt6SlJo4AngPWBP6fn3Rz4u5KZjPoCs9LXHJn1/C2uSO8FgN8Cp0laq+TYKGA48Of032k54K/ABsBTaQsS4DLeGqa7IjBR0nokN6V7Z7j2JJI/vFNIWvfnpy3nrYDf6a3ZrvpAUnYArk2PLWsqLN8Mr1K5Ibh7d/cYQERcVf9waifpfcD2wMaSgmSYcEj6MsmbJcubo/Q5y5d8/2PgBxFxraSPAWdkONekiDiuJL5Nl3nBiEWSRgI7kPwSHJf+HFlNAj5N0tK5OiJCyW/OxIgo7E3LPBXwvdD173wOyQKnb4YK3BwRBy4V/4gyp/omMCUi9lJyQ+32DJe/FvhO+ulpc+A2oD8wN/3EU86zwBol+6uTtP6tCuVKB59ItyOAi0g+eo4BLgQOzj+0qu0LXBIRa0bE0IhYg6S1sQ1wE/A5Sb0A0jccwCu8fXjxfyVtmNaz9io5viJJfRrg0BrjewwYKmnddP8QkpF3A4AVI+JGkhsyy3rjLx1nqatIPiYfSJJ0AW4F9pW0KiQ/r5Juee8WRX0vXEzSou4qBfwN2LrrPZHWT4eRvFfW1ls9E/bv5vqHlRzv9j0SEa8C9wA/Aq6PiMURMQ+YKWm/9NqStMkyXn4tcICkPmlrfL30XFaFbhNtRBweEYeT/GUfHhH7RMQ+JHcfi+hA4Oqljv0eOIjkj8MzwEOSpqXHIKlR/bHrBghwCslH99uAF0rOcwbJR6w7gTm1BBcRbwCHp+d5mKRu93OSX47rJT0ETAVOWsbLLwZ+nt7o6LvUeV8CHgXWjIh70mOPktT+bkrPezMwCN5eo1XS/elZYDRwg6Qi9yapRiHfC2kt9TzSAT8RMZskWV6W/jv9DdggrcMfA0yWdBfwX+Dl9DRnk7RO/8zbJ3eaAgzvuhm2jMtPImkgTSo5NgY4Iv3/MJ3kxtfbarQRMZ2kt9GjwGTgWC/SWr0sQ3AfiYiNS/Y7gIdKj5lZfUkaEBGvpmWgnwJPRMQPmx2X1SbLCgu3py2dy0hatweQ/PU0s/yMlXQoyQ2yB0h6IViLqtiiheQjJrBtuntHRCz9sczMzLqRNdGuCawXEbcoGabYGRGv5B6dmVkbqDgEV8k4/St566PLYOCaPIMyM2snWSaVOZZkKOM8gIh4Ak+TaGaWWZZEOz/tlgJA2v/QI0PMzDLKkminSvoq0FfSx4HfAdflG5aZWfvI0o9WwJHATiRDBv8EXBhZ7qKZmVn5ROvBCWZmPVe2dBARS4BpKlnKxszMqpNlZNggYLqke4DXug5GxJ65RWVm1kayJNpv5B6FmVkbKzcf7fLA54B1gYeBi7omSzYzs+y6vRkmaRKwELgT2BV4OiJObGBsZmZtoVyifThd26prkMI96bpGZmZWhXK9DhZ2feOSgZlZ7cq1aBfzVi8DkSzw97/0+4iIgQ2J0MysxWWaJtHMzGqXZa4DMzPrASdaM7OcOdGameXMidbMLGdOtGZmOXOiNTPL2f8DOAqZ6gQU/WMAAAAASUVORK5CYII=\n",
      "text/plain": [
       "<Figure size 432x288 with 2 Axes>"
      ]
     },
     "metadata": {
      "needs_background": "light"
     },
     "output_type": "display_data"
    }
   ],
   "source": [
    "# visualize confusion matrix with seaborn heatmap\n",
    "\n",
    "cm_matrix = pd.DataFrame(data=cm, columns=['Actual Positive:1', 'Actual Negative:0'], \n",
    "                                 index=['Predict Positive:1', 'Predict Negative:0'])\n",
    "\n",
    "sns.heatmap(cm_matrix, annot=True, fmt='d', cmap='YlGnBu')"
   ]
  },
  {
   "cell_type": "code",
   "execution_count": 46,
   "metadata": {},
   "outputs": [
    {
     "name": "stdout",
     "output_type": "stream",
     "text": [
      "              precision    recall  f1-score   support\n",
      "\n",
      "           0       0.48      0.93      0.64        44\n",
      "           1       0.82      0.24      0.37        58\n",
      "\n",
      "    accuracy                           0.54       102\n",
      "   macro avg       0.65      0.59      0.50       102\n",
      "weighted avg       0.68      0.54      0.49       102\n",
      "\n"
     ]
    }
   ],
   "source": [
    "print(metrics.classification_report(y_test, naive_bayes.predict(X_test)))"
   ]
  },
  {
   "cell_type": "code",
   "execution_count": 47,
   "metadata": {},
   "outputs": [],
   "source": [
    "#TP = cm[0,0]\n",
    "#TN = cm[1,1]\n",
    "#FP = cm[0,1]\n",
    "#FN = cm[1,0]\n",
    "\n",
    "# print classification accuracy\n",
    "\n",
    "#classification_accuracy = (TP + TN) / float(TP + TN + FP + FN)\n",
    "\n",
    "#print('Classification accuracy : {0:0.2f}'.format(classification_accuracy))"
   ]
  },
  {
   "cell_type": "code",
   "execution_count": 48,
   "metadata": {},
   "outputs": [],
   "source": [
    "# print classification error\n",
    "\n",
    "#classification_error = (FP + FN) / float(TP + TN + FP + FN)\n",
    "\n",
    "#print('Classification error : {0:0.2f}'.format(classification_error))"
   ]
  },
  {
   "cell_type": "code",
   "execution_count": 49,
   "metadata": {},
   "outputs": [],
   "source": [
    "# print precision score\n",
    "\n",
    "#precision = TP / float(TP + FP)\n",
    "\n",
    "#print('Precision : {0:0.2f}'.format(precision))"
   ]
  },
  {
   "cell_type": "code",
   "execution_count": 50,
   "metadata": {},
   "outputs": [],
   "source": [
    "#recall = TP / float(TP + FN)\n",
    "\n",
    "#print('Recall or Sensitivity : {0:0.4f}'.format(recall))"
   ]
  },
  {
   "cell_type": "markdown",
   "metadata": {},
   "source": [
    "### Training Classification Tree"
   ]
  },
  {
   "cell_type": "code",
   "execution_count": 51,
   "metadata": {},
   "outputs": [],
   "source": [
    "from sklearn.tree import DecisionTreeClassifier\n",
    "from sklearn.ensemble import RandomForestClassifier\n",
    "clftree = DecisionTreeClassifier(max_depth = 3)\n",
    "clfrf = RandomForestClassifier(n_estimators=1000, max_depth=4, min_samples_split=24, random_state=1)"
   ]
  },
  {
   "cell_type": "code",
   "execution_count": 52,
   "metadata": {},
   "outputs": [
    {
     "name": "stdout",
     "output_type": "stream",
     "text": [
      "DecisionTreeClassifier(max_depth=3)\n"
     ]
    },
    {
     "data": {
      "text/plain": [
       "RandomForestClassifier(max_depth=4, min_samples_split=24, n_estimators=1000,\n",
       "                       random_state=1)"
      ]
     },
     "execution_count": 52,
     "metadata": {},
     "output_type": "execute_result"
    }
   ],
   "source": [
    "print(clftree.fit(X_train, y_train))\n",
    "clfrf.fit(X_train,y_train)"
   ]
  },
  {
   "cell_type": "markdown",
   "metadata": {},
   "source": [
    "### Predict values using trained model"
   ]
  },
  {
   "cell_type": "code",
   "execution_count": 53,
   "metadata": {},
   "outputs": [],
   "source": [
    "y_train_pred = clftree.predict(X_train)\n",
    "y_test_pred = clftree.predict(X_test)\n",
    "\n",
    "y1_train_pred = clfrf.predict(X_train)\n",
    "y1_test_pred = clfrf.predict(X_test)"
   ]
  },
  {
   "cell_type": "code",
   "execution_count": 54,
   "metadata": {},
   "outputs": [
    {
     "name": "stdout",
     "output_type": "stream",
     "text": [
      "[0 1 0 1 0 0 0 0 1 0 0 0 0 1 1 0 0 1 0 0 0 0 0 0 0 1 0 0 1 0 0 0 0 0 0 0 0\n",
      " 1 0 0 0 0 0 1 0 0 0 0 1 0 0 0 0 1 0 0 0 1 0 0 1 0 1 0 0 0 0 0 0 0 0 0 0 0\n",
      " 0 1 1 0 0 0 0 0 0 1 1 0 0 0 0 0 0 0 1 0 0 0 1 1 0 0 0 0]\n"
     ]
    },
    {
     "data": {
      "text/plain": [
       "array([0, 1, 0, 1, 0, 1, 0, 0, 1, 0, 0, 1, 0, 1, 1, 1, 0, 1, 0, 0, 1, 0,\n",
       "       0, 0, 1, 1, 0, 1, 1, 0, 0, 0, 1, 1, 0, 1, 1, 1, 0, 0, 0, 0, 0, 1,\n",
       "       0, 0, 1, 1, 1, 0, 0, 0, 0, 1, 0, 1, 0, 1, 0, 1, 1, 0, 1, 1, 0, 1,\n",
       "       0, 1, 1, 0, 0, 1, 0, 0, 0, 1, 1, 1, 0, 1, 1, 0, 1, 1, 1, 1, 0, 0,\n",
       "       1, 0, 1, 1, 1, 1, 0, 1, 1, 1, 0, 0, 0, 0], dtype=int64)"
      ]
     },
     "execution_count": 54,
     "metadata": {},
     "output_type": "execute_result"
    }
   ],
   "source": [
    "print(y_test_pred)\n",
    "\n",
    "y1_test_pred"
   ]
  },
  {
   "cell_type": "markdown",
   "metadata": {},
   "source": [
    "### Model Performance"
   ]
  },
  {
   "cell_type": "code",
   "execution_count": 55,
   "metadata": {},
   "outputs": [],
   "source": [
    "from sklearn.metrics import accuracy_score, confusion_matrix, classification_report, f1_score"
   ]
  },
  {
   "cell_type": "code",
   "execution_count": 56,
   "metadata": {},
   "outputs": [
    {
     "name": "stdout",
     "output_type": "stream",
     "text": [
      "[[172  14]\n",
      " [126  92]]\n"
     ]
    },
    {
     "data": {
      "text/plain": [
       "array([[154,  32],\n",
       "       [ 47, 171]], dtype=int64)"
      ]
     },
     "execution_count": 56,
     "metadata": {},
     "output_type": "execute_result"
    }
   ],
   "source": [
    "print(confusion_matrix(y_train, y_train_pred))\n",
    "\n",
    "confusion_matrix(y_train, y1_train_pred)\n"
   ]
  },
  {
   "cell_type": "code",
   "execution_count": 57,
   "metadata": {},
   "outputs": [
    {
     "name": "stdout",
     "output_type": "stream",
     "text": [
      "[[39  5]\n",
      " [41 17]]\n"
     ]
    },
    {
     "data": {
      "text/plain": [
       "array([[26, 18],\n",
       "       [25, 33]], dtype=int64)"
      ]
     },
     "execution_count": 57,
     "metadata": {},
     "output_type": "execute_result"
    }
   ],
   "source": [
    "print(confusion_matrix(y_test, y_test_pred))\n",
    "\n",
    "confusion_matrix(y_test, y1_test_pred)"
   ]
  },
  {
   "cell_type": "code",
   "execution_count": 58,
   "metadata": {},
   "outputs": [
    {
     "name": "stdout",
     "output_type": "stream",
     "text": [
      "0.5490196078431373\n"
     ]
    },
    {
     "data": {
      "text/plain": [
       "0.5784313725490197"
      ]
     },
     "execution_count": 58,
     "metadata": {},
     "output_type": "execute_result"
    }
   ],
   "source": [
    "print(accuracy_score(y_test, y_test_pred))\n",
    "\n",
    "accuracy_score(y_test, y1_test_pred)"
   ]
  },
  {
   "cell_type": "code",
   "execution_count": 59,
   "metadata": {},
   "outputs": [
    {
     "name": "stdout",
     "output_type": "stream",
     "text": [
      "[[26 18]\n",
      " [25 33]]\n",
      "              precision    recall  f1-score   support\n",
      "\n",
      "           0       0.51      0.59      0.55        44\n",
      "           1       0.65      0.57      0.61        58\n",
      "\n",
      "    accuracy                           0.58       102\n",
      "   macro avg       0.58      0.58      0.58       102\n",
      "weighted avg       0.59      0.58      0.58       102\n",
      "\n"
     ]
    }
   ],
   "source": [
    "print(confusion_matrix(y_test, y1_test_pred))\n",
    "print(classification_report(y_test, y1_test_pred))"
   ]
  },
  {
   "cell_type": "code",
   "execution_count": 60,
   "metadata": {},
   "outputs": [
    {
     "data": {
      "text/plain": [
       "<matplotlib.legend.Legend at 0x28df4797348>"
      ]
     },
     "execution_count": 60,
     "metadata": {},
     "output_type": "execute_result"
    },
    {
     "data": {
      "image/png": "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\n",
      "text/plain": [
       "<Figure size 864x576 with 1 Axes>"
      ]
     },
     "metadata": {
      "needs_background": "light"
     },
     "output_type": "display_data"
    }
   ],
   "source": [
    "from sklearn.model_selection import learning_curve\n",
    "from sklearn.feature_selection import f_classif, chi2\n",
    "\n",
    "N, train_score, val_score=learning_curve(clfrf,X_train,y_train,cv=5,scoring='f1', \n",
    "                                             train_sizes=np.linspace(0.1,1,10))\n",
    "plt.figure(figsize=(12,8))\n",
    "plt.plot(N,train_score.mean(axis=1),label='train score')\n",
    "plt.plot(N,val_score.mean(axis=1),label='validation score')\n",
    "plt.legend()"
   ]
  },
  {
   "cell_type": "code",
   "execution_count": 61,
   "metadata": {},
   "outputs": [
    {
     "data": {
      "text/plain": [
       "array([0.07358296, 0.02551015, 0.02402104, 0.18282881, 0.02827565,\n",
       "       0.04871946, 0.05041145, 0.04080963, 0.05896402, 0.02477681,\n",
       "       0.09923027, 0.07101064, 0.05210862, 0.02975905, 0.0305636 ,\n",
       "       0.14740517, 0.00269515, 0.00138343, 0.0038012 , 0.00414288])"
      ]
     },
     "execution_count": 61,
     "metadata": {},
     "output_type": "execute_result"
    }
   ],
   "source": [
    "clfrf.feature_importances_"
   ]
  },
  {
   "cell_type": "code",
   "execution_count": 62,
   "metadata": {},
   "outputs": [
    {
     "data": {
      "text/plain": [
       "<matplotlib.axes._subplots.AxesSubplot at 0x28df4817308>"
      ]
     },
     "execution_count": 62,
     "metadata": {},
     "output_type": "execute_result"
    },
    {
     "data": {
      "image/png": "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\n",
      "text/plain": [
       "<Figure size 864x576 with 1 Axes>"
      ]
     },
     "metadata": {
      "needs_background": "light"
     },
     "output_type": "display_data"
    }
   ],
   "source": [
    "pd.DataFrame(clfrf.feature_importances_,index=X_train.columns).plot.bar(figsize=(12,8))"
   ]
  },
  {
   "cell_type": "markdown",
   "metadata": {},
   "source": [
    "### Logistic with Multiple predictor"
   ]
  },
  {
   "cell_type": "code",
   "execution_count": 63,
   "metadata": {},
   "outputs": [],
   "source": [
    "from sklearn.linear_model import LogisticRegression"
   ]
  },
  {
   "cell_type": "code",
   "execution_count": 64,
   "metadata": {},
   "outputs": [],
   "source": [
    "X = df.loc[:, df.columns != 'Start_Tech_Oscar']"
   ]
  },
  {
   "cell_type": "code",
   "execution_count": 65,
   "metadata": {},
   "outputs": [],
   "source": [
    "y = df['Start_Tech_Oscar']"
   ]
  },
  {
   "cell_type": "code",
   "execution_count": 66,
   "metadata": {},
   "outputs": [
    {
     "data": {
      "text/plain": [
       "LogisticRegression()"
      ]
     },
     "execution_count": 66,
     "metadata": {},
     "output_type": "execute_result"
    }
   ],
   "source": [
    "clf_lr = LogisticRegression()\n",
    "clf_lr.fit(X,y)"
   ]
  },
  {
   "cell_type": "code",
   "execution_count": 67,
   "metadata": {},
   "outputs": [
    {
     "data": {
      "text/plain": [
       "array([[ 2.17692347e-04,  1.18729188e-03,  1.86779613e-05,\n",
       "        -8.23540965e-05,  2.31171529e-03, -1.82970340e-05,\n",
       "        -2.38172435e-05, -2.20672404e-05, -2.93877579e-05,\n",
       "         1.03025078e-04, -7.19199166e-06, -9.73469708e-04,\n",
       "         9.82169960e-03,  1.80621660e-03,  1.21806223e-03,\n",
       "         6.24087750e-05,  4.28378456e-05,  2.80976976e-05,\n",
       "         3.74951682e-05, -5.25293839e-05]])"
      ]
     },
     "execution_count": 67,
     "metadata": {},
     "output_type": "execute_result"
    }
   ],
   "source": [
    "clf_lr.coef_"
   ]
  },
  {
   "cell_type": "code",
   "execution_count": 68,
   "metadata": {},
   "outputs": [
    {
     "data": {
      "text/plain": [
       "array([2.42364942e-05])"
      ]
     },
     "execution_count": 68,
     "metadata": {},
     "output_type": "execute_result"
    }
   ],
   "source": [
    "clf_lr.intercept_"
   ]
  },
  {
   "cell_type": "code",
   "execution_count": 69,
   "metadata": {},
   "outputs": [],
   "source": [
    "import statsmodels.api as sn"
   ]
  },
  {
   "cell_type": "code",
   "execution_count": 70,
   "metadata": {},
   "outputs": [],
   "source": [
    "X_cons = sn.add_constant(X)"
   ]
  },
  {
   "cell_type": "code",
   "execution_count": 71,
   "metadata": {},
   "outputs": [
    {
     "data": {
      "text/html": [
       "<div>\n",
       "<style scoped>\n",
       "    .dataframe tbody tr th:only-of-type {\n",
       "        vertical-align: middle;\n",
       "    }\n",
       "\n",
       "    .dataframe tbody tr th {\n",
       "        vertical-align: top;\n",
       "    }\n",
       "\n",
       "    .dataframe thead th {\n",
       "        text-align: right;\n",
       "    }\n",
       "</style>\n",
       "<table border=\"1\" class=\"dataframe\">\n",
       "  <thead>\n",
       "    <tr style=\"text-align: right;\">\n",
       "      <th></th>\n",
       "      <th>const</th>\n",
       "      <th>Marketing expense</th>\n",
       "      <th>Production expense</th>\n",
       "      <th>Multiplex coverage</th>\n",
       "      <th>Budget</th>\n",
       "      <th>Movie_length</th>\n",
       "      <th>Lead_ Actor_Rating</th>\n",
       "      <th>Lead_Actress_rating</th>\n",
       "      <th>Director_rating</th>\n",
       "      <th>...</th>\n",
       "      <th>Time_taken</th>\n",
       "      <th>Twitter_hastags</th>\n",
       "      <th>Avg_age_actors</th>\n",
       "      <th>Num_multiplex</th>\n",
       "      <th>Collection</th>\n",
       "      <th>3D_available_YES</th>\n",
       "      <th>Genre_Comedy</th>\n",
       "      <th>Genre_Drama</th>\n",
       "      <th>Genre_Thriller</th>\n",
       "    </tr>\n",
       "  </thead>\n",
       "  <tbody>\n",
       "    <tr>\n",
       "      <td>0</td>\n",
       "      <td>1.0</td>\n",
       "      <td>20.1264</td>\n",
       "      <td>59.62</td>\n",
       "      <td>0.462</td>\n",
       "      <td>36524.125</td>\n",
       "      <td>138.7</td>\n",
       "      <td>7.825</td>\n",
       "      <td>8.095</td>\n",
       "      <td>7.910</td>\n",
       "      <td>...</td>\n",
       "      <td>109.60</td>\n",
       "      <td>223.840</td>\n",
       "      <td>23</td>\n",
       "      <td>494</td>\n",
       "      <td>48000</td>\n",
       "      <td>1</td>\n",
       "      <td>0</td>\n",
       "      <td>0</td>\n",
       "      <td>1</td>\n",
       "    </tr>\n",
       "    <tr>\n",
       "      <td>1</td>\n",
       "      <td>1.0</td>\n",
       "      <td>20.5462</td>\n",
       "      <td>69.14</td>\n",
       "      <td>0.531</td>\n",
       "      <td>35668.655</td>\n",
       "      <td>152.4</td>\n",
       "      <td>7.505</td>\n",
       "      <td>7.650</td>\n",
       "      <td>7.440</td>\n",
       "      <td>...</td>\n",
       "      <td>146.64</td>\n",
       "      <td>243.456</td>\n",
       "      <td>42</td>\n",
       "      <td>462</td>\n",
       "      <td>43200</td>\n",
       "      <td>0</td>\n",
       "      <td>0</td>\n",
       "      <td>1</td>\n",
       "      <td>0</td>\n",
       "    </tr>\n",
       "    <tr>\n",
       "      <td>2</td>\n",
       "      <td>1.0</td>\n",
       "      <td>20.5458</td>\n",
       "      <td>69.14</td>\n",
       "      <td>0.531</td>\n",
       "      <td>39912.675</td>\n",
       "      <td>134.6</td>\n",
       "      <td>7.485</td>\n",
       "      <td>7.570</td>\n",
       "      <td>7.495</td>\n",
       "      <td>...</td>\n",
       "      <td>147.88</td>\n",
       "      <td>2022.400</td>\n",
       "      <td>38</td>\n",
       "      <td>458</td>\n",
       "      <td>69400</td>\n",
       "      <td>0</td>\n",
       "      <td>1</td>\n",
       "      <td>0</td>\n",
       "      <td>0</td>\n",
       "    </tr>\n",
       "    <tr>\n",
       "      <td>3</td>\n",
       "      <td>1.0</td>\n",
       "      <td>20.6474</td>\n",
       "      <td>59.36</td>\n",
       "      <td>0.542</td>\n",
       "      <td>38873.890</td>\n",
       "      <td>119.3</td>\n",
       "      <td>6.895</td>\n",
       "      <td>7.035</td>\n",
       "      <td>6.920</td>\n",
       "      <td>...</td>\n",
       "      <td>185.36</td>\n",
       "      <td>225.344</td>\n",
       "      <td>45</td>\n",
       "      <td>472</td>\n",
       "      <td>66800</td>\n",
       "      <td>1</td>\n",
       "      <td>0</td>\n",
       "      <td>1</td>\n",
       "      <td>0</td>\n",
       "    </tr>\n",
       "    <tr>\n",
       "      <td>4</td>\n",
       "      <td>1.0</td>\n",
       "      <td>21.3810</td>\n",
       "      <td>59.36</td>\n",
       "      <td>0.542</td>\n",
       "      <td>39701.585</td>\n",
       "      <td>127.7</td>\n",
       "      <td>6.920</td>\n",
       "      <td>7.070</td>\n",
       "      <td>6.815</td>\n",
       "      <td>...</td>\n",
       "      <td>176.48</td>\n",
       "      <td>225.792</td>\n",
       "      <td>55</td>\n",
       "      <td>395</td>\n",
       "      <td>72400</td>\n",
       "      <td>0</td>\n",
       "      <td>0</td>\n",
       "      <td>1</td>\n",
       "      <td>0</td>\n",
       "    </tr>\n",
       "  </tbody>\n",
       "</table>\n",
       "<p>5 rows × 21 columns</p>\n",
       "</div>"
      ],
      "text/plain": [
       "   const  Marketing expense  Production expense  Multiplex coverage  \\\n",
       "0    1.0            20.1264               59.62               0.462   \n",
       "1    1.0            20.5462               69.14               0.531   \n",
       "2    1.0            20.5458               69.14               0.531   \n",
       "3    1.0            20.6474               59.36               0.542   \n",
       "4    1.0            21.3810               59.36               0.542   \n",
       "\n",
       "      Budget  Movie_length  Lead_ Actor_Rating  Lead_Actress_rating  \\\n",
       "0  36524.125         138.7               7.825                8.095   \n",
       "1  35668.655         152.4               7.505                7.650   \n",
       "2  39912.675         134.6               7.485                7.570   \n",
       "3  38873.890         119.3               6.895                7.035   \n",
       "4  39701.585         127.7               6.920                7.070   \n",
       "\n",
       "   Director_rating  ...  Time_taken  Twitter_hastags  Avg_age_actors  \\\n",
       "0            7.910  ...      109.60          223.840              23   \n",
       "1            7.440  ...      146.64          243.456              42   \n",
       "2            7.495  ...      147.88         2022.400              38   \n",
       "3            6.920  ...      185.36          225.344              45   \n",
       "4            6.815  ...      176.48          225.792              55   \n",
       "\n",
       "   Num_multiplex  Collection  3D_available_YES  Genre_Comedy  Genre_Drama  \\\n",
       "0            494       48000                 1             0            0   \n",
       "1            462       43200                 0             0            1   \n",
       "2            458       69400                 0             1            0   \n",
       "3            472       66800                 1             0            1   \n",
       "4            395       72400                 0             0            1   \n",
       "\n",
       "   Genre_Thriller  \n",
       "0               1  \n",
       "1               0  \n",
       "2               0  \n",
       "3               0  \n",
       "4               0  \n",
       "\n",
       "[5 rows x 21 columns]"
      ]
     },
     "execution_count": 71,
     "metadata": {},
     "output_type": "execute_result"
    }
   ],
   "source": [
    "X_cons.head()"
   ]
  },
  {
   "cell_type": "code",
   "execution_count": 72,
   "metadata": {},
   "outputs": [],
   "source": [
    "import statsmodels.discrete.discrete_model as sm"
   ]
  },
  {
   "cell_type": "code",
   "execution_count": 73,
   "metadata": {},
   "outputs": [
    {
     "name": "stdout",
     "output_type": "stream",
     "text": [
      "Optimization terminated successfully.\n",
      "         Current function value: 0.581579\n",
      "         Iterations 7\n"
     ]
    }
   ],
   "source": [
    "logit = sm.Logit(y,X_cons).fit()"
   ]
  },
  {
   "cell_type": "code",
   "execution_count": 74,
   "metadata": {},
   "outputs": [
    {
     "data": {
      "text/html": [
       "<table class=\"simpletable\">\n",
       "<caption>Logit Regression Results</caption>\n",
       "<tr>\n",
       "  <th>Dep. Variable:</th>   <td>Start_Tech_Oscar</td> <th>  No. Observations:  </th>  <td>   506</td>  \n",
       "</tr>\n",
       "<tr>\n",
       "  <th>Model:</th>                 <td>Logit</td>      <th>  Df Residuals:      </th>  <td>   485</td>  \n",
       "</tr>\n",
       "<tr>\n",
       "  <th>Method:</th>                 <td>MLE</td>       <th>  Df Model:          </th>  <td>    20</td>  \n",
       "</tr>\n",
       "<tr>\n",
       "  <th>Date:</th>            <td>Sun, 01 Aug 2021</td> <th>  Pseudo R-squ.:     </th>  <td>0.1559</td>  \n",
       "</tr>\n",
       "<tr>\n",
       "  <th>Time:</th>                <td>16:42:17</td>     <th>  Log-Likelihood:    </th> <td> -294.28</td> \n",
       "</tr>\n",
       "<tr>\n",
       "  <th>converged:</th>             <td>True</td>       <th>  LL-Null:           </th> <td> -348.64</td> \n",
       "</tr>\n",
       "<tr>\n",
       "  <th>Covariance Type:</th>     <td>nonrobust</td>    <th>  LLR p-value:       </th> <td>3.360e-14</td>\n",
       "</tr>\n",
       "</table>\n",
       "<table class=\"simpletable\">\n",
       "<tr>\n",
       "           <td></td>              <th>coef</th>     <th>std err</th>      <th>z</th>      <th>P>|z|</th>  <th>[0.025</th>    <th>0.975]</th>  \n",
       "</tr>\n",
       "<tr>\n",
       "  <th>const</th>               <td>   20.9433</td> <td>    4.164</td> <td>    5.030</td> <td> 0.000</td> <td>   12.782</td> <td>   29.104</td>\n",
       "</tr>\n",
       "<tr>\n",
       "  <th>Marketing expense</th>   <td>    0.0007</td> <td>    0.001</td> <td>    1.016</td> <td> 0.310</td> <td>   -0.001</td> <td>    0.002</td>\n",
       "</tr>\n",
       "<tr>\n",
       "  <th>Production expense</th>  <td>    0.0045</td> <td>    0.013</td> <td>    0.353</td> <td> 0.724</td> <td>   -0.021</td> <td>    0.030</td>\n",
       "</tr>\n",
       "<tr>\n",
       "  <th>Multiplex coverage</th>  <td>   -4.9238</td> <td>    2.576</td> <td>   -1.912</td> <td> 0.056</td> <td>   -9.972</td> <td>    0.124</td>\n",
       "</tr>\n",
       "<tr>\n",
       "  <th>Budget</th>              <td>   -0.0002</td> <td> 4.83e-05</td> <td>   -3.823</td> <td> 0.000</td> <td>   -0.000</td> <td>   -9e-05</td>\n",
       "</tr>\n",
       "<tr>\n",
       "  <th>Movie_length</th>        <td>    0.0058</td> <td>    0.006</td> <td>    0.920</td> <td> 0.358</td> <td>   -0.007</td> <td>    0.018</td>\n",
       "</tr>\n",
       "<tr>\n",
       "  <th>Lead_ Actor_Rating</th>  <td>    2.0478</td> <td>    1.676</td> <td>    1.222</td> <td> 0.222</td> <td>   -1.238</td> <td>    5.333</td>\n",
       "</tr>\n",
       "<tr>\n",
       "  <th>Lead_Actress_rating</th> <td>   -2.5189</td> <td>    1.794</td> <td>   -1.404</td> <td> 0.160</td> <td>   -6.035</td> <td>    0.998</td>\n",
       "</tr>\n",
       "<tr>\n",
       "  <th>Director_rating</th>     <td>    1.8018</td> <td>    1.744</td> <td>    1.033</td> <td> 0.301</td> <td>   -1.616</td> <td>    5.220</td>\n",
       "</tr>\n",
       "<tr>\n",
       "  <th>Producer_rating</th>     <td>   -2.0443</td> <td>    0.960</td> <td>   -2.130</td> <td> 0.033</td> <td>   -3.926</td> <td>   -0.163</td>\n",
       "</tr>\n",
       "<tr>\n",
       "  <th>Critic_rating</th>       <td>   -0.3868</td> <td>    0.169</td> <td>   -2.289</td> <td> 0.022</td> <td>   -0.718</td> <td>   -0.056</td>\n",
       "</tr>\n",
       "<tr>\n",
       "  <th>Trailer_views</th>       <td>-1.502e-05</td> <td> 2.99e-06</td> <td>   -5.028</td> <td> 0.000</td> <td>-2.09e-05</td> <td>-9.16e-06</td>\n",
       "</tr>\n",
       "<tr>\n",
       "  <th>Time_taken</th>          <td>   -0.0075</td> <td>    0.003</td> <td>   -2.225</td> <td> 0.026</td> <td>   -0.014</td> <td>   -0.001</td>\n",
       "</tr>\n",
       "<tr>\n",
       "  <th>Twitter_hastags</th>     <td>    0.0028</td> <td>    0.002</td> <td>    1.163</td> <td> 0.245</td> <td>   -0.002</td> <td>    0.007</td>\n",
       "</tr>\n",
       "<tr>\n",
       "  <th>Avg_age_actors</th>      <td>    0.0038</td> <td>    0.008</td> <td>    0.467</td> <td> 0.641</td> <td>   -0.012</td> <td>    0.020</td>\n",
       "</tr>\n",
       "<tr>\n",
       "  <th>Num_multiplex</th>       <td>   -0.0025</td> <td>    0.002</td> <td>   -1.057</td> <td> 0.290</td> <td>   -0.007</td> <td>    0.002</td>\n",
       "</tr>\n",
       "<tr>\n",
       "  <th>Collection</th>          <td>    0.0001</td> <td> 1.42e-05</td> <td>    7.340</td> <td> 0.000</td> <td> 7.66e-05</td> <td>    0.000</td>\n",
       "</tr>\n",
       "<tr>\n",
       "  <th>3D_available_YES</th>    <td>    0.2217</td> <td>    0.206</td> <td>    1.075</td> <td> 0.282</td> <td>   -0.182</td> <td>    0.626</td>\n",
       "</tr>\n",
       "<tr>\n",
       "  <th>Genre_Comedy</th>        <td>   -0.0363</td> <td>    0.323</td> <td>   -0.112</td> <td> 0.910</td> <td>   -0.669</td> <td>    0.596</td>\n",
       "</tr>\n",
       "<tr>\n",
       "  <th>Genre_Drama</th>         <td>   -0.0219</td> <td>    0.351</td> <td>   -0.063</td> <td> 0.950</td> <td>   -0.709</td> <td>    0.665</td>\n",
       "</tr>\n",
       "<tr>\n",
       "  <th>Genre_Thriller</th>      <td>   -0.3932</td> <td>    0.315</td> <td>   -1.250</td> <td> 0.211</td> <td>   -1.010</td> <td>    0.223</td>\n",
       "</tr>\n",
       "</table>"
      ],
      "text/plain": [
       "<class 'statsmodels.iolib.summary.Summary'>\n",
       "\"\"\"\n",
       "                           Logit Regression Results                           \n",
       "==============================================================================\n",
       "Dep. Variable:       Start_Tech_Oscar   No. Observations:                  506\n",
       "Model:                          Logit   Df Residuals:                      485\n",
       "Method:                           MLE   Df Model:                           20\n",
       "Date:                Sun, 01 Aug 2021   Pseudo R-squ.:                  0.1559\n",
       "Time:                        16:42:17   Log-Likelihood:                -294.28\n",
       "converged:                       True   LL-Null:                       -348.64\n",
       "Covariance Type:            nonrobust   LLR p-value:                 3.360e-14\n",
       "=======================================================================================\n",
       "                          coef    std err          z      P>|z|      [0.025      0.975]\n",
       "---------------------------------------------------------------------------------------\n",
       "const                  20.9433      4.164      5.030      0.000      12.782      29.104\n",
       "Marketing expense       0.0007      0.001      1.016      0.310      -0.001       0.002\n",
       "Production expense      0.0045      0.013      0.353      0.724      -0.021       0.030\n",
       "Multiplex coverage     -4.9238      2.576     -1.912      0.056      -9.972       0.124\n",
       "Budget                 -0.0002   4.83e-05     -3.823      0.000      -0.000      -9e-05\n",
       "Movie_length            0.0058      0.006      0.920      0.358      -0.007       0.018\n",
       "Lead_ Actor_Rating      2.0478      1.676      1.222      0.222      -1.238       5.333\n",
       "Lead_Actress_rating    -2.5189      1.794     -1.404      0.160      -6.035       0.998\n",
       "Director_rating         1.8018      1.744      1.033      0.301      -1.616       5.220\n",
       "Producer_rating        -2.0443      0.960     -2.130      0.033      -3.926      -0.163\n",
       "Critic_rating          -0.3868      0.169     -2.289      0.022      -0.718      -0.056\n",
       "Trailer_views       -1.502e-05   2.99e-06     -5.028      0.000   -2.09e-05   -9.16e-06\n",
       "Time_taken             -0.0075      0.003     -2.225      0.026      -0.014      -0.001\n",
       "Twitter_hastags         0.0028      0.002      1.163      0.245      -0.002       0.007\n",
       "Avg_age_actors          0.0038      0.008      0.467      0.641      -0.012       0.020\n",
       "Num_multiplex          -0.0025      0.002     -1.057      0.290      -0.007       0.002\n",
       "Collection              0.0001   1.42e-05      7.340      0.000    7.66e-05       0.000\n",
       "3D_available_YES        0.2217      0.206      1.075      0.282      -0.182       0.626\n",
       "Genre_Comedy           -0.0363      0.323     -0.112      0.910      -0.669       0.596\n",
       "Genre_Drama            -0.0219      0.351     -0.063      0.950      -0.709       0.665\n",
       "Genre_Thriller         -0.3932      0.315     -1.250      0.211      -1.010       0.223\n",
       "=======================================================================================\n",
       "\"\"\""
      ]
     },
     "execution_count": 74,
     "metadata": {},
     "output_type": "execute_result"
    }
   ],
   "source": [
    "logit.summary()"
   ]
  },
  {
   "cell_type": "markdown",
   "metadata": {},
   "source": [
    "### Predicting and confusion matrix"
   ]
  },
  {
   "cell_type": "code",
   "execution_count": 75,
   "metadata": {},
   "outputs": [
    {
     "data": {
      "text/plain": [
       "array([[6.62431381e-01, 3.37568619e-01],\n",
       "       [6.15059401e-01, 3.84940599e-01],\n",
       "       [1.76309148e-08, 9.99999982e-01],\n",
       "       ...,\n",
       "       [6.25231949e-01, 3.74768051e-01],\n",
       "       [4.51244376e-01, 5.48755624e-01],\n",
       "       [7.40725118e-01, 2.59274882e-01]])"
      ]
     },
     "execution_count": 75,
     "metadata": {},
     "output_type": "execute_result"
    }
   ],
   "source": [
    "clf_lr.predict_proba(X)"
   ]
  },
  {
   "cell_type": "code",
   "execution_count": 76,
   "metadata": {},
   "outputs": [
    {
     "data": {
      "text/plain": [
       "array([0, 0, 1, 1, 1, 1, 1, 1, 1, 1, 0, 0, 1, 1, 0, 1, 0, 0, 1, 0, 1, 1,\n",
       "       1, 1, 0, 0, 0, 0, 1, 0, 0, 0, 1, 1, 0, 0, 1, 0, 0, 1, 1, 0, 1, 1,\n",
       "       0, 0, 0, 1, 1, 1, 0, 0, 1, 0, 1, 1, 0, 1, 1, 0, 0, 1, 0, 1, 1, 0,\n",
       "       0, 0, 1, 0, 0, 0, 0, 0, 0, 0, 0, 0, 1, 1, 1, 0, 0, 0, 1, 1, 1, 0,\n",
       "       0, 1, 1, 0, 1, 1, 0, 1, 0, 1, 1, 1, 1, 0, 0, 1, 0, 1, 1, 1, 0, 1,\n",
       "       0, 0, 1, 0, 0, 0, 1, 1, 1, 0, 0, 0, 1, 1, 1, 1, 1, 1, 1, 0, 0, 0,\n",
       "       1, 0, 0, 0, 0, 0, 1, 0, 0, 1, 1, 1, 1, 1, 0, 1, 1, 1, 1, 1, 0, 1,\n",
       "       1, 0, 0, 1, 1, 1, 1, 1, 1, 1, 1, 1, 1, 0, 1, 1, 0, 0, 1, 0, 1, 1,\n",
       "       1, 1, 1, 1, 1, 1, 1, 1, 1, 1, 1, 1, 0, 1, 1, 0, 1, 1, 1, 1, 1, 1,\n",
       "       1, 1, 0, 0, 1, 1, 1, 1, 1, 1, 1, 1, 1, 1, 1, 0, 1, 1, 1, 1, 1, 1,\n",
       "       0, 1, 1, 1, 1, 1, 1, 1, 1, 1, 0, 0, 1, 1, 1, 1, 1, 1, 0, 1, 0, 0,\n",
       "       0, 0, 0, 0, 0, 0, 1, 0, 0, 0, 0, 1, 0, 1, 1, 1, 1, 1, 1, 1, 1, 1,\n",
       "       1, 1, 1, 1, 1, 1, 1, 0, 0, 0, 1, 1, 1, 1, 0, 1, 1, 1, 1, 1, 1, 0,\n",
       "       0, 0, 0, 1, 0, 1, 0, 1, 0, 0, 0, 1, 0, 0, 0, 0, 0, 1, 1, 1, 1, 1,\n",
       "       0, 0, 0, 1, 0, 1, 1, 0, 1, 1, 0, 0, 0, 1, 0, 1, 1, 1, 0, 1, 0, 1,\n",
       "       0, 0, 0, 0, 1, 1, 1, 0, 1, 0, 0, 1, 0, 1, 0, 0, 0, 0, 0, 0, 0, 0,\n",
       "       0, 1, 0, 0, 1, 1, 1, 1, 0, 1, 1, 1, 0, 1, 1, 1, 1, 1, 1, 1, 1, 1,\n",
       "       1, 0, 1, 1, 1, 0, 0, 0, 0, 1, 1, 1, 1, 1, 1, 0, 0, 1, 1, 0, 1, 0,\n",
       "       0, 0, 0, 1, 0, 0, 1, 1, 0, 0, 1, 1, 1, 1, 0, 1, 1, 1, 1, 0, 0, 1,\n",
       "       0, 0, 0, 0, 1, 1, 0, 1, 0, 0, 0, 0, 0, 0, 0, 0, 0, 0, 0, 0, 1, 1,\n",
       "       0, 1, 1, 1, 0, 0, 1, 0, 0, 0, 0, 0, 1, 0, 0, 0, 1, 0, 1, 1, 0, 1,\n",
       "       1, 1, 0, 1, 0, 1, 1, 1, 1, 0, 1, 1, 0, 0, 1, 1, 1, 0, 1, 1, 0, 1,\n",
       "       1, 0, 0, 0, 1, 1, 0, 1, 1, 1, 1, 1, 1, 1, 1, 1, 0, 0, 0, 0, 1, 0],\n",
       "      dtype=int64)"
      ]
     },
     "execution_count": 76,
     "metadata": {},
     "output_type": "execute_result"
    }
   ],
   "source": [
    "y_pred = clf_lr.predict(X)\n",
    "y_pred"
   ]
  },
  {
   "cell_type": "code",
   "execution_count": 77,
   "metadata": {},
   "outputs": [],
   "source": [
    "y_pred_03 = (clf_lr.predict_proba(X)[:,1] >= 0.3)"
   ]
  },
  {
   "cell_type": "code",
   "execution_count": 78,
   "metadata": {},
   "outputs": [
    {
     "data": {
      "text/plain": [
       "array([ True,  True,  True,  True,  True,  True,  True,  True,  True,\n",
       "        True,  True,  True,  True,  True,  True,  True,  True,  True,\n",
       "        True,  True,  True,  True,  True,  True,  True,  True,  True,\n",
       "        True,  True,  True,  True,  True,  True,  True,  True,  True,\n",
       "        True,  True,  True,  True,  True,  True,  True,  True,  True,\n",
       "        True,  True,  True,  True,  True,  True,  True,  True,  True,\n",
       "        True,  True,  True,  True,  True,  True,  True,  True, False,\n",
       "        True,  True, False,  True,  True,  True,  True,  True,  True,\n",
       "       False,  True,  True, False,  True,  True,  True,  True,  True,\n",
       "        True,  True,  True,  True,  True,  True,  True, False,  True,\n",
       "        True,  True,  True,  True,  True,  True,  True,  True,  True,\n",
       "        True,  True,  True,  True,  True,  True,  True,  True,  True,\n",
       "       False,  True,  True,  True,  True,  True,  True,  True,  True,\n",
       "        True,  True,  True,  True,  True,  True,  True,  True,  True,\n",
       "        True,  True,  True,  True,  True,  True,  True,  True,  True,\n",
       "        True,  True,  True,  True,  True,  True,  True,  True,  True,\n",
       "        True,  True,  True,  True,  True,  True,  True,  True,  True,\n",
       "        True,  True,  True,  True,  True,  True,  True,  True,  True,\n",
       "        True,  True,  True,  True,  True,  True,  True,  True,  True,\n",
       "        True,  True,  True,  True,  True,  True,  True,  True,  True,\n",
       "        True,  True,  True,  True,  True,  True,  True,  True,  True,\n",
       "        True,  True,  True,  True,  True,  True,  True,  True,  True,\n",
       "        True,  True,  True,  True,  True,  True,  True,  True,  True,\n",
       "        True,  True,  True,  True,  True,  True,  True,  True,  True,\n",
       "        True,  True,  True,  True,  True,  True,  True,  True,  True,\n",
       "        True,  True,  True,  True,  True,  True,  True,  True,  True,\n",
       "        True,  True,  True,  True,  True,  True,  True,  True,  True,\n",
       "        True,  True,  True,  True,  True,  True,  True,  True,  True,\n",
       "        True,  True,  True,  True,  True,  True,  True,  True,  True,\n",
       "        True,  True,  True,  True,  True,  True,  True,  True,  True,\n",
       "        True,  True,  True,  True,  True,  True,  True,  True,  True,\n",
       "        True,  True,  True,  True,  True,  True,  True, False,  True,\n",
       "        True,  True,  True,  True,  True,  True,  True,  True,  True,\n",
       "        True,  True,  True,  True,  True,  True,  True,  True,  True,\n",
       "        True,  True,  True,  True,  True,  True,  True,  True,  True,\n",
       "        True,  True,  True,  True,  True,  True,  True,  True,  True,\n",
       "        True,  True,  True,  True, False,  True,  True,  True,  True,\n",
       "       False,  True,  True,  True,  True,  True,  True,  True,  True,\n",
       "       False,  True,  True,  True,  True,  True,  True,  True,  True,\n",
       "       False, False,  True,  True,  True,  True,  True,  True,  True,\n",
       "        True,  True,  True,  True, False,  True,  True,  True,  True,\n",
       "        True,  True,  True,  True,  True,  True,  True,  True,  True,\n",
       "        True,  True,  True, False,  True,  True,  True,  True,  True,\n",
       "        True,  True,  True,  True,  True,  True,  True,  True,  True,\n",
       "        True,  True,  True,  True,  True, False,  True,  True,  True,\n",
       "        True,  True,  True,  True,  True,  True,  True,  True,  True,\n",
       "        True,  True, False,  True,  True, False,  True,  True,  True,\n",
       "        True,  True,  True,  True, False,  True,  True,  True,  True,\n",
       "       False, False,  True,  True, False,  True,  True,  True,  True,\n",
       "        True,  True,  True,  True,  True,  True,  True,  True,  True,\n",
       "        True,  True,  True,  True,  True,  True,  True,  True,  True,\n",
       "        True,  True,  True,  True,  True,  True,  True,  True,  True,\n",
       "        True,  True,  True,  True,  True,  True,  True,  True,  True,\n",
       "        True,  True,  True,  True,  True,  True,  True,  True,  True,\n",
       "        True,  True,  True,  True,  True,  True,  True,  True,  True,\n",
       "        True,  True,  True,  True,  True,  True,  True,  True,  True,\n",
       "        True, False])"
      ]
     },
     "execution_count": 78,
     "metadata": {},
     "output_type": "execute_result"
    }
   ],
   "source": [
    "y_pred_03"
   ]
  },
  {
   "cell_type": "code",
   "execution_count": 79,
   "metadata": {},
   "outputs": [
    {
     "data": {
      "text/plain": [
       "array([[125, 105],\n",
       "       [ 92, 184]], dtype=int64)"
      ]
     },
     "execution_count": 79,
     "metadata": {},
     "output_type": "execute_result"
    }
   ],
   "source": [
    "from sklearn.metrics import confusion_matrix\n",
    "confusion_matrix(y, y_pred)"
   ]
  },
  {
   "cell_type": "code",
   "execution_count": 80,
   "metadata": {},
   "outputs": [
    {
     "data": {
      "text/plain": [
       "array([[ 13, 217],\n",
       "       [  9, 267]], dtype=int64)"
      ]
     },
     "execution_count": 80,
     "metadata": {},
     "output_type": "execute_result"
    }
   ],
   "source": [
    "confusion_matrix(y, y_pred_03)"
   ]
  },
  {
   "cell_type": "markdown",
   "metadata": {},
   "source": [
    "### Linear Discriminant Analysis"
   ]
  },
  {
   "cell_type": "code",
   "execution_count": 81,
   "metadata": {},
   "outputs": [],
   "source": [
    "from sklearn.discriminant_analysis import LinearDiscriminantAnalysis"
   ]
  },
  {
   "cell_type": "code",
   "execution_count": 82,
   "metadata": {},
   "outputs": [
    {
     "data": {
      "text/plain": [
       "LinearDiscriminantAnalysis()"
      ]
     },
     "execution_count": 82,
     "metadata": {},
     "output_type": "execute_result"
    }
   ],
   "source": [
    "clf_lda = LinearDiscriminantAnalysis()\n",
    "clf_lda.fit(X, y)"
   ]
  },
  {
   "cell_type": "code",
   "execution_count": 83,
   "metadata": {},
   "outputs": [],
   "source": [
    "y_pred_lda = clf_lda.predict(X) "
   ]
  },
  {
   "cell_type": "code",
   "execution_count": 84,
   "metadata": {},
   "outputs": [
    {
     "data": {
      "text/plain": [
       "array([0, 1, 1, 1, 1, 1, 1, 1, 1, 1, 1, 0, 1, 1, 0, 0, 1, 1, 1, 0, 1, 0,\n",
       "       1, 1, 0, 0, 1, 1, 0, 0, 1, 0, 1, 1, 1, 0, 0, 0, 0, 0, 1, 0, 0, 1,\n",
       "       0, 0, 0, 1, 1, 1, 1, 0, 0, 0, 1, 1, 1, 1, 1, 1, 1, 1, 1, 1, 1, 0,\n",
       "       0, 1, 0, 1, 0, 0, 0, 1, 0, 0, 0, 0, 1, 0, 1, 0, 0, 1, 1, 0, 1, 0,\n",
       "       0, 0, 0, 0, 0, 0, 0, 0, 0, 1, 1, 0, 1, 0, 0, 0, 0, 1, 1, 1, 0, 0,\n",
       "       1, 0, 1, 0, 0, 0, 0, 0, 0, 0, 0, 0, 1, 1, 0, 0, 1, 1, 0, 0, 0, 1,\n",
       "       1, 0, 1, 0, 0, 0, 0, 0, 1, 1, 1, 1, 1, 1, 1, 1, 1, 1, 1, 1, 0, 1,\n",
       "       0, 0, 0, 1, 0, 1, 0, 1, 1, 1, 0, 0, 1, 0, 0, 1, 0, 0, 1, 0, 0, 1,\n",
       "       0, 1, 0, 1, 1, 1, 1, 1, 1, 1, 1, 1, 0, 0, 1, 1, 1, 1, 0, 1, 1, 1,\n",
       "       1, 1, 1, 1, 1, 1, 1, 0, 1, 1, 1, 1, 1, 1, 1, 1, 1, 1, 1, 1, 1, 1,\n",
       "       0, 1, 1, 0, 1, 1, 1, 1, 1, 0, 0, 0, 1, 1, 0, 0, 0, 0, 0, 1, 1, 1,\n",
       "       1, 0, 1, 1, 1, 0, 1, 0, 1, 1, 1, 1, 1, 1, 1, 1, 1, 0, 1, 1, 1, 1,\n",
       "       1, 1, 1, 1, 1, 0, 1, 0, 0, 1, 0, 0, 1, 1, 0, 0, 1, 0, 1, 1, 1, 0,\n",
       "       1, 1, 0, 1, 0, 1, 0, 0, 1, 0, 0, 1, 0, 1, 0, 0, 0, 0, 1, 1, 0, 0,\n",
       "       0, 0, 0, 0, 0, 0, 0, 0, 1, 1, 0, 0, 0, 0, 0, 1, 0, 0, 0, 1, 0, 0,\n",
       "       0, 1, 0, 0, 1, 1, 0, 0, 0, 1, 0, 1, 0, 1, 0, 1, 1, 1, 1, 1, 0, 1,\n",
       "       1, 1, 1, 1, 1, 1, 1, 1, 1, 0, 1, 1, 0, 1, 1, 1, 1, 1, 1, 1, 1, 1,\n",
       "       1, 0, 0, 0, 1, 0, 0, 0, 0, 1, 1, 1, 1, 1, 1, 1, 0, 1, 1, 0, 0, 0,\n",
       "       0, 0, 1, 1, 0, 0, 0, 0, 1, 1, 1, 1, 1, 1, 0, 1, 1, 1, 1, 1, 0, 1,\n",
       "       0, 0, 1, 0, 0, 1, 0, 1, 0, 0, 0, 0, 0, 0, 0, 1, 0, 1, 0, 1, 1, 1,\n",
       "       0, 1, 0, 0, 1, 1, 0, 0, 0, 0, 0, 1, 1, 0, 0, 0, 1, 0, 0, 1, 0, 0,\n",
       "       0, 0, 1, 1, 1, 1, 1, 1, 1, 1, 1, 1, 0, 0, 0, 1, 1, 0, 0, 1, 0, 0,\n",
       "       1, 1, 1, 1, 0, 0, 1, 1, 1, 1, 1, 1, 1, 1, 1, 1, 0, 0, 0, 0, 0, 0],\n",
       "      dtype=int64)"
      ]
     },
     "execution_count": 84,
     "metadata": {},
     "output_type": "execute_result"
    }
   ],
   "source": [
    "y_pred_lda"
   ]
  },
  {
   "cell_type": "code",
   "execution_count": 85,
   "metadata": {},
   "outputs": [
    {
     "data": {
      "text/plain": [
       "array([[142,  88],\n",
       "       [ 85, 191]], dtype=int64)"
      ]
     },
     "execution_count": 85,
     "metadata": {},
     "output_type": "execute_result"
    }
   ],
   "source": [
    "confusion_matrix(y, y_pred_lda)"
   ]
  },
  {
   "cell_type": "markdown",
   "metadata": {},
   "source": [
    "### Performance metrics\n",
    "* Precision\n",
    "$$\\textrm{precision} = \\frac{\\textrm{True Positives}}{\\textrm{True Positives} + \\textrm{False Positives}}$$\n",
    "* Recall\n",
    "$$\\textrm{recall} = \\frac{\\textrm{True Positives}}{\\textrm{True Positives} + \\textrm{False Negatives}}$$\n",
    "* AUC (ROC) "
   ]
  },
  {
   "cell_type": "code",
   "execution_count": 86,
   "metadata": {},
   "outputs": [],
   "source": [
    "from sklearn.metrics import precision_score, recall_score"
   ]
  },
  {
   "cell_type": "code",
   "execution_count": 87,
   "metadata": {},
   "outputs": [
    {
     "data": {
      "text/plain": [
       "0.6366782006920415"
      ]
     },
     "execution_count": 87,
     "metadata": {},
     "output_type": "execute_result"
    }
   ],
   "source": [
    "precision_score(y, y_pred)"
   ]
  },
  {
   "cell_type": "code",
   "execution_count": 88,
   "metadata": {},
   "outputs": [
    {
     "data": {
      "text/plain": [
       "0.6666666666666666"
      ]
     },
     "execution_count": 88,
     "metadata": {},
     "output_type": "execute_result"
    }
   ],
   "source": [
    "recall_score(y, y_pred)"
   ]
  },
  {
   "cell_type": "code",
   "execution_count": 89,
   "metadata": {},
   "outputs": [],
   "source": [
    "from sklearn.metrics import roc_auc_score"
   ]
  },
  {
   "cell_type": "code",
   "execution_count": 90,
   "metadata": {},
   "outputs": [
    {
     "data": {
      "text/plain": [
       "0.6050724637681159"
      ]
     },
     "execution_count": 90,
     "metadata": {},
     "output_type": "execute_result"
    }
   ],
   "source": [
    "roc_auc_score(y, y_pred)"
   ]
  },
  {
   "cell_type": "markdown",
   "metadata": {},
   "source": [
    "### LogesticRegression"
   ]
  },
  {
   "cell_type": "code",
   "execution_count": 91,
   "metadata": {},
   "outputs": [],
   "source": [
    "from sklearn.linear_model import LogisticRegression"
   ]
  },
  {
   "cell_type": "code",
   "execution_count": 92,
   "metadata": {},
   "outputs": [
    {
     "name": "stdout",
     "output_type": "stream",
     "text": [
      "[[105  81]\n",
      " [ 77 141]]\n",
      "[[31 13]\n",
      " [24 34]]\n",
      "0.6372549019607843\n",
      "              precision    recall  f1-score   support\n",
      "\n",
      "           0       0.56      0.70      0.63        44\n",
      "           1       0.72      0.59      0.65        58\n",
      "\n",
      "    accuracy                           0.64       102\n",
      "   macro avg       0.64      0.65      0.64       102\n",
      "weighted avg       0.65      0.64      0.64       102\n",
      "\n"
     ]
    },
    {
     "data": {
      "text/plain": [
       "<matplotlib.legend.Legend at 0x28df5dea688>"
      ]
     },
     "execution_count": 92,
     "metadata": {},
     "output_type": "execute_result"
    },
    {
     "data": {
      "image/png": "iVBORw0KGgoAAAANSUhEUgAAAskAAAHSCAYAAAAezFYoAAAABHNCSVQICAgIfAhkiAAAAAlwSFlzAAALEgAACxIB0t1+/AAAADh0RVh0U29mdHdhcmUAbWF0cGxvdGxpYiB2ZXJzaW9uMy4yLjIsIGh0dHA6Ly9tYXRwbG90bGliLm9yZy+WH4yJAAAgAElEQVR4nOzdeXxV1aH+/2flZCIhCUPCGEIYEuYQIDLLIILzWFFQFGodsOLY+qvtvbW93Gur31aqOCG2CqKi4kiLVRmVWYIMMoYEAgmBkIQhZJ7W74/ENECAAEn2Sc7n/XrxSs7Ze5/zHEB8WKy9lrHWCgAAAMB/eDkdAAAAAHA3lGQAAADgNJRkAAAA4DSUZAAAAOA0lGQAAADgNJRkAAAA4DTeNTnJGHO1pJckuST93Vr73GnHIyTNldSs4pynrbVfGmMiJe2UtLvi1HXW2qnneq/Q0FAbGRl5AR8BAAAAuHAbN27MtNaGVXfsvCXZGOOS9KqksZJSJW0wxiy01u6octp/S/rIWvu6MaanpC8lRVYcS7LWxtY0bGRkpOLj42t6OgAAAHBRjDH7z3asJtMtBkpKtNbutdYWSfpA0k2nnWMlBVd8HyIp7WKCAgAAAO6gJiW5vaSUKo9TK56r6o+SJhljUlU+ivxIlWOdjDGbjDHfGmMuv5SwAAAAQH2oSUk21Tx3+l7WEyXNsdaGS7pW0jxjjJekQ5IirLX9JD0p6X1jTPBp18oY84AxJt4YE5+RkXFhnwAAAACoZTW5cS9VUocqj8N15nSKX0i6WpKstWuNMf6SQq21RyQVVjy/0RiTJCla0imTjq21syXNlqS4uLjTCzgAAIAjiouLlZqaqoKCAqej4BL4+/srPDxcPj4+Nb6mJiV5g6QoY0wnSQclTZB052nnHJA0RtIcY0wPSf6SMowxYZKOWmtLjTGdJUVJ2lvjdAAAAA5KTU1VUFCQIiMjZUx1/7gOd2etVVZWllJTU9WpU6caX3fe6RbW2hJJ0yR9rfLl3D6y1m43xkw3xtxYcdqvJN1vjNkiab6kKdZaK2mEpK0Vz38saaq19ugFfTIAAACHFBQUqGXLlhTkBswYo5YtW17wvwbUaJ1ka+2XKr8hr+pzz1T5foekYdVc94mkTy4oEQAAgBuhIDd8F/NryI57AAAAbur48eN67bXXLuraa6+9VsePH6/lRJ6DkgwAAOCmzlWSS0tLz3ntl19+qWbNmtVFrBo5Xz53R0kGAABwU08//bSSkpIUGxurp556SitWrNDo0aN15513qk+fPpKkm2++WQMGDFCvXr00e/bsymsjIyOVmZmp5ORk9ejRQ/fff7969eqlcePGKT8//4z3WrBggXr37q2+fftqxIgRksqL7q9//Wv16dNHMTExevnllyVJS5cuVb9+/dSnTx/de++9KiwsrHzP6dOna/jw4VqwYIG++eYbDRkyRP3799f48eOVk5NT1z9ltaZGc5IBAAA83f/8c7t2pGXX6mv2bBesP9zQ66zHn3vuOW3btk2bN2+WJK1YsULff/+9tm3bVrlSw1tvvaUWLVooPz9fl112mX72s5+pZcuWp7zOnj17NH/+fL355pu6/fbb9cknn2jSpEmnnDN9+nR9/fXXat++feU0jdmzZ2vfvn3atGmTvL29dfToURUUFGjKlClaunSpoqOjdc899+j111/X448/Lql8ubVVq1YpMzNTt956q5YsWaLAwEA9//zzmjFjhp555hk1BIwkAwAANCADBw48ZSmzmTNnqm/fvho8eLBSUlK0Z8+eM67p1KmTYmNjJUkDBgxQcnLyGecMGzZMU6ZM0Ztvvlk5VWLJkiWaOnWqvL3Lx1VbtGih3bt3q1OnToqOjpYkTZ48Wd99913l69xxxx2SpHXr1mnHjh0aNmyYYmNjNXfuXO3fv792fhLqASPJAAAANXCuEd/6FBgYWPn9ihUrtGTJEq1du1YBAQEaNWpUtUud+fn5VX7vcrmqnW4xa9YsrV+/XosWLVJsbKw2b94sa+0ZK0OUr/J7/nzWWo0dO1bz58+/oM/nLhhJBgAAcFNBQUE6efLkWY+fOHFCzZs3V0BAgHbt2qV169Zd9HslJSVp0KBBmj59ukJDQ5WSkqJx48Zp1qxZKikpkSQdPXpU3bt3V3JyshITEyVJ8+bN08iRI894vcGDB2v16tWV5+Xl5SkhIeGi89U3SjIAAICbatmypYYNG6bevXvrqaeeOuP41VdfrZKSEsXExOj3v/+9Bg8efNHv9dRTT6lPnz7q3bu3RowYob59++q+++5TRESEYmJi1LdvX73//vvy9/fX22+/rfHjx6tPnz7y8vLS1KlTz3i9sLAwzZkzRxMnTlRMTIwGDx6sXbt2XXS++mbON2Re3+Li4mx8fLzTMQAAALRz50716NHD6RioBdX9WhpjNlpr46o7n5HkCpk5hcouKHY6BgAAANwAJVlSQXGpbnlttX710RaVlbnXyDoAAADqHyVZkr+PS/cO66TFO9L16vJEp+MAAADAYZTkClOGRuqWfu01Y0mClu8+4nQcAAAAOIiSXMEYoz/d0kfd2wTrsfmbtD8r1+lIAAAAcAgluYomvi69MWmAjDF6cN5G5RWVOB0JAAAADqAknyaiZYBmTuyn3ekn9fQnP553VxkAAAB30rRpU0lSWlqabrvttmrPGTVqlM635O6LL76ovLy8ysfXXnutjh8/XntB3RwluRojo8P063HdtHBLmt5anex0HAAAgAvWrl07ffzxxxd9/ekl+csvv1SzZs1qI1qtKi0trZPXpSSfxS9HddFVvVrrT1/u1NqkLKfjAAAAD/Sb3/xGr732WuXjP/7xj3rhhReUk5OjMWPGqH///urTp4+++OKLM65NTk5W7969JUn5+fmaMGGCYmJidMcddyg/P7/yvIceekhxcXHq1auX/vCHP0iSZs6cqbS0NI0ePVqjR4+WJEVGRiozM1OSNGPGDPXu3Vu9e/fWiy++WPl+PXr00P33369evXpp3Lhxp7zPTxYsWKDevXurb9++GjFihKTyovvrX/9affr0UUxMjF5++WVJ0tKlS9WvXz/16dNH9957rwoLCyuzTJ8+XcOHD9eCBQv0zTffaMiQIerfv7/Gjx+vnJycS/uJl+R9ya/QSBlj9NfxfXXzq6s17f0f9K9Hh6ttSBOnYwEAAKf8+2np8I+1+5pt+kjXPHfWwxMmTNDjjz+uX/7yl5Kkjz76SF999ZX8/f312WefKTg4WJmZmRo8eLBuvPFGGWOqfZ3XX39dAQEB2rp1q7Zu3ar+/ftXHnv22WfVokULlZaWasyYMdq6daseffRRzZgxQ8uXL1doaOgpr7Vx40a9/fbbWr9+vay1GjRokEaOHKnmzZtrz549mj9/vt58803dfvvt+uSTTzRp0qRTrp8+fbq+/vprtW/fvnL6xuzZs7Vv3z5t2rRJ3t7eOnr0qAoKCjRlyhQtXbpU0dHRuueee/T666/r8ccflyT5+/tr1apVyszM1K233qolS5YoMDBQzz//vGbMmKFnnnnmwn89qmAk+RyC/H30xt1xKiwp09R3f1BhSd0M5wMAAFSnX79+OnLkiNLS0rRlyxY1b95cERERstbqd7/7nWJiYnTllVfq4MGDSk9PP+vrfPfdd5VlNSYmRjExMZXHPvroI/Xv31/9+vXT9u3btWPHjnNmWrVqlW655RYFBgaqadOmuvXWW7Vy5UpJUqdOnRQbGytJGjBggJKTk8+4ftiwYZoyZYrefPPNyqkSS5Ys0dSpU+XtXT5+26JFC+3evVudOnVSdHS0JGny5Mn67rvvKl/njjvukCStW7dOO3bs0LBhwxQbG6u5c+dq//795/wMNcFI8nl0bdVUfx3fV1Pf3ag/LtyuP98ac/6LAABA43OOEd+6dNttt+njjz/W4cOHNWHCBEnSe++9p4yMDG3cuFE+Pj6KjIxUQUHBOV+nulHmffv26a9//as2bNig5s2ba8qUKed9nXMtauDn51f5vcvlqna6xaxZs7R+/XotWrRIsbGx2rx5s6y1Z+Q73+IJgYGBleeNHTtW8+fPP+f5F4qR5Bq4uncbPTy6i+Z/n6L53x9wOg4AAPAgEyZM0AcffKCPP/64crWKEydOqFWrVvLx8dHy5cvPO3I6YsQIvffee5Kkbdu2aevWrZKk7OxsBQYGKiQkROnp6fr3v/9deU1QUJBOnjxZ7Wt9/vnnysvLU25urj777DNdfvnlNf48SUlJGjRokKZPn67Q0FClpKRo3LhxmjVrlkpKypffPXr0qLp3767k5GQlJpbvhjxv3jyNHDnyjNcbPHiwVq9eXXleXl6eEhISapznbBhJrqEnx3bTjwez9Ycvtqt7myD1i2judCQAAOABevXqpZMnT6p9+/Zq27atJOmuu+7SDTfcoLi4OMXGxqp79+7nfI2HHnpIP//5zxUTE6PY2FgNHDhQktS3b1/169dPvXr1UufOnTVs2LDKax544AFdc801atu2rZYvX175fP/+/TVlypTK17jvvvvUr1+/aqdWVOepp57Snj17ZK3VmDFj1LdvX/Xu3VsJCQmKiYmRj4+P7r//fk2bNk1vv/22xo8fr5KSEl122WWaOnXqGa8XFhamOXPmaOLEiZU39v3f//1f5TSNi2XcbR3guLg4e751+5xyPK9IN7yySsUlVv98ZLjCgvzOfxEAAGiwdu7cqR49ejgdA7Wgul9LY8xGa21cdecz3eICNAvw1axJA3Q8v0jT3v9BxaVlTkcCAABAHaAkX6Be7UL051v7aP2+o3ru37ucjgMAAIA6wJzki3BLv3BtSTmhf6zap5jwEN0U297pSAAAAKhFjCRfpP+6rocGRrbQbz7Zqp2Hsp2OAwAA6oi73b+FC3cxv4aU5Ivk4/LSK3f1U0gTHz04b6OO5xU5HQkAANQyf39/ZWVlUZQbMGutsrKy5O/vf0HXMd3iErQK8tfrkwbojjfW6rEPNuutKZfJ5VX9dpAAAKDhCQ8PV2pqqjIyMpyOgkvg7++v8PDwC7qGknyJ+kc01x9v7KX/+mybXlySoF+N6+Z0JAAAUEt8fHzUqVMnp2PAAUy3qAV3DozQ7XHhenlZor7ZftjpOAAAALhElORaYIzR9Jt6KyY8RE9+tEVJGTlORwIAAMAloCTXEn8fl16fNEC+3l56cN5G5RSWOB0JAAAAF4mSXIvaN2uiV+7sp70ZOXpqwRbuhAUAAGigKMm1bGiXUP32mh7697bDmvXtXqfjAAAA4CJQkuvAfZd30vUxbfWXr3dp5R6WjAEAAGhoKMl1wBij/3dbjKJaBemR+ZuUcjTP6UgAAAC4AJTkOhLg66037h6g0jKrqe9uVEFxqdORAAAAUEOU5DoUGRqolybEasehbP3u0x+5kQ8AAKCBoCTXsSu6t9bjY6L16aaDmrduv9NxAAAAUAOU5HrwyBVddWWPVpr+zx3akHzU6TgAAAA4D0pyPfDyMppxR6w6tAjQL9/7QenZBU5HAgAAwDlQkutJsL+P3rh7gHILS/TL935QUUmZ05EAAABwFpTkehTdOkh/ua2vNu4/pv/91w6n4wAAAOAsKMn17LqYtnpwRGfNW7dfC+JTnI4DAACAalCSHfDUVd00rGtL/dfn2/Rj6gmn4wAAAOA0lGQHeLu8NHNCP4U19dPUdzcqK6fQ6UgAAACogpLskJZN/TRr0gBl5BTq0Q82qaSUG/kAAADcBSXZQX3CQ/Tszb21OjFLf/l6t9NxAAAAUIGS7LDxcR00aXCE3vhurxZtPeR0HAAAAIiS7Baeub6X+kc001Mfb9HuwyedjgMAAODxKMluwNfbS69PGqBAP29NfXejTuQXOx0JAADAo1GS3UTrYH+9dld/pRzN05MfblZZmXU6EgAAgMeiJLuRyyJb6PfX99TSXUf08rJEp+MAAAB4LEqym7lnSEfd2r+9XlyaoGW70p2OAwAA4JEoyW7GGKM/3dJHPdsG67EPNis5M9fpSAAAAB6HkuyG/H1cmjVpgFxeRg/O26jcwhKnIwEAAHgUSrKb6tAiQC9P7Kc9R07qN59slbXcyAcAAFBfKMlu7PKoMD11VXf9a+sh/WPVPqfjAAAAeAxKspubOrKzrundRn/+9y6tScp0Og4AAIBHoCS7OWOM/jK+rzqFBmra+5uUdjzf6UgAAACNHiW5AWjq56037h6g4pIyTX13owqKS52OBAAA0KhRkhuILmFN9cLtfbU19YSe+WIbN/IBAADUIUpyAzKuVxs9ckVXfRSfqve/P+B0HAAAgEaLktzAPH5ltEZGh+mPC7frhwPHnI4DAADQKFGSGxiXl9FLE2LVNqSJHnp3o46cLHA6EgAAQKNDSW6AmgX4atakATqRX6xp721ScWmZ05EAAAAaFUpyA9WzXbCe/1mMvk8+qmcX7XQ6DgAAQKPi7XQAXLybYttrS8oJvbV6n/p2CNEt/cKdjgQAANAoMJLcwP322u4a1KmFfvvpj9qedsLpOAAAAI0CJbmB83F56ZU7+6tZE189OG+jjucVOR0JAACgwaMkNwJhQX56fVJ/Hcku1CPzN6m0jI1GAAAALkWNSrIx5mpjzG5jTKIx5ulqjkcYY5YbYzYZY7YaY66tcuy3FdftNsZcVZvh8R/9Iprrf27qpZV7MjVj8W6n4wAAADRo5y3JxhiXpFclXSOpp6SJxpiep53235I+stb2kzRB0msV1/aseNxL0tWSXqt4PdSBiQMjNHFgB726PElfbTvsdBwAAIAGqyYjyQMlJVpr91priyR9IOmm086xkoIrvg+RlFbx/U2SPrDWFlpr90lKrHg91JE/3thLfTs0068+2qzEIzlOxwEAAGiQalKS20tKqfI4teK5qv4oaZIxJlXSl5IeuYBrZYx5wBgTb4yJz8jIqGF0VMfP26VZk/rL38elB+fF62RBsdORAAAAGpyalGRTzXOn3xk2UdIca224pGslzTPGeNXwWllrZ1tr46y1cWFhYTWIhHNpG9JEr97VX8lZefr1gi0q40Y+AACAC1KTkpwqqUOVx+H6z3SKn/xC0keSZK1dK8lfUmgNr0UdGNy5pX53bQ99vT1dr3+b5HQcAACABqUmJXmDpChjTCdjjK/Kb8RbeNo5BySNkSRjTA+Vl+SMivMmGGP8jDGdJEVJ+r62wuPc7h0WqZti2+mv3+zWtwlMYwEAAKip85Zka22JpGmSvpa0U+WrWGw3xkw3xtxYcdqvJN1vjNkiab6kKbbcdpWPMO+Q9JWkh621pXXxQXAmY4z+fGsfdWsdpEfnb1LK0TynIwEAADQIxlr3mq8aFxdn4+PjnY7RqOzPytUNL69S++YB+vShoWriyyp8AAAAxpiN1tq46o6x454H6NgyUC9N7Kddh7P120+3yt3+YgQAAOBuKMkeYnS3Vnryymh9vjlNc9YkOx0HAADArVGSPcjDo7vqyh6t9eyinVq/N8vpOAAAAG6LkuxBvLyMZtzRVxEtAvTw+z/o8IkCpyMBAAC4JUqyhwn299Ebdw9QflGpHnpvowpLWGwEAADgdJRkDxTVOkh/Hd9Xmw4c1//8c4fTcQAAANwOJdlDXdOnraaO7KL31x/QhxsOOB0HAADArVCSPdhTV3XT8K6h+v3n27Ul5bjTcQAAANwGJdmDubyMXp7YT2FBfpr67kZl5hQ6HQkAAMAtUJI9XPNAX71x9wAdzS3StPd/UElpmdORAAAAHEdJhnq3D9GfbumjdXuP6vmvdjkdBwAAwHHeTgeAe/jZgHBtTT2uN1fuU5/wZrqxbzunIwEAADiGkWRU+q/reiquY3P95uOt2nU42+k4AAAAjqEko5Kvt5deu6u/Av1ceubz7bLWOh0JAADAEZRknKJVsL8eHROl75OPalViptNxAAAAHEFJxhnuuKyD2oX464VvEhhNBgAAHomSjDP4ebv0yJgobU45ruW7jzgdBwAAoN5RklGt2waEK6JFgGYsZjQZAAB4HkoyquXj8tKjY6K07WC2vt6e7nQcAACAekVJxlndHNtOnUMD9bfFCSorYzQZAAB4Dkoyzsrb5aXHrozS7vSTWvTjIafjAAAA1BtKMs7phph2im7dVC8uSVApo8kAAMBDUJJxTl5eRk9cGa2kjFx9sfmg03EAAADqBSUZ53VVrzbq2TZYLy3do+LSMqfjAAAA1DlKMs7Ly8voybHR2p+Vp09/SHU6DgAAQJ2jJKNGxvRopb4dmmnm0kQVlTCaDAAAGjdKMmrEmPLR5IPH8/VhfIrTcQAAAOoUJRk1NiIqVHEdm+vVZYkqKC51Og4AAECdoSSjxowxenJctA5nF+j99QecjgMAAFBnKMm4IEO7hGpI55Z6bUWS8osYTQYAAI0TJRkX7FfjopWZU6h31iY7HQUAAKBOUJJxweIiW2hEdJhmfZuknMISp+MAAADUOkoyLsqTY6N1LK9Yc1bvczoKAABAraMk46LEdmimMd1bafZ3e3Uiv9jpOAAAALWKkoyL9sTYaGUXlOgfqxhNBgAAjQslGRetd/sQXd2rjd5atU/HcoucjgMAAFBrKMm4JE+MjVZuUYlmr9zrdBQAAIBaQ0nGJenWJkjXx7TTnNXJyswpdDoOAABAraAk45I9fmWUCktKNWtFktNRAAAAagUlGZesS1hT3dyvveat26/07AKn4wAAAFwySjJqxWNjolRSZvXa8kSnowAAAFwySjJqRceWgRo/IFzzv0/RweP5TscBAAC4JJRk1JppV3SVldUryxhNBgAADRslGbUmvHmAJlwWoQXxKTqQled0HAAAgItGSUatenh0V3l5Gc1ctsfpKAAAABeNkoxa1SbEX5MGddSnP6RqX2au03EAAAAuCiUZte6hUV3k5+3SS0sSnI4CAABwUSjJqHVhQX66Z2hHfbElTXvSTzodBwAA4IJRklEnHhzRRQE+Lr24hLnJAACg4aEko060CPTVvcM7adGPh7QjLdvpOAAAABeEkow6c9/wzgry99bfmJsMAAAaGEoy6kxIgI/uv7yzFu9I19bU407HAQAAqDFKMurUz4dFqlmAj2YsZjQZAAA0HJRk1Kkgfx89OKKLVuzO0Mb9x5yOAwAAUCOUZNS5yUM7KrSpr2Ys3u10FAAAgBqhJKPOBfh6a+rILlqdmKV1e7OcjgMAAHBelGTUi0mDO6p1sJ9mfJMga63TcQAAAM6Jkox64e/j0sOju+r75KNalZjpdBwAAIBzoiSj3txxWQe1C/HXC4wmAwAAN0dJRr3x83bpkTFR2pxyXMt3H3E6DgAAwFlRklGvbhsQrogWAZqxmNFkAADgvijJqFc+Li89OiZK2w5m6+vt6U7HAQAAqBYlGfXu5th26hwaqL8tTlBZGaPJAADA/VCSUe+8XV567Moo7U4/qUU/HnI6DgAAwBkoyXDEDTHtFN26qV5ckqBSRpMBAICboSTDEV5eRk9cGa2kjFx9sfmg03EAAABOQUmGY67q1UY92wbrpaV7VFxa5nQcAACASpRkOMbLy+jJsdHan5WnT39IdToOAABAJUoyHDWmRyv17dBMM5cmqqiE0WQAAOAeKMlwlDHlo8kHj+frw/gUp+MAAABIoiTDDYyIClVcx+Z6dVmiCopLnY4DAABASYbzjDF6cly0DmcX6P31B5yOAwAAULOSbIy52hiz2xiTaIx5uprjfzPGbK74kWCMOV7lWGmVYwtrMzwaj6FdQjWkc0u9tiJJ+UWMJgMAAGedtyQbY1ySXpV0jaSekiYaY3pWPcda+4S1NtZaGyvpZUmfVjmc/9Mxa+2NtZgdjcyvxkUrM6dQ76xNdjoKAADwcDUZSR4oKdFau9daWyTpA0k3neP8iZLm10Y4eJa4yBYaER2mWd8mKaewxOk4AADAg9WkJLeXVHXZgdSK585gjOkoqZOkZVWe9jfGxBtj1hljbr7opPAIT46N1rG8Ys1Zvc/pKAAAwIPVpCSbap6zZzl3gqSPrbVVJ5VGWGvjJN0p6UVjTJcz3sCYByqKdHxGRkYNIqGxiu3QTFf2aKXZ3+3Vifxip+MAAAAPVZOSnCqpQ5XH4ZLSznLuBJ021cJam1bxda+kFZL6nX6RtXa2tTbOWhsXFhZWg0hozJ4YG63sghL9YxWjyQAAwBk1KckbJEUZYzoZY3xVXoTPWKXCGNNNUnNJa6s819wY41fxfaikYZJ21EZwNF692oXomt5t9NaqfTqWW+R0HAAA4IHOW5KttSWSpkn6WtJOSR9Za7cbY6YbY6quVjFR0gfW2qpTMXpIijfGbJG0XNJz1lpKMs7ribHRyi0q0eyVe52OAgAAPJA5tdM6Ly4uzsbHxzsdA27g0fmbtHhHulb+ZrRCm/o5HQcAADQyxpiNFffOnYEd9+C2HrsySoUlpZq1IsnpKAAAwMNQkuG2uoQ11S39wjVv3X6lZxc4HQcAAHgQSjLc2mNjolRaZvXa8kSnowAAAA9CSYZbi2gZoPFx4Zr/fYoOHs93Og4AAPAQlGS4vWlXREmSXlnGaDIAAKgflGS4vfbNmmjCwA5aEJ+iA1l5TscBAAAegJKMBuHh0V3l8jKauWyP01EAAIAHoCSjQWgd7K9Jgzvq0x9StTcjx+k4AACgkaMko8GYOrKL/Lxdemkpo8kAAKBuUZLRYIQF+emeoR21cEuaEtJPOh0HAAA0YpRkNCgPjuiiAB+XXlyS4HQUAADQiFGS0aC0CPTVvcM76csfD2t72gmn4wAAgEaKkowG577hnRXk762/LWZuMgAAqBuUZDQ4IQE+uv/yzlqyM11bUo47HQcAADRClGQ0SD8fFqlmAT6asZi5yQAAoPZRktEgBfn76MERXfRtQoY27j/qdBwAANDIUJLRYE0e2lGhTX31wjeMJgMAgNpFSUaDFeDrrakju2hNUpbWJmU5HQcAADQilGQ0aJMGd1TrYD/NWLxb1lqn4wAAgEaCkowGzd/HpYdHd9WG5GNauSfT6TgAAKCRoCSjwbvjsg5qF+KvFxYnMJoMAABqBSUZDZ6ft0uPjInSlpTjWr77iNNxAABAI0BJRqNw24BwRbQI0AxGkwEAQC2gJKNR8HF56dExUdp2MABmmEQAACAASURBVFtfb093Og4AAGjgKMloNG6ObafOoYH62+IElZUxmgwAAC4eJRmNhrfLS49dGaXd6Se16MdDTscBAAANGCUZjcoNMe0U3bqpXlySoFJGkwEAwEWiJKNR8fIyeuLKaCVl5OqLzQedjgMAABooSjIanat6tVHPtsF6aekeFZeWOR0HAAA0QJRkNDpeXkZPjo3W/qw8ffpDqtNxAABAA0RJRqM0pkcr9e3QTDOXJqqohNFkAABwYSjJaJSMKR9NPng8Xx/GpzgdBwAANDCUZDRaI6JCFdexuV5dlqiC4lKn4wAAgAaEkoxGyxijJ8dF63B2gd5ff8DpOAAAoAGhJKNRG9olVEM6t9RrK5KUX8RoMgAAqBlKMhq9X42LVmZOod5Zm+x0FAAA0EBQktHoxUW20IjoMM36Nkk5hSVOxwEAAA0AJRke4cmx0TqWV6w5q/c5HQUAADQAlGR4hNgOzXRlj1aa/d1encgvdjoOAABwc5RkeIwnxkYru6BE/1jFaDIAADg3SjI8Rq92Ibqmdxu9tWqfjuUWOR0HAAC4MUoyPMoTY6OVW1Si2Sv3Oh0FAAC4MUoyPEp06yDdENNOc1YnKzOn0Ok4AADATVGS4XEeuzJKhSWlmrUiyekoAADATVGS4XG6hDXVLf3CNW/dfqVnFzgdBwAAuCFKMjzSY2OiVFpm9dryRKejAAAAN0RJhkeKaBmg8XHhmv99ig4ez3c6DgAAcDOUZHisaVdESZJeWcZoMgAAOBUlGR6rfbMmmjCwgxbEp+hAVp7TcQAAgBuhJMOjPTy6q1xeRjOX7XE6CgAAcCOUZHi01sH+mjS4oz79IVV7M3KcjgMAANwEJRke76FRXeTn7dJLSxlNBgAA5SjJ8HihTf00eWikFm5JU0L6SafjAAAAN0BJBiQ9OKKzAn299eKSBKejAAAAN0BJBiQ1D/TVvcMi9eWPh7U97YTTcQAAgMMoyUCFX1zeWcH+3vrbYuYmAwDg6SjJQIWQJj66//LOWrIzXVtSjjsdBwAAOIiSDFTx8+Gd1DzARzMWMzcZAABPRkkGqmjq560HR3bRtwkZ2rj/qNNxAACAQyjJwGnuGdJRoU199cI3jCYDAOCpKMnAaQJ8vfXQqK5ak5SltUlZTscBAAAOoCQD1bhrUIRaB/tpxuLdstY6HQcAANQzSjJQDX8fl6aN7qoNycf0ztr9KiopczoSAACoR5Rk4Cxuv6yDYsJD9IeF2zXs+WX62+IEHckucDoWAACoB8bd/ik5Li7OxsfHOx0DkCSVlVl9tydDc9cka/nuDPm4jK7p3VaTh0aqf0QzGWOcjggAAC6SMWajtTauumPe9R0GaEi8vIxGdWulUd1aKTkzV++s3a8F8SlauCVNfdqHaPLQSF0f01b+Pi6nowIAgFrESDJwgXILS/TppoOauyZZiUdy1CLQVxMHdtCkwR3VNqSJ0/EAAEANnWskmZIMXCRrrdYkZWnOmmQt3ZkuY4yu6tVak4dEamCnFkzFAADAzTHdAqgDxhgN6xqqYV1DlXI0T++u268PNqToyx8Pq3ubIE0ZGqmbYturiS9TMQAAaGgYSQZqUX5Rqb7YfFBz1iRr1+GTCmniowmXlU/F6NAiwOl4AACgCqZbAPXMWqvv9x3V3LXJ+np7uqy1GtOjtaYMjdTQLi2ZigEAgBtgugVQz4wxGtS5pQZ1bqm04/l6b/1+zf8+RYt3pCuqVVPdMzRSt/Zrr0A//hMEAMAdMZIM1JOC4lL9a+shzV2TrB8PnlCQv7fGD+ige4Z0VGRooNPxAADwOJc83cIYc7WklyS5JP3dWvvcacf/Jml0xcMASa2stc0qjk2W9N8Vx/7PWjv3XO9FSUZjZ63VDweOa+6aZH354yGVWqtR0WGaPDRSI6LC5OXFVAwAAOrDJZVkY4xLUoKksZJSJW2QNNFau+Ms5z8iqZ+19l5jTAtJ8ZLiJFlJGyUNsNYeO9v7UZLhSY5kF+i99Qf0/vcHlHGyUJ1CA3XPkI66bUC4gvx9nI4HAECjdq6S7FWD6wdKSrTW7rXWFkn6QNJN5zh/oqT5Fd9fJWmxtfZoRTFeLOnqmkcHGrdWwf56Ymy0Vv/mCr00IVbNAnz0P//cocF/WqpnvtimxCM5TkcEAMAj1eSuofaSUqo8TpU0qLoTjTEdJXWStOwc17av5roHJD0gSRERETWIBDQuvt5euim2vW6Kba+tqcc1Z02yPvg+Re+s3a/Lo0I1eUikRndvJRdTMQAAqBc1GUmu7v/KZ5ujMUHSx9ba0gu51lo721obZ62NCwsLq0EkoPGKCW+mGbfHas1vr9Cvx0VrT3qO7nsnXqP+ulyzv0vSibxipyMCANDo1aQkp0rqUOVxuKS0s5w7Qf+ZanGh1wKoIrSpn6ZdEaWVvxmtV+/sr7bBTfSnL3dp0J+X6Lef/qhdh7OdjggAQKNVkxv3vFV+494YSQdVfuPendba7aed103S15I62YoXrbhxb6Ok/hWn/aDyG/eOnu39uHEPOLsdadmauyZZn28+qMKSMg3u3EKTh0RqbM/W8nbV5O+8AADgJ7WxBNy1kl5U+RJwb1lrnzXGTJcUb61dWHHOHyX5W2ufPu3aeyX9ruLhs9bat8/1XpRk4PyO5Rbpw/gUzVu7XweP56tdiL/uGtxREwdGqEWgr9PxAABoENiWGmikSsusluxM19w1yVqTlCVfby/d2LedpgyNVO/2IU7HAwDArVGSAQ+QkH5Sc9ck69MfDiq/uFQDOjbX5KGRuqZ3G/kwFQMAgDNQkgEPciK/WAviUzRv3X7tz8pTqyA/3TWoo+4cFKGwID+n4wEA4DYoyYAHKiuzWpFwRHPW7Nd3CRnycRld16etJg+NVL+I5k7HAwDAcecqyTXZTARAA+TlZXRF99a6ontrJWXkaN7a/fp4Y6o+35ymvuEhmjw0UtfFtJWft8vpqAAAuB1GkgEPklNYok82pmru2mTtzchVaFNfTRwYobsGdVSbEH+n4wEAUK+YbgHgFGVlVqsSMzV3TbKW7T4ilzG6qncbTRkaqbiOzWUM218DABo/plsAOIWXl9GI6DCNiA7Tgaw8vbM2WR/Fp2jR1kPq2TZYU4ZG6sbYdvL3YSoGAMAzMZIMQJKUV1SizzYd1Nw1yUpIz1HzAB/dcVmE7h7SUe2bNXE6HgAAtY7pFgBqzFqrtXuzNHdNshbvSJckje3ZWpOHRmpI55ZMxQAANBpMtwBQY8YYDe0SqqFdQpV6LE/vrjugDzYc0Nfb09WtdZDuGdpRP+sfzlQMAECjxkgygPMqKC7Vws1pmrMmWTsOZSu6dVO9PmmAuoQ1dToaAAAX7VwjyexVC+C8/H1cuv2yDlr06HC9NSVOmTlFuvHlVfrnljSnowEAUCcoyQBqzJjyDUoWPTpc3doE6ZH5m/SHL7apsKTU6WgAANQqSjKAC9Y2pIk+fHCIfjG8k+au3a/b31in1GN5TscCAKDWUJIBXBQfl5d+f31PvX5Xf+09kqPrX16l5buPOB0LAIBaQUkGcEmu6dNWCx8ZrjbB/vr52xv01693q7TMvW4IBgDgQlGSAVyyTqGB+vzhYbojroNeWZ6ou/+xXhknC52OBQDARaMkA6gV/j4uPX9bjP7fbTHauP+Yrpu5Uuv3ZjkdCwCAi0JJBlCrbo/roM8fHqZAP2/d+ff1mvVtktxtPXYAAM6Hkgyg1vVoG6yF04bpql6t9dy/d+n+dzbqRF6x07EAAKgxSjKAOhHk76NX7+yvP9zQUyt2H9H1r6zUj6knnI4FAECNUJIB1BljjH4+rJM+fHCISkqtfvb6Gr23fj/TLwAAbo+SDKDODejYXIsevVyDu7TUf322TU98uFm5hSVOxwIA4KwoyQDqRYtAX82Zcpl+NTZaX2xJ002vrlbikZNOxwIAoFqUZAD1xsvL6JExUZp37yAdyy3Sja+s1hebDzodCwCAM1CSAdS74VGhWvTo5erVLliPfbBZ//35jyosKXU6FgAAlSjJABzRJsRf798/WA+M6Kx31x3Q+FlrlXI0z+lYAABIoiQDcJCPy0u/u7aH3rh7gPZl5ur6l1dp6c50p2MBAEBJBuC8q3q10b8eGa7w5k30i7nxev6rXSopLXM6FgDAg1GSAbiFji0D9clDQzVxYIReX5Gku/6+XkeyC5yOBQDwUJRkAG7D38elP9/aRy+M76stqcd17cxVWpuU5XQsAIAHoiQDcDs/GxCuLx4eruAm3rrr7+v06vJElZWxSx8AoP5QkgG4pW5tgrRw2nBd26et/vL1bt33TryO5xU5HQsA4CEoyQDcVlM/b708sZ+m39RLK/dk6LqZq7Ql5bjTsQAAHoCSDMCtGWN0z5BILZg6VJI0ftZazVubLGuZfgEAqDuUZAANQmyHZvrXI8M1rGtL/f6L7Xr0g83KLSxxOhYAoJGiJANoMJoH+uofky/TU1d106KtabrxlVVKSD/pdCwAQCNESQbQoHh5GT08uqvevW+QTuQX66ZXVuuzTalOxwIANDKUZAAN0tAuoVr06OXq0z5ET3y4Rb/77EcVFJc6HQsA0EhQkgE0WK2D/fX+/YM0dWQXvb/+gG6btUYHsvKcjgUAaAQoyQAaNG+Xl56+prvevCdOB7LydN3LK7V4R7rTsQAADRwlGUCjMLZnay169HJ1bBmg+9+J15+/3Kni0jKnYwEAGihKMoBGo0OLAH08dajuGhShN77bqzvfXKf07AKnYwEAGiBKMoBGxd/HpWdv6aMX74jVtoPZum7mSq1OzHQ6FgCggaEkA2iUbu7XXgunDVNIEx/d/Y/1ennpHpWVsUsfAKBmKMkAGq2o1kFaOG24ro9ppxcWJ+jeuRt0LLfI6VgAgAaAkgygUQv089ZLE2L1vzf31prELF03c6U2HTjmdCwAgJujJANo9IwxuntwR3380BAZY3T7G2s1Z/U+Wcv0CwBA9SjJADxGTHgzLXp0uEZEhemP/9yhae9v0smCYqdjAQDcECUZgEdpFuCrN++J0/93dTf9e9sh3fTKau06nO10LACAm6EkA/A4Xl5GvxzVVe/fP1gnC0t086ur9fHGVKdjAQDcCCUZgMca3LmlFj06XLEdmunXC7bo6U+2qqC41OlYAAA3QEkG4NFaBfnr3V8M0sOju+iDDSm69bU12p+V63QsAIDDKMkAPJ63y0tPXdVdb02J08Hj+bp+5ip9te2w07EAAA6iJANAhSu6t9a/HhmuzmGBmvruRv3fv3aouLTM6VgAAAdQkgGgig4tAvTR1CG6Z0hH/X3VPk2cvU6HTxQ4HQsAUM8oyQBwGj9vl6bf1FszJ/bTjkPZum7mSq3ak+l0LABAPaIkA8BZ3Ni3nRZOG6YWgb66+631emnJHpWVsUsfAHgCSjIAnEPXVkH6Ytow3RzbXn9bkqApczboaG6R07EAAHWMkgwA5xHg660Zt/fVn27po3VJWbpu5kpt3H/M6VgAgDpESQaAGjDG6M5BEfr0l0Pl7TK64421+seqfSooLpW1TMEAgMbGuNsf7nFxcTY+Pt7pGABwVifyivWrBVu0ZGe6JMnbyyjA16VAP28F+LrU1M9bAb7eCvRzVXz1VqCvSwFVvjb96ZivtwL8frrGVfnYz9vl8KcEgMbPGLPRWhtX3THv+g4DAA1dSICP3rxngBb9eEj7s/KUW1iivKLSyq85hSXKKypR2vFi5RWVKKewVHlF5cdqysdlKkp0Rbn+qWBXKd+VRbvysfeZZb3Kdb7e/OMhANQUJRkALoIxRtfHtLuga8rKrPKLS5VbVKLcwv+U6vLHJcorLP++smgXlii3qLxg/3T+sbz8Ux7nF19Y8S4v2+Ul+tQR7Z8enzqiHVjNSHjla/i55OOieANonCjJAFBPvLwqSqqftxRUO69ZWlG88wpLKkawzyzfuRUj2bkVx05/nJWTp7yKMp5TWKKC4prvMujr8lKgn0tN/b11Vc82un9EZ7UO9q+dDwcADqIkA0AD5vIyaloxAtyqll6ztMxWTg/5qVSXj3D/ZwQ7t6i0cqQ7t7BEh7ML9PaaZL2zdr9uiwvX1BFdFNEyoJYSAUD9oyQDAE7h8jIK8vdRkL/PBV13ICtPb3yXpAXxqfpwQ4pu7NtOD43qoujWtTRsDgD1iNUtAAC1Kj27QH9fuVfvrT+gvKJSXdWrtR4e3VUx4c2cjgYApzjX6haUZABAnTiWW6S31yRrzup9yi4o0eVRoXp4dFcN6tRCxhin4wEAJRkA4JyTBcV6b/0B/X3lPmXmFCquY3M9PLqrRnULoywDcBQlGQDguILiUi2IT9Gsb/fq4PF89WwbrIdHd9XVvdvI5UVZBlD/KMkAALdRXFqmLzan6bUVidqbkavOYYF6aGQX3dyvPesuA6hX5yrJNfrTyBhztTFmtzEm0Rjz9FnOud0Ys8MYs90Y836V50uNMZsrfiy8uI8AAGgsfFxeum1AuBY/MVKv3dVfTXxceurjrRr1lxWauyZZBRewQQoA1JXzjiQbY1ySEiSNlZQqaYOkidbaHVXOiZL0kaQrrLXHjDGtrLVHKo7lWGub1jQQI8kA4FmstVqRkKFXlyUqfv8xhTb11S+Gd9akwREXvAwdAFyISx1JHigp0Vq711pbJOkDSTedds79kl611h6TpJ8KMgAA52OM0ehurfTxQ0P14QOD1bNdiJ7/apeGPbdMM77ZraO5RU5HBOCBalKS20tKqfI4teK5qqIlRRtjVhtj1hljrq5yzN8YE1/x/M2XmBcA0IgN6txS79w7UAunDdPQLqGauSxRw55bpv/71w6lZxc4HQ+AB6nJjnvV3XJ8+hwNb0lRkkZJCpe00hjT21p7XFKEtTbNGNNZ0jJjzI/W2qRT3sCYByQ9IEkREREX+BEAAI1NTHgzzbp7gPakn9TrK5LY8hpAvatJSU6V1KHK43BJadWcs85aWyxpnzFmt8pL8wZrbZokWWv3GmNWSOon6ZSSbK2dLWm2VD4n+SI+BwCgEYpqHaQZd8TqibHRmvUtW16j4SkuLVNSRo52pGVrR1q2krNy1bNdiK7o3kox7UPkxfKHbqsmN+55q/zGvTGSDqr8xr07rbXbq5xztcpv5ptsjAmVtElSrKQySXnW2sKK59dKuqnqTX+n48Y9AMDZnL7l9bie5Vte9+3Altdw3smCYu08dFI70k5ox6Fs7TiUrYTDOSoqLZMk+Xl7Kbx5E+3LzFWZlUKb+mpkdCtd0b2VLo8OVTA3qta7S14n2RhzraQXJbkkvWWtfdYYM11SvLV2oSnfMukFSVdLKpX0rLX2A2PMUElvqLwse0l60Vr7j3O9FyUZAHA+x3KLNGdNsuasSdaJ/GK2vEa9stbqcHZB5ejwT4V4f1Ze5TktAn3Vq12werYNVs+Kr51CA+Xt8tKx3CJ9m5ChZbuO6NuEDJ3IL5a3l1FcZHNd0b28NHcJa8rv5XrAZiIAgEYpp7BE763brzcrtrwe0LG5Hh7dRaO7taJgoFaUlJYpKSNXOw6d+E8hTsvWsbziynMiWwaoV7uQyjLcs12wWgX51ej3YElpmTalHNeyXUe0fNcR7Tp8UpLUoUUTXdGtlUZ3b6XBnVvK38dVZ5/Rk1GSAQCN2ulbXvdoG6yHR3fRNb3bsuU1aiynsES7Dv2nCO84lK1dh0+qqKR8uoSvt5e6twk6ZXS4e9tgNfWryS1eNXPweL6WVxTm1UmZKiguUxMfl4Z1banRFaPMbUOa1Nr7eTpKMgDAI5yx5XVooKaO6qJb2PIaVVhrdeRkobannTo6nFxlukTzAJ8zRoc7V0yXqC8FxaVauzdLy3cd0bJdR5R6LF+S1L1NUOW0jH4RzfmL4CWgJAMAPEppmdXX2w/r1eWJ2p6WrfbNmuiBEZ11x2Ud+GdrD1NSWqZ9mbmnjA7vSMtWVpVNajq2DCgvwj+NELcLVptgf7easmOtVeKRHC2rKMzx+4+ptMyqWYCPRkaH6YrurTQyOkzNAnydjtqgUJIBAB6JLa89S25hiXYdrrK6RFr5dInCn6ZLuLzUrep0iXbB6t4mqEH+XjiRX6yVeypu/tudoazcInkZqX9E88ppGd3bBLlV0XdHlGQAgMf7ft9RvbI8Ud8lZCjY31uTh0bq58M6qUUgI28NjbVWGScLtb3K6PDOtGzty8rVT7WmWYDPGaPDXcKaNsppN2VlVltSj5dPy9h9RNsOZkuS2oX4a1T3VrqiWysN6xqqJr78K8rpKMkAAFT4MfWEXl2eqK+2H1YTH5fuHBSh+y/vrDYh/k5HQzVKy6z2ZeaWzx+uKMU7D2UrM+c/0yU6tGiiXm1PnT/cNsS9pkvUp/TsAq3YXT4tY9WeTOUWlcrX20tDOresnMvcoQW7VkqUZAAAzvDTltdfbEmTyxj9bEC4HhrJltdOyiv6abpEdpXpEtkqKC6fLuHjMopufebqEiFNGt50ifpSWFKqDfuOlS8xt/uI9mXmSpK6tmqqK7q30uhurRQX2bxRjrDXBCUZAOqCtZKHjlQ1JilH8/TGd0n6KD5VJaVlFVted1W3Nmx5XZcyflpdosqUiX2Z/5kuEezvfcbqEl3CmsrX2zPLXG3Zl5lbuSbz+n1ZKi61CvL31oioMI3u3kqjuoUptKmf0zHrDSUZAGrb7q+khY9I3a+Trv2L5GIkq6E7kl2gv6/ap3fX7WfL61qUW1iitOP55SPEVQpxxsnCynPCmzc5ZXS4Z7tgtW/WxGOnS9SXnMISrdqTWb4u8+4jOnKyUMZIMeHNdEW38mkZvdoFy6sRLzFHSQaA2lJaLC2dLq2ZKQWHS9mpUufR0u1zJf8Qp9OhFlS35fUvR3XV4M5seV2VtVbZBSU6fKJAh07kV3wtKP+aXaDDJ/J16ESBThaUVF7j4zKKahV0ShnuwXQJt1BWZrXjUHblEnNbUo/LWiksyE+ju5UvMTc8KqxWN05xB5RkAKgNJ1KlBT+XUr+X4n4hXfUnadvH0j8fk1pGSXd9JDWLcDolaoknb3ltrdWxvOIzy++JAh3Ozq98nFdUesp1xkhhTf3UNsRfbUL81SbYX21CmqhtiL+iWjdVVKsgpks0EJk5hfp2d4aW7T6i7xIydLKgRD4uo4GdWmh0xShz57CmTse8ZJRkALhUu7+SPp8qlZZIN74k9f7Zf47t/Vb68G7Jx1+a+IHUvr9zOVHrGtuW12VlVpk5hTpUWX7zdTi7sHLk93B2+fM/bcX8E5eXUesgP7UJ8VfbkCYVX/2rfG2iVkF+HnsDWGNWXFqmjfuPVe78t+dIjiQpsmVA5ZrMAzu1kJ93w1tijpIMABer6vSKNn2k8XOlll3OPO/ILun98VJOhvSzv0s9rq//rKhTZ9vy+ubY9m4zOlpSWqYjJwurjPzmV5n+UP4jPbtAJWWn/r/f1+Wl1iF+ahtcffltG+Kv0KZ+DfIvBah9KUfztLxiibk1SVkqKilToK9Lw7qGlq+Y0b2VWgc3jCUVKckAcDGqm17hc44/+HOOSPMnSAd/kK56Vhr8S1a/aIRKy6y+2X5Yr1Rsed0uxF8PjOisCQMj6nTL68KSUh3J/mkEuPo5wBknC3Va/5W/j1f5yG9w9eW3TYi/WgT4Nuqbs1B38otKtSYps3LFjLQTBZKkXu2CKwtz3/BmbvsXLEoyAFyohK+lzx4sH0m+4SWpz201u64or/y6nQuly+6Xrn5OcjWuG11QzlqrbxMy9OryRG1ILt/y+t7hnXT34I4XvM1xflHpqcU3+9QinJ5dcMrmGT8J8vMun/tbTfFtG+KvtsFNFNzEu9HPoYZ7sNZqd/rJysK8cf8xlVmpRaCvRkWXLzE3IjrMrW7UpCQDQE2VFkvL/lda/ZLUuk/5qhXVTa84l7Iyackz0pqXpahx0m1vSX6suduYVd3yOsjfW1OqbHl9sqD4/2/vzsOrrK49jn83YZ5nZAYFKzhRjYqzAiJaFG1BcWhVtNqr7a23V1utV3FqrXqv2msdrlartjjigFWUGZwYBKWKUSAMQgAZQ8KUed8/1htzcsgEnJz3DL/P8+Q5yTlvTlay8ybr7HfttWtc/LYhr4C8PcV7PWfb5o0iZn+jkt82TenSuuk+J+Mi8bR9dxFzlm1m1jebmL1sM9t3F5PRwHFs73bf7/zXv3PLUF/EKUkWEamLvByYOA7WzofMcXD2fTWXV9Tm02dg8s3QZSBc+iq07ha7WCUhfZmTx+OzbcvrxhkNaJTRgJ2FJXsd17Fl46D7Q7OoEoim35dGNGucfIugRKpTWub5fE3u9y3mvvluBwDd2zZjyGGdueT4Xgzs1jrucSlJFhGpzf6WV9Rm+XR47UqbSb7sVVv8Jylv+cYdTJi/BqBS8tu1TVM6t26SlF0ARGJp/fY9zFq6iVnfbObj7C08fPEgRhxxUNzjUJIsIlKdWJRX1Oa7JfDiRVCQB6P/BocOj+3zi4gksYLiUho4F0qXmJqS5MToWSMiEoa8HHjuR5YgZ46Da6bHPkEGOOgIuGYGtD8YXroYFjwd+68hIpKkmjbKSJg2ipESLyIRkXhYNhWePAU2fgU/eQZGPnxg9ce1ad0VrnoP+p8Nk2+CKbdBWWntnyciIqFQkiwi6aW0GKbdYRt/tO4B186JXf1xbZq0hLET4PjrYO5f4NWfQdGu+HxtERHZJ0qSRSR9RJZXHHsVXDMNOvaLbwwNMuDcB2DE/bB0ssWzY2N8YxARkVopSRaR9BBdXnHeI9CoWXjxDP4FjH0RNi+Fvw6FTV+HF4uIiOxFSbKIpLbSYpg2Ppzyitr84By4ajKUFsEzw2HFrLAjEhGRgJJkEUldeTnw3Ej4+JHwyitq0+2H1vmiTU+YMBo+eyHsiEREBCXJIpKqlk2FJ0+FjUsSo7yiJm17wrj3oe9p8PavYPpdtrW1iIiERkmyiKSWSuUV3ROr/wToCAAAGItJREFUvKImTVvb1tXHXgkfPQSvj4PiPWFHJSKSthqGHYCISMzk5cDEq2HtPCuvGHFf4s4eVyWjEYx8xDYdmXYH5K2DS16CFh3Djkz2VdEuyJoEnQdYSY2IJB0lySKSGpZNhTevs0VwP3kmOWaPq+IcnPxraNvbvp+/DoXLJkLH/mFHJnVRWmx15XPuh51Ba7/eJ8Pg622hZoOMcOMTkTpTuYWIJLdK5RXdkqe8ojaHXwBXvAOFO+Gvw2D1R2FHJDXxHr56Ex47Ad79jV0N+NkkOPuPsH0tvHIZPHoszH/KxlREEp7z3ocdQyWZmZl+4cKFYYchIskgbx1MHBeUV1wJI/6UXOUVdZG7GiaMgW2rYNRf4OixYUck0VbOgel3wvrPoNMAGDYeDh1hVwUASkvgm3/C3MchZwE0bWO/r8dfB226hxm5SNpzzi3y3mdW+ZiSZBFJSsunwRvXWnnFeX9Ojdnj6uzJhVd+Cqs/hNNvgTNuqUjAJDwbvrDkeMUM68F95u/tRUxNJRVrF8Dcx+Drt8E1gMMvtFKM7sfELWwRqaAkWURSR2kxzLzXeh93OQLGPJ94vY/rQ0kRvHMjLJ4AR10M5z8KDZuEHVV62rYKZv0BvnwNmraF026C434OjZrW/Tlyv4UFT8Gi56FoB/Q6CU68QXXLInGmJFlEUkM6lFfUxHv44L9h1r22GOzif0Dz9mFHlT52boYPHoSFz0KDhjD432yRZbO2+/+cBfnw+d9h3pOQtwba9bXnHXQZNGkZu9hFpEpKkkVqU1ps/6wKtkNBXsVb4Q7ocri1cNLl7XBFlleMfASOGhN2ROH54jWYdD207QWXvWaLxKT+FO6wEolPHrXe1cf81MpeWneN3dcoLYFv3rGvo7plkbhRkiypr7Q4IrmNSnS/f8uv5v48KN5V8/O36QUDz4eBo6B7JjRQY5i4KS2xmdOPHg7KK55TOzSAb+fCy5dYXevYl6DXCWFHlHpKiuCz562d267NMOA8GHIHdDq0fr/u2k9h3mPWZ1l1yyL1SkmyJL6SIijMryXJreGteHfNz+8a2MxMlW9tq3+sUTNLRrImwYqZUFYMrbpVJMw9T1D9YH3KWwevXw1r5qZneUVttq6ACaPt53ThE3DET8KOKDWUlcFXb8DMe6y7SO9TYNid0PO4+MahumWReqckWepfSVFU4hqR6BbWMINb5yQ3o4Ykt6ZEt7XdNm554OUSe7bDsimWMGdPh9JCaNkFDhtpCXPvkyFD+/PEjMor6mbXVuvBu2YuDL0DTvmNSoMOxIqZ1nf7uy/sysWwO6HfsHB/pqpbFqk3SpJl3+R+C1uz920mt2RPzc/ZoGHNSW6TmhLgNtC4RWL94y/cAcunWsK8bKp9/807VCTMfU+zLYZl36m8Yt8VF8CkG2DJRPjhT2Hkw/r921frPrN2bqvmWHnVkP+CI8ckVmmV6pZFYk5JstTNnlyYdR98+jT4ssqP1Zbk1lq20DyxktxYKtplM8tZk2ymuWin/SwO+5ElzAefoVZddaXyiv3nvbUl++BB+5276AU796RmW1dYS8Gv3oBm7eG0m+G4qxP/nFXdskhMKEmWmpWV2aW8GXdZopw5zmZQIpPeRs1SN8mNpeICu1ybNQmWTrZSkyatrYZw4Cg4ZIiSvuosnw5vXms/w/MegaMuCjui5PT5BPjnv0OHftb5om2vsCNKTDs2wgcPwKLnIKOx1fqe9Kvke2GhumWRA6IkWaqXsxAm3wTrP4deJ8I5D0DXo8KOKjWUFNp2tVmT7BJpwXarje4/3BLm/mdZGUm6iyyv6Hw4XPS8yisO1Mo5tkNfwyZw6cvQ/diwI0ocBfnWym3uY7au4Jgr4PTfQasuYUd2YFS3LLJflCTL3nZusvq7xROgVVc46x7b1lezxfWjtNi2FM6aBF+/A7u3QMNmligPHAWHng1NWoUdZfxFllcccwWcc79m2mNl81LrfLFzM/zkaWtfls5KCm0TkA8ehN1brTxhyO3Q4ZCwI4ut6LrlJm0g80o4/lpo0yPs6EQSjpJkqVBaDAuehtn3WVP8E2+wLVXTMUELS2kJrPkkSJj/CTs3QkYTW0E/8Hw4dMSB7eCVLFReUf92boKXxtqitOH32vmebi+Ey8ps++hZ98L2Nbaodthd6VG7G1m3jLMXBifekB7fu0gdKUkWs3IOvPdb2PyNJWQj7oeO/cKOKr2VlcLaBUHC/Dbkr4MGjeCQM22G+Qfnpt62w6UltsDso4dUXhEPRbvhzevs9+u4a+y8T4dWhd7bgtrpd8HGL+Ggo6yd2yFD0u+FQpV1y9fb3xfVLUuaU5Kc7ravham3WSLWrg+cfZ8t6ki3fxSJrqwM1i2CrLcsodm+xrqK9DnVEubDRkLLTmFHeWDy18PEcSqviLeyMpg+Hj75X6uJH/1sal89yllk3+/qD+1v3pDb4fAfJ1Y7tzAU5MPn/4D5T9jfl3Z9rCOG6pYljSlJTlfFBfZP8cOH7ONT/9NWbzdqGm5cUjvvYcNie2GTNQm2rbQ2T71PtoR5wHnQ6qCwo9w3Kq8I38Jn4d2boPNAuPSV1Outu2U5zLjbXmQ272gL8o69Eho2DjuyxFJetzzvcVg7X3XLktaUJKcb76392Pu3wvZvYeAFVo/YtmfYkcn+8B42LqlImLcsA5x1Ixl4viXMifyPLbq8Ysxz0OnQsKNKX9nT4dUrbebw0ldTo5tN/gaY8yf47O92ZeKkX1ntbSrPlseK6pYlzSlJTidblsN7v4MVM6DTALucffDpYUclsbTpm4qEedNXdl+P44IZ5vOhXe9w44uk8orE9N0SePEi22p9zN+su0oyKsiDj/8Mcx+HshLr8X7azclflhSG8rrlz16w/u6qWz5wRbsgdzVsWwW5qypu89dDyy7Wy7xDP+uw0qGf9TTXTplxpyQ5HRTusNZGcx+3JOTM39siHZ1wqW1LNnwdJMwb/mX3dR1kCfPAUeG2t1J5RWLL32CJ8sYl1h/9+J+HHVHdFRfYzqAf/o9tgHTkGDjzNmjfN+zIkp/qluvOe9i1pXICXH6bu9o6F0Vq2tZ+nm16wI7vYOtye6FXrkFDe7xDP2h/SEXy3KGftWpN95r6eqIkOZV5b+2Npt4OO7+DQZfDsPHQsnPYkUm8bVtltZhZk2wBIECXIysS5niVOJSWwOw/WgLTeSCMeV7lFYmqcCe8fg0sew8G3wDD70nsWcOyUvjiFZj5B8jPgUOG2t+7rkeHHVnqUd2yKS2BvLVVJMLf2vtFOyMOdtC6m23k0r5PcNu34rZZu8rP7T3s3gZbsyvetq2wrdK3roCSPRXHNmoO7Q+unDiXJ9PN22sh/gFQkpyqNnxhLd3WzIVux8C5D0KPKsdZ0s32tdaDOWsSrJ1n93UaYDXMA0dZ8loff1Tz18PEq60P9DE/s3ZjjZvH/utI7JSVwpTfw/wn4Qc/so1HEm0nSO9h2RSYcRdsyoJuP7Rexyoli48q65avT52dHIt2VZ4BjkyG89ZaKU+5jCZW0hadALfra+USsVoYX1YGO9YHCXN2xG22rTWKjKlp28qJc4eDKxJozf7XSklyqtm9DWbeC4v+Bs3a20zKoMt1KUaqlr/edvnLmgTffgx4+wNaPsN80FGxSZgjyytGPgxHX3zgzynxM+9JmHKrzcpe8kribNO8Zr61c1sz12bSht5hi5E1cxZ/e9Utn2iL/BK9btl72LW56vrgbatg16bKxzdtG5UA96l4v1W38P/XlhZbKUzkDHT57HN+TuVjW3UNEuaDKyfS7fqo60tASXKqKCuFRc/BzHusbuz4n8MZt6bH7mwSGzs32SXUrEmw6kPwpdC2d5AwX2Ar2vc1+VB5RepY+p4ttGzewTpfdBkYXiybl1o7t2/egRad4Yxb7OqE1lmELxHrlqsti1htb3uVRXQPEuAqZoWjyyKSSdFuaxlaqXQjSKR3b604zjWwme9KpRtBIt2mR2K/6IkxJcmpYM08mHwzfPeFbS5xzv3Q5fCwo5JktmsrLH3XEuaVs+3yXZue1iFj4CjrmFHbjInKK1LP+sXw4sVQvNt2QzxkSHy/ft46mH0fLJ4AjVrAKb+2BCzRSkCk6rrlY6+AE66rn7rlwp1B0lvFQrnta+1Ff7l4lUUkkz25sHVl1Ax0tiXVkS8iMppE1D9H1UC36JRyV3GUJCezHd/BtDtssUrr7raw5vAfp9wvqYRsTy4sfd8S5hUzoLTILtMNOM8S5l4n7j2zkD0d3lB5RUrKy4EJF9kW9iMftsSnvu3JhY8ehvn/B77MuvOcehO06FD/X1sOXCzqlsvLIqoqichdXYeyiIhbdYOoO++tE0el5HllRQJdVlxxbJPWe5dulCfTTduE9z0cACXJyaikyBbSzLnfEpaTfmU75mk2RepbQb4tksp6yxLhkgKbPShPmHsOhg8eUHlFqivIh9eutBdNp/wHDLmjfpKO4j2WGH/0kH3Noy62FpaJ1O9b6m77GhvP6uqWS4utLGKvhXKraymL6LN3nXAyl0Uki/Iylq0rgvKNiER6+1ogIods0aly3+f25bd9E7o/vpLkZJM9wzYE2bocDh0BZ/8x3H63kr4Kd0L2NJsdWjbFLsFnNLYXbiqvSH2lJTD5JlskPPACuPDJ2P2zKy2Bf70Is+6zVfz9h8PQ8XDQEbF5fglXdN1ym56WJFdZFtGnIgGOfD9dyyKSRXGBvbCJLt3Ymh3VI9rZ+HeoYga6TS/IaBjWd2DRKUlOErmrYcptVuPV/mBLQA4dHnZUIqZot80qZk+3uvgjR4cdkcSD9/DJozDtduhxPFzyErToeGDP9827tihvy1Longln3QV9ToldzJI4Skts7cPiF4NevyqLSAsF+ZV7Pkd24SiM3EClUcUGKifeAH1PjXuoSpITXdFu+PgR217VZcBpN9kvS8MmYUcmImKyJlkNequD4NLX9q/E5ttPYNp4yFkAHfpb+8rDRmqNhUi68N66bEQvHty6EobdGcrEYE1Jcrhz3OnOe9vwYcptkLcGjhgNZ90NbbqHHZmISGUDR1l96Etj4Zmz4OJ/1H3WZ2OWbQSy7H2bOTzvz9bbPeTLrCISZ87ZlagWHaHX4LCjqZX+QoVl81LbLW/lbOh8OFz5ri43ikhi65EJ10y3zhd/vxDOfxQGXVL98dvXwqw/wr9eslXxQ8fDCb9QHbuIJAUlyfFWkG8dK+Y/aZ0qznkQMsdpRkVEkkO7PnD1FHjlp/DWL2wtxRm3VC6Z2L3Nup8seNo+PumXcMpvoHn7MCIWEdkvyszipawMvnjZ6vF2bbbOAEPvOLAFMCIiYWjWDi5/A965Eeb8yVp5nf+obUgz7wlbX1G0E46+1BLotj3DjlhEZJ8pSY6H9Z/D5N/aYpUex8Glr9j2vyIiyaphYxj1mHUpmHkvbFkG+Rtg53fWE3foHdB5QNhRiojsNyXJ9WnXVph5Nyx63maMRz0OR1+idjcikhqcg9NutlZeb10P3QbBmOeg94lhRyYicsCUJNeH0hJrvj/zXrvkOPh6OON3Sbtlo4hIjY4cDT84x/rgqp2biKQIJcmxtvpj61qxcQn0PR3OeQA6HxZ2VCIi9atxi7AjEBGJKSXJsZK/HqbeDksm2vaLF70AA87XrIqIiIhIElKSfKBKCmHuY/DBf9vK7tN/ByffqD6gIiIiIklMSfKBWDYV3r/F9ic/bCSc/QfrISoiIiIiSU1J8v7YthLev9W2WO3QDy5/HfoNCzsqEREREYmROvUic86NcM4tdc5lO+duqeaYi5xzWc65r5xzL0bcf4VzbnnwdkWsAg9F0S6YcQ88dgKs/gjOuhv+ba4SZBEREZEUU+tMsnMuA3gMOAvIAT51zr3tvc+KOKY/cCtwsvc+1znXObi/PTAeyAQ8sCj43NzYfyv1yHv46k1bmJefA0ddDMPugtZdw45MREREROpBXcotjgeyvfcrAZxzLwOjgKyIY34OPFae/HrvNwX3nw1M895vCz53GjACeCk24cfBxixr6bb6QzjoSBj9DPQaHHZUIiIiIlKP6pIkdwfWRnycA5wQdcyhAM65j4EM4E7v/fvVfG736C/gnLsWuBagV69edY29fu3ZDrP/BAuegqat4UcPwbFXQoOMsCMTERERkXpWlyS5qka/vorn6Q+cAfQAPnTOHVHHz8V7/xTwFEBmZuZej8dVWRksngDT74Q92+DYq2DIf0Hz9qGGJSIiIiLxU5ckOQfoGfFxD2B9FcfM894XA6ucc0uxpDkHS5wjP3f2/gZb73IWwXs3w7pF0HMwnPsAdD067KhEREREJM7q0t3iU6C/c66vc64xMBZ4O+qYt4AzAZxzHbHyi5XAFGC4c66dc64dMDy4L7GUFMGkG+CvQyBvHfz4aRj3vhJkERERkTRV60yy977EOfdLLLnNAJ713n/lnLsbWOi9f5uKZDgLKAVu9t5vBXDO3YMl2gB3ly/iSygZjWB3Lpz073D6b6FJq7AjEhEREZEQOe/DLQGOlpmZ6RcuXBj/L+w9uKpKqEVEREQkFTnnFnnvM6t6rE6biaQFJcgiIiIiElCSLCIiIiISRUmyiIiIiEgUJckiIiIiIlGUJIuIiIiIRFGSLCIiIiISRUmyiIiIiEgUJckiIiIiIlGUJIuIiIiIRFGSLCIiIiISRUmyiIiIiEgUJckiIiIiIlGUJIuIiIiIRFGSLCIiIiISRUmyiIiIiEgUJckiIiIiIlGUJIuIiIiIRFGSLCIiIiISxXnvw46hEufcZuDbsONIMB2BLWEHIdXS+CQ+jVFi0/gkPo1R4tMY7Z/e3vtOVT2QcEmy7M05t9B7nxl2HFI1jU/i0xglNo1P4tMYJT6NUeyp3EJEREREJIqSZBERERGRKEqSk8NTYQcgNdL4JD6NUWLT+CQ+jVHi0xjFmGqSRURERESiaCZZRERERCSKkuQE45xb7Zz70jm32Dm3MLivvXNumnNueXDbLuw404lz7lnn3Cbn3JKI+6ocE2f+1zmX7Zz7wjl3THiRp4dqxudO59y64Dxa7Jw7N+KxW4PxWeqcOzucqNOLc66nc26Wc+5r59xXzrlfB/frPEoANYyPzqME4Zxr6pxb4Jz7VzBGdwX393XOzQ/OoVecc42D+5sEH2cHj/cJM/5kpSQ5MZ3pvR8U0crlFmCG974/MCP4WOLnOWBE1H3Vjck5QP/g7VrgiTjFmM6eY+/xAXg4OI8Gee8nAzjnBgJjgcODz3ncOZcRt0jTVwnwn977AcBg4IZgLHQeJYbqxgd0HiWKQmCI9/5oYBAwwjk3GLgfG6P+QC5wdXD81UCu974f8HBwnOwjJcnJYRTwfPD+88AFIcaSdrz3HwDbou6ubkxGAS94Mw9o65zrGp9I01M141OdUcDL3vtC7/0qIBs4vt6CEwC89xu8958F7+8Avga6o/MoIdQwPtXReRRnwbmwM/iwUfDmgSHAxOD+6HOo/NyaCAx1zrk4hZsylCQnHg9Mdc4tcs5dG9zXxXu/AeyPGdA5tOikXHVj0h1YG3FcDjX/s5H688vgUv2zESVKGp+QBZd9fwjMR+dRwokaH9B5lDCccxnOucXAJmAasALY7r0vCQ6JHIfvxyh4PA/oEN+Ik5+S5MRzsvf+GOxy4w3OudPCDkj2SVWv1NVCJv6eAA7BLktuAP4nuF/jEyLnXEvgdeBG731+TYdWcZ/GqZ5VMT46jxKI977Uez8I6IHN3A+o6rDgVmMUA0qSE4z3fn1wuwl4EzsRNpZfagxuN4UXoQSqG5McoGfEcT2A9XGOLe157zcG/1DKgKepuBSs8QmJc64RloBN8N6/Edyt8yhBVDU+Oo8Sk/d+OzAbqx9v65xrGDwUOQ7fj1HweBvqXpYmASXJCcQ518I516r8fWA4sAR4G7giOOwKYFI4EUqE6sbkbeBnwer8wUBe+eVkiZ+o+tULsfMIbHzGBiu/+2ILwxbEO750E9RCPgN87b1/KOIhnUcJoLrx0XmUOJxznZxzbYP3mwHDsNrxWcDo4LDoc6j83BoNzPTaGGOfaTORBOKcOxibPQZoCLzovf+Dc64D8CrQC1gDjPHe6xVhnDjnXgLOADoCG4HxwFtUMSbBP5u/YCu+dwNXee8XhhF3uqhmfM7ALhF7YDVwXXmS5Zy7DRiHrei/0Xv/XtyDTjPOuVOAD4EvgbLg7t9jda86j0JWw/hcgs6jhOCcOwpbiJeBTXC+6r2/O8gbXgbaA58Dl3vvC51zTYG/Y/Xl24Cx3vuV4USfvJQki4iIiIhEUbmFiIiIiEgUJckiIiIiIlGUJIuIiIiIRFGSLCIiIiISRUmyiIiIiEgUJckiIiIiIlGUJIuIiIiIRFGSLCIiIiIS5f8BuIXqGaHDlQMAAAAASUVORK5CYII=\n",
      "text/plain": [
       "<Figure size 864x576 with 1 Axes>"
      ]
     },
     "metadata": {
      "needs_background": "light"
     },
     "output_type": "display_data"
    }
   ],
   "source": [
    "clflr=LogisticRegression()\n",
    "\n",
    "clflr.fit(X_train,y_train)\n",
    "\n",
    "y2_test_pred = clflr.predict(X_test)\n",
    "y2_train_pred = clflr.predict(X_train)\n",
    "\n",
    "print(confusion_matrix(y_train, y2_train_pred))\n",
    "print(confusion_matrix(y_test, y2_test_pred))\n",
    "\n",
    "print(accuracy_score(y_test, y2_test_pred))\n",
    "\n",
    "print(classification_report(y_test, y2_test_pred))\n",
    "\n",
    "N, train_score, val_score=learning_curve(clflr,X_train,y_train,cv=5,scoring='f1', \n",
    "                                             train_sizes=np.linspace(0.1,1,10))\n",
    "plt.figure(figsize=(12,8))\n",
    "plt.plot(N,train_score.mean(axis=1),label='train score')\n",
    "plt.plot(N,val_score.mean(axis=1),label='validation score')\n",
    "plt.legend()"
   ]
  },
  {
   "cell_type": "code",
   "execution_count": 93,
   "metadata": {},
   "outputs": [
    {
     "data": {
      "image/png": "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\n",
      "text/plain": [
       "<Figure size 432x288 with 1 Axes>"
      ]
     },
     "metadata": {
      "needs_background": "light"
     },
     "output_type": "display_data"
    }
   ],
   "source": [
    "from sklearn import metrics\n",
    "y_pred_proba = clflr.predict_proba(X_test)[::,1]\n",
    "fpr, tpr, _ = metrics.roc_curve(y_test,  y_pred_proba)\n",
    "auc = metrics.roc_auc_score(y_test, y_pred_proba)\n",
    "#print(fpr)\n",
    "#print(auc)\n",
    "plt.plot(fpr,tpr,label=\"AUC=\"+str(auc))\n",
    "plt.legend(loc=4)\n",
    "plt.show()"
   ]
  },
  {
   "cell_type": "markdown",
   "metadata": {},
   "source": [
    "### K-Nearest Neighbors"
   ]
  },
  {
   "cell_type": "code",
   "execution_count": 94,
   "metadata": {},
   "outputs": [],
   "source": [
    "from sklearn import preprocessing\n",
    "scaler = preprocessing.StandardScaler().fit(X_train)\n",
    "X_train_s= scaler.transform(X_train)"
   ]
  },
  {
   "cell_type": "code",
   "execution_count": 95,
   "metadata": {},
   "outputs": [],
   "source": [
    "scaler = preprocessing.StandardScaler().fit(X_test)\n",
    "X_test_s= scaler.transform(X_test)"
   ]
  },
  {
   "cell_type": "code",
   "execution_count": 96,
   "metadata": {},
   "outputs": [
    {
     "data": {
      "text/plain": [
       "array([[-4.36752612e-01, -1.26009787e+00,  7.59976330e-01, ...,\n",
       "         1.51338117e+00, -4.93864798e-01, -7.54473836e-01],\n",
       "       [ 4.63542006e-01,  1.09537107e+00, -6.84309089e-01, ...,\n",
       "         1.51338117e+00, -4.93864798e-01, -7.54473836e-01],\n",
       "       [-4.32134764e-01,  4.28041039e-01, -1.73890573e-04, ...,\n",
       "         1.51338117e+00, -4.93864798e-01, -7.54473836e-01],\n",
       "       ...,\n",
       "       [-4.28689797e-01, -9.60512654e-01,  8.19099125e-01, ...,\n",
       "        -6.60772062e-01, -4.93864798e-01,  1.32542701e+00],\n",
       "       [-4.29554231e-01, -9.50442563e-02,  5.15039037e-01, ...,\n",
       "         1.51338117e+00, -4.93864798e-01, -7.54473836e-01],\n",
       "       [-4.30782121e-01, -4.16820968e-01,  2.53209516e-01, ...,\n",
       "        -6.60772062e-01, -4.93864798e-01, -7.54473836e-01]])"
      ]
     },
     "execution_count": 96,
     "metadata": {},
     "output_type": "execute_result"
    }
   ],
   "source": [
    "X_test_s"
   ]
  },
  {
   "cell_type": "code",
   "execution_count": 97,
   "metadata": {},
   "outputs": [
    {
     "data": {
      "text/plain": [
       "KNeighborsClassifier(n_neighbors=1)"
      ]
     },
     "execution_count": 97,
     "metadata": {},
     "output_type": "execute_result"
    }
   ],
   "source": [
    "from sklearn.neighbors import KNeighborsClassifier\n",
    "clf_knn_1 = KNeighborsClassifier(n_neighbors=1)\n",
    "clf_knn_1.fit(X_train_s, y_train)"
   ]
  },
  {
   "cell_type": "code",
   "execution_count": 98,
   "metadata": {},
   "outputs": [
    {
     "data": {
      "text/plain": [
       "array([[24, 20],\n",
       "       [23, 35]], dtype=int64)"
      ]
     },
     "execution_count": 98,
     "metadata": {},
     "output_type": "execute_result"
    }
   ],
   "source": [
    "confusion_matrix(y_test, clf_knn_1.predict(X_test_s))"
   ]
  },
  {
   "cell_type": "code",
   "execution_count": 99,
   "metadata": {},
   "outputs": [
    {
     "data": {
      "text/plain": [
       "0.5784313725490197"
      ]
     },
     "execution_count": 99,
     "metadata": {},
     "output_type": "execute_result"
    }
   ],
   "source": [
    "accuracy_score(y_test, clf_knn_1.predict(X_test_s))"
   ]
  },
  {
   "cell_type": "code",
   "execution_count": 100,
   "metadata": {},
   "outputs": [
    {
     "data": {
      "text/plain": [
       "0.5294117647058824"
      ]
     },
     "execution_count": 100,
     "metadata": {},
     "output_type": "execute_result"
    }
   ],
   "source": [
    "clf_knn_3 = KNeighborsClassifier(n_neighbors=3)\n",
    "clf_knn_3.fit(X_train_s, y_train)\n",
    "accuracy_score(y_test, clf_knn_3.predict(X_test_s))"
   ]
  },
  {
   "cell_type": "code",
   "execution_count": 101,
   "metadata": {},
   "outputs": [],
   "source": [
    "from sklearn.model_selection import GridSearchCV"
   ]
  },
  {
   "cell_type": "code",
   "execution_count": 102,
   "metadata": {},
   "outputs": [],
   "source": [
    "params = {'n_neighbors': [1, 2, 3, 4, 5, 6, 7, 8, 9, 10, 20,30]}"
   ]
  },
  {
   "cell_type": "code",
   "execution_count": 103,
   "metadata": {},
   "outputs": [],
   "source": [
    "grid_search_cv = GridSearchCV(KNeighborsClassifier(), params)"
   ]
  },
  {
   "cell_type": "code",
   "execution_count": 104,
   "metadata": {},
   "outputs": [
    {
     "data": {
      "text/plain": [
       "GridSearchCV(estimator=KNeighborsClassifier(),\n",
       "             param_grid={'n_neighbors': [1, 2, 3, 4, 5, 6, 7, 8, 9, 10, 20,\n",
       "                                         30]})"
      ]
     },
     "execution_count": 104,
     "metadata": {},
     "output_type": "execute_result"
    }
   ],
   "source": [
    "grid_search_cv.fit(X_train_s, y_train)"
   ]
  },
  {
   "cell_type": "code",
   "execution_count": 105,
   "metadata": {},
   "outputs": [
    {
     "data": {
      "text/plain": [
       "{'n_neighbors': 5}"
      ]
     },
     "execution_count": 105,
     "metadata": {},
     "output_type": "execute_result"
    }
   ],
   "source": [
    "grid_search_cv.best_params_"
   ]
  },
  {
   "cell_type": "code",
   "execution_count": 106,
   "metadata": {},
   "outputs": [
    {
     "data": {
      "text/plain": [
       "0.5882352941176471"
      ]
     },
     "execution_count": 106,
     "metadata": {},
     "output_type": "execute_result"
    }
   ],
   "source": [
    "clf_knn_5 = KNeighborsClassifier(n_neighbors=5)\n",
    "clf_knn_5.fit(X_train_s, y_train)\n",
    "accuracy_score(y_test, clf_knn_5.predict(X_test_s))"
   ]
  },
  {
   "cell_type": "code",
   "execution_count": 107,
   "metadata": {},
   "outputs": [],
   "source": [
    "optimised_KNN = grid_search_cv.best_estimator_"
   ]
  },
  {
   "cell_type": "code",
   "execution_count": 108,
   "metadata": {},
   "outputs": [],
   "source": [
    "y_test_pred = optimised_KNN.predict(X_test_s) "
   ]
  },
  {
   "cell_type": "code",
   "execution_count": 109,
   "metadata": {},
   "outputs": [
    {
     "data": {
      "text/plain": [
       "array([[26, 18],\n",
       "       [24, 34]], dtype=int64)"
      ]
     },
     "execution_count": 109,
     "metadata": {},
     "output_type": "execute_result"
    }
   ],
   "source": [
    "confusion_matrix(y_test, y_test_pred)"
   ]
  },
  {
   "cell_type": "code",
   "execution_count": 110,
   "metadata": {},
   "outputs": [
    {
     "data": {
      "text/plain": [
       "0.5882352941176471"
      ]
     },
     "execution_count": 110,
     "metadata": {},
     "output_type": "execute_result"
    }
   ],
   "source": [
    "accuracy_score(y_test, y_test_pred)"
   ]
  },
  {
   "cell_type": "markdown",
   "metadata": {},
   "source": [
    "### SGDClassifier"
   ]
  },
  {
   "cell_type": "code",
   "execution_count": 111,
   "metadata": {},
   "outputs": [],
   "source": [
    "from sklearn.linear_model import SGDClassifier\n",
    "from sklearn.preprocessing import StandardScaler"
   ]
  },
  {
   "cell_type": "code",
   "execution_count": 112,
   "metadata": {},
   "outputs": [],
   "source": [
    "scaler = StandardScaler()\n",
    "scaler.fit(X_train)\n",
    "X_train_s1 = scaler.transform(X_train)\n",
    "X_test_s1 = scaler.transform(X_test)"
   ]
  },
  {
   "cell_type": "code",
   "execution_count": 113,
   "metadata": {},
   "outputs": [
    {
     "data": {
      "text/plain": [
       "SGDClassifier(loss='log')"
      ]
     },
     "execution_count": 113,
     "metadata": {},
     "output_type": "execute_result"
    }
   ],
   "source": [
    "clf = SGDClassifier(loss=\"log\", penalty=\"l2\")\n",
    "clf.fit(X_train_s1, y_train)"
   ]
  },
  {
   "cell_type": "code",
   "execution_count": 114,
   "metadata": {},
   "outputs": [
    {
     "name": "stdout",
     "output_type": "stream",
     "text": [
      "Accuracy: 0.55\n"
     ]
    }
   ],
   "source": [
    "y_pred = clf.predict(X_test_s1)\n",
    "\n",
    "print('Accuracy: {:.2f}'.format(accuracy_score(y_test, y_pred)))"
   ]
  },
  {
   "cell_type": "code",
   "execution_count": 115,
   "metadata": {},
   "outputs": [
    {
     "data": {
      "text/plain": [
       "[<matplotlib.lines.Line2D at 0x28df5e6e5c8>]"
      ]
     },
     "execution_count": 115,
     "metadata": {},
     "output_type": "execute_result"
    },
    {
     "data": {
      "image/png": "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\n",
      "text/plain": [
       "<Figure size 432x288 with 1 Axes>"
      ]
     },
     "metadata": {
      "needs_background": "light"
     },
     "output_type": "display_data"
    }
   ],
   "source": [
    "n_iters = [5, 10, 20, 50, 100, 1000]\n",
    "scores = []\n",
    "for n_iter in n_iters:\n",
    "    clf = SGDClassifier(loss=\"log\", penalty=\"l2\", max_iter=n_iter)\n",
    "    clf.fit(X_train_s1, y_train)\n",
    "    scores.append(clf.score(X_test_s1, y_test))\n",
    "  \n",
    "plt.title(\"Effect of n_iter\")\n",
    "plt.xlabel(\"n_iter\")\n",
    "plt.ylabel(\"score\")\n",
    "plt.plot(n_iters, scores) "
   ]
  },
  {
   "cell_type": "code",
   "execution_count": 116,
   "metadata": {},
   "outputs": [
    {
     "data": {
      "text/plain": [
       "SGDClassifier()"
      ]
     },
     "execution_count": 116,
     "metadata": {},
     "output_type": "execute_result"
    }
   ],
   "source": [
    "clf1 = SGDClassifier(loss=\"hinge\", penalty=\"l2\")\n",
    "clf1.fit(X_train_s1, y_train)"
   ]
  },
  {
   "cell_type": "code",
   "execution_count": 117,
   "metadata": {},
   "outputs": [
    {
     "name": "stdout",
     "output_type": "stream",
     "text": [
      "Accuracy: 0.58\n"
     ]
    }
   ],
   "source": [
    "y1_pred = clf.predict(X_test_s1)\n",
    "\n",
    "print('Accuracy: {:.2f}'.format(accuracy_score(y_test, y1_pred)))"
   ]
  },
  {
   "cell_type": "code",
   "execution_count": 118,
   "metadata": {},
   "outputs": [
    {
     "data": {
      "text/plain": [
       "[<matplotlib.lines.Line2D at 0x28df5ed4608>]"
      ]
     },
     "execution_count": 118,
     "metadata": {},
     "output_type": "execute_result"
    },
    {
     "data": {
      "image/png": "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\n",
      "text/plain": [
       "<Figure size 432x288 with 1 Axes>"
      ]
     },
     "metadata": {
      "needs_background": "light"
     },
     "output_type": "display_data"
    }
   ],
   "source": [
    "n_iters = [5, 10, 20, 50, 100, 1000]\n",
    "scores = []\n",
    "for n_iter in n_iters:\n",
    "    clf = SGDClassifier(loss=\"hinge\", penalty=\"l2\", max_iter=n_iter)\n",
    "    clf.fit(X_train_s1, y_train)\n",
    "    scores.append(clf.score(X_test_s1, y_test))\n",
    "  \n",
    "plt.title(\"Effect of n_iter\")\n",
    "plt.xlabel(\"n_iter\")\n",
    "plt.ylabel(\"score\")\n",
    "plt.plot(n_iters, scores)"
   ]
  },
  {
   "cell_type": "code",
   "execution_count": 119,
   "metadata": {},
   "outputs": [
    {
     "name": "stdout",
     "output_type": "stream",
     "text": [
      "Training time for linear SVM with SGD training: 0.0069811344146728516s\n",
      "Training time for linear SVM without SGD training: 0.1309051513671875s\n"
     ]
    }
   ],
   "source": [
    "import time\n",
    "from sklearn import svm\n",
    "start = time.time()\n",
    "clf = SGDClassifier(loss=\"hinge\", penalty=\"l2\")\n",
    "clf.fit(X_train_s1, y_train)\n",
    "stop = time.time()\n",
    "print(f\"Training time for linear SVM with SGD training: {stop - start}s\")\n",
    "\n",
    "start = time.time()\n",
    "clf = svm.SVC(kernel='linear')\n",
    "clf.fit(X_train_s1, y_train)\n",
    "stop = time.time()\n",
    "print(f\"Training time for linear SVM without SGD training: {stop - start}s\")"
   ]
  },
  {
   "cell_type": "code",
   "execution_count": 120,
   "metadata": {},
   "outputs": [
    {
     "data": {
      "text/plain": [
       "[<matplotlib.lines.Line2D at 0x28df5f6ca48>]"
      ]
     },
     "execution_count": 120,
     "metadata": {},
     "output_type": "execute_result"
    },
    {
     "data": {
      "image/png": "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\n",
      "text/plain": [
       "<Figure size 432x288 with 1 Axes>"
      ]
     },
     "metadata": {
      "needs_background": "light"
     },
     "output_type": "display_data"
    }
   ],
   "source": [
    "losses = [\"hinge\", \"log\", \"modified_huber\", \"perceptron\", \"squared_hinge\"]\n",
    "scores = []\n",
    "for loss in losses:\n",
    "    clf = SGDClassifier(loss=loss, penalty=\"l2\", max_iter=1000)\n",
    "    clf.fit(X_train_s1, y_train)\n",
    "    scores.append(clf.score(X_test_s1, y_test))\n",
    "  \n",
    "plt.title(\"Effect of loss\")\n",
    "plt.xlabel(\"loss\")\n",
    "plt.ylabel(\"score\")\n",
    "x = np.arange(len(losses))\n",
    "plt.xticks(x, losses)\n",
    "plt.plot(x, scores) "
   ]
  },
  {
   "cell_type": "code",
   "execution_count": 121,
   "metadata": {},
   "outputs": [
    {
     "name": "stdout",
     "output_type": "stream",
     "text": [
      "{'alpha': 0.1, 'loss': 'log', 'penalty': 'none'}\n"
     ]
    }
   ],
   "source": [
    "from sklearn.model_selection import GridSearchCV\n",
    "params = {\n",
    "    \"loss\" : [\"hinge\", \"log\", \"squared_hinge\", \"modified_huber\", \"perceptron\"],\n",
    "    \"alpha\" : [0.0001, 0.001, 0.01, 0.1],\n",
    "    \"penalty\" : [\"l2\", \"l1\", \"elasticnet\", \"none\"],\n",
    "}\n",
    "\n",
    "clf = SGDClassifier(max_iter=1000)\n",
    "grid = GridSearchCV(clf, param_grid=params, cv=10)\n",
    "\n",
    "\n",
    "grid.fit(X_train_s1, y_train)\n",
    "\n",
    "print(grid.best_params_) "
   ]
  },
  {
   "cell_type": "code",
   "execution_count": 122,
   "metadata": {},
   "outputs": [
    {
     "name": "stdout",
     "output_type": "stream",
     "text": [
      "Accuracy: 0.58\n"
     ]
    }
   ],
   "source": [
    "grid_predictions = grid.predict(X_test_s1) \n",
    "\n",
    "print('Accuracy: {:.2f}'.format(accuracy_score(y_test, grid_predictions)))"
   ]
  },
  {
   "cell_type": "markdown",
   "metadata": {},
   "source": [
    "## VotingClassifier"
   ]
  },
  {
   "cell_type": "code",
   "execution_count": 123,
   "metadata": {},
   "outputs": [],
   "source": [
    "from sklearn.ensemble import VotingClassifier\n",
    "model_vc=VotingClassifier([('SGD',clf),('KNN',clf_knn_5),('LR',clflr),('DTREE',clftree)],voting='hard')"
   ]
  },
  {
   "cell_type": "code",
   "execution_count": 124,
   "metadata": {},
   "outputs": [
    {
     "name": "stdout",
     "output_type": "stream",
     "text": [
      "SGDClassifier 0.57\n",
      "KNeighborsClassifier 0.55\n",
      "LogisticRegression 0.64\n",
      "DecisionTreeClassifier 0.55\n"
     ]
    }
   ],
   "source": [
    "for model in (clf,clf_knn_5,clflr,clftree):\n",
    "    model.fit(X_train,y_train)\n",
    "    print(model.__class__.__name__,round(model.score(X_test,y_test),2))"
   ]
  },
  {
   "cell_type": "code",
   "execution_count": null,
   "metadata": {},
   "outputs": [],
   "source": []
  },
  {
   "cell_type": "markdown",
   "metadata": {},
   "source": [
    "### Plotting decision tree"
   ]
  },
  {
   "cell_type": "code",
   "execution_count": 125,
   "metadata": {},
   "outputs": [],
   "source": [
    "from sklearn import tree\n",
    "dot_data = tree.export_graphviz(clftree, out_file=None,feature_names= X_train.columns, filled = True)"
   ]
  },
  {
   "cell_type": "code",
   "execution_count": 126,
   "metadata": {},
   "outputs": [],
   "source": [
    "from IPython.display import Image"
   ]
  },
  {
   "cell_type": "code",
   "execution_count": 127,
   "metadata": {},
   "outputs": [],
   "source": [
    "import pydotplus"
   ]
  },
  {
   "cell_type": "code",
   "execution_count": 128,
   "metadata": {},
   "outputs": [
    {
     "data": {
      "image/png": "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\n",
      "text/plain": [
       "<IPython.core.display.Image object>"
      ]
     },
     "execution_count": 128,
     "metadata": {},
     "output_type": "execute_result"
    }
   ],
   "source": [
    "graph = pydotplus.graph_from_dot_data(dot_data)\n",
    "Image(graph.create_png())"
   ]
  },
  {
   "cell_type": "markdown",
   "metadata": {},
   "source": [
    "## Controlling Tree growth"
   ]
  },
  {
   "cell_type": "code",
   "execution_count": 129,
   "metadata": {},
   "outputs": [
    {
     "data": {
      "image/png": "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
